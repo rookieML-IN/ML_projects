{
 "cells": [
  {
   "cell_type": "markdown",
   "metadata": {},
   "source": [
    "# Loading Libraries"
   ]
  },
  {
   "cell_type": "code",
   "execution_count": 43,
   "metadata": {},
   "outputs": [],
   "source": [
    "import pandas as pd\n",
    "import numpy as np\n",
    "from nsepy import get_history\n",
    "from datetime import datetime\n",
    "from sklearn.preprocessing import MinMaxScaler\n",
    "from keras.models import Sequential\n",
    "from keras.layers import Dense\n",
    "from keras.layers import LSTM\n",
    "import time\n",
    "import matplotlib.pyplot as plt\n",
    "from textblob import TextBlob"
   ]
  },
  {
   "cell_type": "markdown",
   "metadata": {},
   "source": [
    "# Fetching Numerical Data"
   ]
  },
  {
   "cell_type": "code",
   "execution_count": 48,
   "metadata": {},
   "outputs": [],
   "source": [
    "# Defining the Time period \n",
    "\n",
    "start_date = datetime(2010,8,8)\n",
    "end_date = datetime(2016,7,1)\n",
    "\n",
    "# Fetching the Data\n",
    "\n",
    "Stock_df = get_history(symbol='AXISBANK', start = start_date, end =end_date)"
   ]
  },
  {
   "cell_type": "markdown",
   "metadata": {},
   "source": [
    "## Basic Exploration"
   ]
  },
  {
   "cell_type": "code",
   "execution_count": 49,
   "metadata": {},
   "outputs": [
    {
     "name": "stdout",
     "output_type": "stream",
     "text": [
      "The Shape of the Dataframe is:  (1469, 14)\n"
     ]
    }
   ],
   "source": [
    "print('The Shape of the Dataframe is: ',Stock_df.shape)"
   ]
  },
  {
   "cell_type": "code",
   "execution_count": 50,
   "metadata": {},
   "outputs": [
    {
     "data": {
      "text/html": [
       "<div>\n",
       "<style scoped>\n",
       "    .dataframe tbody tr th:only-of-type {\n",
       "        vertical-align: middle;\n",
       "    }\n",
       "\n",
       "    .dataframe tbody tr th {\n",
       "        vertical-align: top;\n",
       "    }\n",
       "\n",
       "    .dataframe thead th {\n",
       "        text-align: right;\n",
       "    }\n",
       "</style>\n",
       "<table border=\"1\" class=\"dataframe\">\n",
       "  <thead>\n",
       "    <tr style=\"text-align: right;\">\n",
       "      <th></th>\n",
       "      <th>Symbol</th>\n",
       "      <th>Series</th>\n",
       "      <th>Prev Close</th>\n",
       "      <th>Open</th>\n",
       "      <th>High</th>\n",
       "      <th>Low</th>\n",
       "      <th>Last</th>\n",
       "      <th>Close</th>\n",
       "      <th>VWAP</th>\n",
       "      <th>Volume</th>\n",
       "      <th>Turnover</th>\n",
       "      <th>Trades</th>\n",
       "      <th>Deliverable Volume</th>\n",
       "      <th>%Deliverble</th>\n",
       "    </tr>\n",
       "    <tr>\n",
       "      <th>Date</th>\n",
       "      <th></th>\n",
       "      <th></th>\n",
       "      <th></th>\n",
       "      <th></th>\n",
       "      <th></th>\n",
       "      <th></th>\n",
       "      <th></th>\n",
       "      <th></th>\n",
       "      <th></th>\n",
       "      <th></th>\n",
       "      <th></th>\n",
       "      <th></th>\n",
       "      <th></th>\n",
       "      <th></th>\n",
       "    </tr>\n",
       "  </thead>\n",
       "  <tbody>\n",
       "    <tr>\n",
       "      <th>2010-08-09</th>\n",
       "      <td>AXISBANK</td>\n",
       "      <td>EQ</td>\n",
       "      <td>1314.3</td>\n",
       "      <td>1314.3</td>\n",
       "      <td>1321.80</td>\n",
       "      <td>1294.00</td>\n",
       "      <td>1310.3</td>\n",
       "      <td>1309.8</td>\n",
       "      <td>1306.78</td>\n",
       "      <td>1572650</td>\n",
       "      <td>2.055112e+14</td>\n",
       "      <td>NaN</td>\n",
       "      <td>908682</td>\n",
       "      <td>0.5778</td>\n",
       "    </tr>\n",
       "    <tr>\n",
       "      <th>2010-08-10</th>\n",
       "      <td>AXISBANK</td>\n",
       "      <td>EQ</td>\n",
       "      <td>1309.8</td>\n",
       "      <td>1310.0</td>\n",
       "      <td>1315.00</td>\n",
       "      <td>1288.50</td>\n",
       "      <td>1291.7</td>\n",
       "      <td>1294.9</td>\n",
       "      <td>1302.82</td>\n",
       "      <td>1348168</td>\n",
       "      <td>1.756414e+14</td>\n",
       "      <td>NaN</td>\n",
       "      <td>731702</td>\n",
       "      <td>0.5427</td>\n",
       "    </tr>\n",
       "    <tr>\n",
       "      <th>2010-08-11</th>\n",
       "      <td>AXISBANK</td>\n",
       "      <td>EQ</td>\n",
       "      <td>1294.9</td>\n",
       "      <td>1294.9</td>\n",
       "      <td>1301.50</td>\n",
       "      <td>1276.65</td>\n",
       "      <td>1291.6</td>\n",
       "      <td>1289.1</td>\n",
       "      <td>1286.80</td>\n",
       "      <td>1324664</td>\n",
       "      <td>1.704573e+14</td>\n",
       "      <td>NaN</td>\n",
       "      <td>706726</td>\n",
       "      <td>0.5335</td>\n",
       "    </tr>\n",
       "    <tr>\n",
       "      <th>2010-08-12</th>\n",
       "      <td>AXISBANK</td>\n",
       "      <td>EQ</td>\n",
       "      <td>1289.1</td>\n",
       "      <td>1280.0</td>\n",
       "      <td>1319.85</td>\n",
       "      <td>1274.85</td>\n",
       "      <td>1318.0</td>\n",
       "      <td>1315.6</td>\n",
       "      <td>1303.50</td>\n",
       "      <td>1195305</td>\n",
       "      <td>1.558077e+14</td>\n",
       "      <td>NaN</td>\n",
       "      <td>398046</td>\n",
       "      <td>0.3330</td>\n",
       "    </tr>\n",
       "    <tr>\n",
       "      <th>2010-08-13</th>\n",
       "      <td>AXISBANK</td>\n",
       "      <td>EQ</td>\n",
       "      <td>1315.6</td>\n",
       "      <td>1320.0</td>\n",
       "      <td>1336.00</td>\n",
       "      <td>1320.00</td>\n",
       "      <td>1332.2</td>\n",
       "      <td>1328.2</td>\n",
       "      <td>1329.16</td>\n",
       "      <td>906967</td>\n",
       "      <td>1.205503e+14</td>\n",
       "      <td>NaN</td>\n",
       "      <td>451527</td>\n",
       "      <td>0.4978</td>\n",
       "    </tr>\n",
       "  </tbody>\n",
       "</table>\n",
       "</div>"
      ],
      "text/plain": [
       "              Symbol Series  Prev Close    Open     High      Low    Last  \\\n",
       "Date                                                                        \n",
       "2010-08-09  AXISBANK     EQ      1314.3  1314.3  1321.80  1294.00  1310.3   \n",
       "2010-08-10  AXISBANK     EQ      1309.8  1310.0  1315.00  1288.50  1291.7   \n",
       "2010-08-11  AXISBANK     EQ      1294.9  1294.9  1301.50  1276.65  1291.6   \n",
       "2010-08-12  AXISBANK     EQ      1289.1  1280.0  1319.85  1274.85  1318.0   \n",
       "2010-08-13  AXISBANK     EQ      1315.6  1320.0  1336.00  1320.00  1332.2   \n",
       "\n",
       "             Close     VWAP   Volume      Turnover  Trades  \\\n",
       "Date                                                         \n",
       "2010-08-09  1309.8  1306.78  1572650  2.055112e+14     NaN   \n",
       "2010-08-10  1294.9  1302.82  1348168  1.756414e+14     NaN   \n",
       "2010-08-11  1289.1  1286.80  1324664  1.704573e+14     NaN   \n",
       "2010-08-12  1315.6  1303.50  1195305  1.558077e+14     NaN   \n",
       "2010-08-13  1328.2  1329.16   906967  1.205503e+14     NaN   \n",
       "\n",
       "            Deliverable Volume  %Deliverble  \n",
       "Date                                         \n",
       "2010-08-09              908682       0.5778  \n",
       "2010-08-10              731702       0.5427  \n",
       "2010-08-11              706726       0.5335  \n",
       "2010-08-12              398046       0.3330  \n",
       "2010-08-13              451527       0.4978  "
      ]
     },
     "execution_count": 50,
     "metadata": {},
     "output_type": "execute_result"
    }
   ],
   "source": [
    "Stock_df.head()"
   ]
  },
  {
   "cell_type": "code",
   "execution_count": 116,
   "metadata": {},
   "outputs": [
    {
     "data": {
      "text/html": [
       "<div>\n",
       "<style scoped>\n",
       "    .dataframe tbody tr th:only-of-type {\n",
       "        vertical-align: middle;\n",
       "    }\n",
       "\n",
       "    .dataframe tbody tr th {\n",
       "        vertical-align: top;\n",
       "    }\n",
       "\n",
       "    .dataframe thead th {\n",
       "        text-align: right;\n",
       "    }\n",
       "</style>\n",
       "<table border=\"1\" class=\"dataframe\">\n",
       "  <thead>\n",
       "    <tr style=\"text-align: right;\">\n",
       "      <th></th>\n",
       "      <th>Symbol</th>\n",
       "      <th>Series</th>\n",
       "      <th>Prev Close</th>\n",
       "      <th>Open</th>\n",
       "      <th>High</th>\n",
       "      <th>Low</th>\n",
       "      <th>Last</th>\n",
       "      <th>Close</th>\n",
       "      <th>VWAP</th>\n",
       "      <th>Volume</th>\n",
       "      <th>Turnover</th>\n",
       "      <th>Trades</th>\n",
       "      <th>Deliverable Volume</th>\n",
       "      <th>%Deliverble</th>\n",
       "      <th>Trade_Date</th>\n",
       "    </tr>\n",
       "    <tr>\n",
       "      <th>Date</th>\n",
       "      <th></th>\n",
       "      <th></th>\n",
       "      <th></th>\n",
       "      <th></th>\n",
       "      <th></th>\n",
       "      <th></th>\n",
       "      <th></th>\n",
       "      <th></th>\n",
       "      <th></th>\n",
       "      <th></th>\n",
       "      <th></th>\n",
       "      <th></th>\n",
       "      <th></th>\n",
       "      <th></th>\n",
       "      <th></th>\n",
       "    </tr>\n",
       "  </thead>\n",
       "  <tbody>\n",
       "    <tr>\n",
       "      <th>2010-08-09</th>\n",
       "      <td>AXISBANK</td>\n",
       "      <td>EQ</td>\n",
       "      <td>1314.3</td>\n",
       "      <td>1314.3</td>\n",
       "      <td>1321.80</td>\n",
       "      <td>1294.00</td>\n",
       "      <td>1310.3</td>\n",
       "      <td>1309.8</td>\n",
       "      <td>1306.78</td>\n",
       "      <td>1572650</td>\n",
       "      <td>2.055112e+14</td>\n",
       "      <td>NaN</td>\n",
       "      <td>908682</td>\n",
       "      <td>0.5778</td>\n",
       "      <td>2010-08-09</td>\n",
       "    </tr>\n",
       "    <tr>\n",
       "      <th>2010-08-10</th>\n",
       "      <td>AXISBANK</td>\n",
       "      <td>EQ</td>\n",
       "      <td>1309.8</td>\n",
       "      <td>1310.0</td>\n",
       "      <td>1315.00</td>\n",
       "      <td>1288.50</td>\n",
       "      <td>1291.7</td>\n",
       "      <td>1294.9</td>\n",
       "      <td>1302.82</td>\n",
       "      <td>1348168</td>\n",
       "      <td>1.756414e+14</td>\n",
       "      <td>NaN</td>\n",
       "      <td>731702</td>\n",
       "      <td>0.5427</td>\n",
       "      <td>2010-08-10</td>\n",
       "    </tr>\n",
       "    <tr>\n",
       "      <th>2010-08-11</th>\n",
       "      <td>AXISBANK</td>\n",
       "      <td>EQ</td>\n",
       "      <td>1294.9</td>\n",
       "      <td>1294.9</td>\n",
       "      <td>1301.50</td>\n",
       "      <td>1276.65</td>\n",
       "      <td>1291.6</td>\n",
       "      <td>1289.1</td>\n",
       "      <td>1286.80</td>\n",
       "      <td>1324664</td>\n",
       "      <td>1.704573e+14</td>\n",
       "      <td>NaN</td>\n",
       "      <td>706726</td>\n",
       "      <td>0.5335</td>\n",
       "      <td>2010-08-11</td>\n",
       "    </tr>\n",
       "    <tr>\n",
       "      <th>2010-08-12</th>\n",
       "      <td>AXISBANK</td>\n",
       "      <td>EQ</td>\n",
       "      <td>1289.1</td>\n",
       "      <td>1280.0</td>\n",
       "      <td>1319.85</td>\n",
       "      <td>1274.85</td>\n",
       "      <td>1318.0</td>\n",
       "      <td>1315.6</td>\n",
       "      <td>1303.50</td>\n",
       "      <td>1195305</td>\n",
       "      <td>1.558077e+14</td>\n",
       "      <td>NaN</td>\n",
       "      <td>398046</td>\n",
       "      <td>0.3330</td>\n",
       "      <td>2010-08-12</td>\n",
       "    </tr>\n",
       "    <tr>\n",
       "      <th>2010-08-13</th>\n",
       "      <td>AXISBANK</td>\n",
       "      <td>EQ</td>\n",
       "      <td>1315.6</td>\n",
       "      <td>1320.0</td>\n",
       "      <td>1336.00</td>\n",
       "      <td>1320.00</td>\n",
       "      <td>1332.2</td>\n",
       "      <td>1328.2</td>\n",
       "      <td>1329.16</td>\n",
       "      <td>906967</td>\n",
       "      <td>1.205503e+14</td>\n",
       "      <td>NaN</td>\n",
       "      <td>451527</td>\n",
       "      <td>0.4978</td>\n",
       "      <td>2010-08-13</td>\n",
       "    </tr>\n",
       "  </tbody>\n",
       "</table>\n",
       "</div>"
      ],
      "text/plain": [
       "              Symbol Series  Prev Close    Open     High      Low    Last  \\\n",
       "Date                                                                        \n",
       "2010-08-09  AXISBANK     EQ      1314.3  1314.3  1321.80  1294.00  1310.3   \n",
       "2010-08-10  AXISBANK     EQ      1309.8  1310.0  1315.00  1288.50  1291.7   \n",
       "2010-08-11  AXISBANK     EQ      1294.9  1294.9  1301.50  1276.65  1291.6   \n",
       "2010-08-12  AXISBANK     EQ      1289.1  1280.0  1319.85  1274.85  1318.0   \n",
       "2010-08-13  AXISBANK     EQ      1315.6  1320.0  1336.00  1320.00  1332.2   \n",
       "\n",
       "             Close     VWAP   Volume      Turnover  Trades  \\\n",
       "Date                                                         \n",
       "2010-08-09  1309.8  1306.78  1572650  2.055112e+14     NaN   \n",
       "2010-08-10  1294.9  1302.82  1348168  1.756414e+14     NaN   \n",
       "2010-08-11  1289.1  1286.80  1324664  1.704573e+14     NaN   \n",
       "2010-08-12  1315.6  1303.50  1195305  1.558077e+14     NaN   \n",
       "2010-08-13  1328.2  1329.16   906967  1.205503e+14     NaN   \n",
       "\n",
       "            Deliverable Volume  %Deliverble  Trade_Date  \n",
       "Date                                                     \n",
       "2010-08-09              908682       0.5778  2010-08-09  \n",
       "2010-08-10              731702       0.5427  2010-08-10  \n",
       "2010-08-11              706726       0.5335  2010-08-11  \n",
       "2010-08-12              398046       0.3330  2010-08-12  \n",
       "2010-08-13              451527       0.4978  2010-08-13  "
      ]
     },
     "execution_count": 116,
     "metadata": {},
     "output_type": "execute_result"
    }
   ],
   "source": [
    "# Creating a Column as Date\n",
    "\n",
    "Stock_df['Trade_Date'] = Stock_df.index\n",
    "Stock_df.head()"
   ]
  },
  {
   "cell_type": "code",
   "execution_count": 118,
   "metadata": {},
   "outputs": [],
   "source": [
    "# Changing the Data Type of the 'Trade Date' variable\n",
    "\n",
    "Stock_df['Trade_Date'] = pd.to_datetime(Stock_df['Trade_Date'],\n",
    "                                           format = '%Y-%m-%d')"
   ]
  },
  {
   "cell_type": "code",
   "execution_count": 53,
   "metadata": {},
   "outputs": [
    {
     "data": {
      "text/plain": [
       "<matplotlib.axes._subplots.AxesSubplot at 0x22411f1b970>"
      ]
     },
     "execution_count": 53,
     "metadata": {},
     "output_type": "execute_result"
    },
    {
     "data": {
      "image/png": "[encoded data removed]",
      "text/plain": [
       "<Figure size 1440x432 with 1 Axes>"
      ]
     },
     "metadata": {
      "needs_background": "light"
     },
     "output_type": "display_data"
    }
   ],
   "source": [
    "# Trend of Closing Prices of the Stocks\n",
    "\n",
    "%matplotlib inline\n",
    "Stock_df.plot(x = 'Trade_Date', y = ['Close'], kind = 'line', figsize = (20,6), rot=20, grid = 1,\n",
    "             title = 'Closing Price of AXISBANK since August-2010')"
   ]
  },
  {
   "cell_type": "markdown",
   "metadata": {},
   "source": [
    "## Preparing the Data"
   ]
  },
  {
   "cell_type": "code",
   "execution_count": 55,
   "metadata": {},
   "outputs": [
    {
     "data": {
      "text/plain": [
       "array([[0.5681605 ],\n",
       "       [0.55914304],\n",
       "       [0.55563289],\n",
       "       [0.57167065],\n",
       "       [0.57929615]])"
      ]
     },
     "execution_count": 55,
     "metadata": {},
     "output_type": "execute_result"
    }
   ],
   "source": [
    "FullData = Stock_df[['Close']].values\n",
    "\n",
    "# Feature Scaling for Faster Training\n",
    "\n",
    "mx = MinMaxScaler()\n",
    "\n",
    "DataScaler = mx.fit(FullData)\n",
    "X = DataScaler.transform(FullData)\n",
    "\n",
    "# Confirming the Scaling\n",
    "\n",
    "X[0:5]"
   ]
  },
  {
   "cell_type": "markdown",
   "metadata": {},
   "source": [
    "## Splitting the Samples"
   ]
  },
  {
   "cell_type": "code",
   "execution_count": 56,
   "metadata": {},
   "outputs": [],
   "source": [
    "X_samples = list()\n",
    "y_samples = list()\n",
    "\n",
    "NumberOfRows = len(X)\n",
    "TimeSteps = 10  # Next Day's Price Prediction is based om last N number of past day's prices\n",
    "\n",
    "for i in range(TimeSteps, NumberOfRows, 1):\n",
    "    x_sample = X[i-TimeSteps:i]\n",
    "    y_sample = X[i]\n",
    "    X_samples.append(x_sample)\n",
    "    y_samples.append(y_sample)"
   ]
  },
  {
   "cell_type": "code",
   "execution_count": 57,
   "metadata": {},
   "outputs": [
    {
     "name": "stdout",
     "output_type": "stream",
     "text": [
      "(1459, 10, 1)\n",
      "(1459, 1)\n"
     ]
    }
   ],
   "source": [
    "# Reshaping of the Input as a 3D\n",
    "\n",
    "X_data=np.array(X_samples)\n",
    "X_data=X_data.reshape(X_data.shape[0],X_data.shape[1], 1) # (Samples, Time Steps, Features)\n",
    "print(X_data.shape)\n",
    "\n",
    "y_data=np.array(y_samples)\n",
    "y_data=y_data.reshape(y_data.shape[0], 1)\n",
    "print(y_data.shape)"
   ]
  },
  {
   "cell_type": "code",
   "execution_count": 58,
   "metadata": {},
   "outputs": [
    {
     "name": "stdout",
     "output_type": "stream",
     "text": [
      "(1449, 10, 1)\n",
      "(1449, 1)\n",
      "(10, 10, 1)\n",
      "(10, 1)\n"
     ]
    }
   ],
   "source": [
    "# Choosing the number of testing data records\n",
    "TestingRecords=10\n",
    "\n",
    "# Splitting the data into train and test\n",
    "\n",
    "X_train=X_data[:-TestingRecords]\n",
    "X_test=X_data[-TestingRecords:]\n",
    "y_train=y_data[:-TestingRecords]\n",
    "y_test=y_data[-TestingRecords:]\n",
    "\n",
    "# Printing the shape of training and testing\n",
    "\n",
    "print(X_train.shape)\n",
    "print(y_train.shape)\n",
    "print(X_test.shape)\n",
    "print(y_test.shape)"
   ]
  },
  {
   "cell_type": "markdown",
   "metadata": {},
   "source": [
    "## Fitting the LSTM Model"
   ]
  },
  {
   "cell_type": "code",
   "execution_count": 59,
   "metadata": {},
   "outputs": [
    {
     "name": "stdout",
     "output_type": "stream",
     "text": [
      "Number of TimeSteps: 10\n",
      "Number of Features: 1\n"
     ]
    }
   ],
   "source": [
    "# Defining Input shapes for LSTM\n",
    "TimeSteps=X_train.shape[1]\n",
    "TotalFeatures=X_train.shape[2]\n",
    "print(\"Number of TimeSteps:\", TimeSteps)\n",
    "print(\"Number of Features:\", TotalFeatures)\n",
    "\n",
    "regressor = Sequential()\n",
    "\n",
    "regressor.add(LSTM(units = 10, activation = 'relu', input_shape = (TimeSteps, TotalFeatures), return_sequences=True))\n",
    "regressor.add(LSTM(units = 5, activation = 'relu', input_shape = (TimeSteps, TotalFeatures), return_sequences=True))\n",
    "regressor.add(LSTM(units = 5, activation = 'relu', return_sequences=False ))\n",
    "\n",
    "regressor.add(Dense(units = 1))\n",
    "\n",
    "regressor.compile(optimizer = 'adam', loss = 'mean_squared_error')"
   ]
  },
  {
   "cell_type": "code",
   "execution_count": 29,
   "metadata": {},
   "outputs": [
    {
     "name": "stdout",
     "output_type": "stream",
     "text": [
      "Epoch 1/100\n",
      "290/290 [==============================] - 2s 6ms/step - loss: 0.0418\n",
      "Epoch 2/100\n",
      "290/290 [==============================] - 2s 6ms/step - loss: 0.0029\n",
      "Epoch 3/100\n",
      "290/290 [==============================] - 2s 6ms/step - loss: 0.0024\n",
      "Epoch 4/100\n",
      "290/290 [==============================] - 2s 6ms/step - loss: 0.0021\n",
      "Epoch 5/100\n",
      "290/290 [==============================] - 3s 9ms/step - loss: 0.0019\n",
      "Epoch 6/100\n",
      "290/290 [==============================] - 3s 9ms/step - loss: 0.0018\n",
      "Epoch 7/100\n",
      "290/290 [==============================] - 3s 10ms/step - loss: 0.0017\n",
      "Epoch 8/100\n",
      "290/290 [==============================] - 7s 24ms/step - loss: 0.0016: 0s - lo\n",
      "Epoch 9/100\n",
      "290/290 [==============================] - 7s 24ms/step - loss: 0.0017\n",
      "Epoch 10/100\n",
      "290/290 [==============================] - 6s 20ms/step - loss: 0.0016\n",
      "Epoch 11/100\n",
      "290/290 [==============================] - 3s 12ms/step - loss: 0.0020\n",
      "Epoch 12/100\n",
      "290/290 [==============================] - 2s 6ms/step - loss: 0.0014\n",
      "Epoch 13/100\n",
      "290/290 [==============================] - 3s 9ms/step - loss: 0.0013\n",
      "Epoch 14/100\n",
      "290/290 [==============================] - 3s 9ms/step - loss: 0.0015\n",
      "Epoch 15/100\n",
      "290/290 [==============================] - 3s 9ms/step - loss: 0.0013\n",
      "Epoch 16/100\n",
      "290/290 [==============================] - 7s 24ms/step - loss: 0.0014: 1 - ETA: 0s - loss: 0. - ETA: 0s - loss: 0 - ETA: 0s - loss: 0.\n",
      "Epoch 17/100\n",
      "290/290 [==============================] - 7s 25ms/step - loss: 0.0013\n",
      "Epoch 18/100\n",
      "290/290 [==============================] - 6s 20ms/step - loss: 0.0013 ETA: 1\n",
      "Epoch 19/100\n",
      "290/290 [==============================] - 4s 12ms/step - loss: 0.0013\n",
      "Epoch 20/100\n",
      "290/290 [==============================] - 2s 6ms/step - loss: 0.0013\n",
      "Epoch 21/100\n",
      "290/290 [==============================] - 2s 6ms/step - loss: 0.0012\n",
      "Epoch 22/100\n",
      "290/290 [==============================] - 5s 18ms/step - loss: 0.0013\n",
      "Epoch 23/100\n",
      "290/290 [==============================] - 8s 28ms/step - loss: 0.0012: 2s - lo - \n",
      "Epoch 24/100\n",
      "290/290 [==============================] - 6s 21ms/step - loss: 0.0012\n",
      "Epoch 25/100\n",
      "290/290 [==============================] - 5s 19ms/step - loss: 0.0012\n",
      "Epoch 26/100\n",
      "290/290 [==============================] - 3s 9ms/step - loss: 0.0011\n",
      "Epoch 27/100\n",
      "290/290 [==============================] - 5s 16ms/step - loss: 0.0010  - ETA: 0s \n",
      "Epoch 28/100\n",
      "290/290 [==============================] - 9s 32ms/step - loss: 0.0010\n",
      "Epoch 29/100\n",
      "290/290 [==============================] - 6s 20ms/step - loss: 9.9594e-04\n",
      "Epoch 30/100\n",
      "290/290 [==============================] - 5s 17ms/step - loss: 9.7498e-04\n",
      "Epoch 31/100\n",
      "290/290 [==============================] - 2s 8ms/step - loss: 9.9079e-04\n",
      "Epoch 32/100\n",
      "290/290 [==============================] - 2s 6ms/step - loss: 0.0010\n",
      "Epoch 33/100\n",
      "290/290 [==============================] - 2s 6ms/step - loss: 8.7969e-04\n",
      "Epoch 34/100\n",
      "290/290 [==============================] - 3s 11ms/step - loss: 9.1416e-04\n",
      "Epoch 35/100\n",
      "290/290 [==============================] - 2s 7ms/step - loss: 9.2996e-04\n",
      "Epoch 36/100\n",
      "290/290 [==============================] - 2s 7ms/step - loss: 8.5451e-04\n",
      "Epoch 37/100\n",
      "290/290 [==============================] - 11s 39ms/step - loss: 8.5864e-04\n",
      "Epoch 38/100\n",
      "290/290 [==============================] - 8s 29ms/step - loss: 9.3175e-04\n",
      "Epoch 39/100\n",
      "290/290 [==============================] - 5s 18ms/step - loss: 8.4960e-04\n",
      "Epoch 40/100\n",
      "290/290 [==============================] - 2s 6ms/step - loss: 8.0617e-04\n",
      "Epoch 41/100\n",
      "290/290 [==============================] - 4s 14ms/step - loss: 7.9624e-04: 0s - loss:\n",
      "Epoch 42/100\n",
      "290/290 [==============================] - 12s 42ms/step - loss: 7.8141e-04\n",
      "Epoch 43/100\n",
      "290/290 [==============================] - 6s 21ms/step - loss: 7.8659e-04\n",
      "Epoch 44/100\n",
      "290/290 [==============================] - 4s 13ms/step - loss: 8.1174e-04\n",
      "Epoch 45/100\n",
      "290/290 [==============================] - 2s 6ms/step - loss: 8.3404e-04\n",
      "Epoch 46/100\n",
      "290/290 [==============================] - 2s 6ms/step - loss: 7.3990e-04\n",
      "Epoch 47/100\n",
      "290/290 [==============================] - 3s 10ms/step - loss: 7.3143e-04\n",
      "Epoch 48/100\n",
      "290/290 [==============================] - 2s 8ms/step - loss: 7.8569e-04\n",
      "Epoch 49/100\n",
      "290/290 [==============================] - 3s 12ms/step - loss: 7.4638e-04\n",
      "Epoch 50/100\n",
      "290/290 [==============================] - 9s 31ms/step - loss: 7.3638e-04\n",
      "Epoch 51/100\n",
      "290/290 [==============================] - 8s 28ms/step - loss: 7.6457e-04\n",
      "Epoch 52/100\n",
      "290/290 [==============================] - 6s 21ms/step - loss: 7.0207e-04: 0s - loss\n",
      "Epoch 53/100\n",
      "290/290 [==============================] - 2s 8ms/step - loss: 7.3466e-04\n",
      "Epoch 54/100\n",
      "290/290 [==============================] - 2s 6ms/step - loss: 7.8341e-04\n",
      "Epoch 55/100\n",
      "290/290 [==============================] - 3s 12ms/step - loss: 7.8519e-04\n",
      "Epoch 56/100\n",
      "290/290 [==============================] - 8s 27ms/step - loss: 6.4485e-04: 0s - loss: 6.\n",
      "Epoch 57/100\n",
      "290/290 [==============================] - 7s 25ms/step - loss: 6.7308e-04\n",
      "Epoch 58/100\n",
      "290/290 [==============================] - 6s 21ms/step - loss: 6.7137e-04\n",
      "Epoch 59/100\n",
      "290/290 [==============================] - 4s 13ms/step - loss: 6.9283e-04\n",
      "Epoch 60/100\n",
      "290/290 [==============================] - 4s 12ms/step - loss: 6.9227e-04:\n",
      "Epoch 61/100\n",
      "290/290 [==============================] - 6s 20ms/step - loss: 6.5961e-04\n",
      "Epoch 62/100\n",
      "290/290 [==============================] - 10s 33ms/step - loss: 7.5653e-04\n",
      "Epoch 63/100\n",
      "290/290 [==============================] - 6s 19ms/step - loss: 6.4298e-04\n",
      "Epoch 64/100\n",
      "290/290 [==============================] - 5s 16ms/step - loss: 7.3693e-04\n",
      "Epoch 65/100\n",
      "290/290 [==============================] - 2s 6ms/step - loss: 6.6056e-04\n",
      "Epoch 66/100\n",
      "290/290 [==============================] - 2s 8ms/step - loss: 6.7763e-04\n",
      "Epoch 67/100\n",
      "290/290 [==============================] - 3s 10ms/step - loss: 6.8092e-04\n",
      "Epoch 68/100\n",
      "290/290 [==============================] - 3s 12ms/step - loss: 6.2620e-04\n",
      "Epoch 69/100\n",
      "290/290 [==============================] - 3s 12ms/step - loss: 6.5110e-04\n",
      "Epoch 70/100\n",
      "290/290 [==============================] - 2s 6ms/step - loss: 6.8008e-04\n",
      "Epoch 71/100\n",
      "290/290 [==============================] - 2s 6ms/step - loss: 6.5123e-04\n",
      "Epoch 72/100\n",
      "290/290 [==============================] - 2s 8ms/step - loss: 6.6731e-04\n",
      "Epoch 73/100\n",
      "290/290 [==============================] - 3s 9ms/step - loss: 6.6171e-04\n",
      "Epoch 74/100\n",
      "290/290 [==============================] - 2s 6ms/step - loss: 6.6582e-04\n",
      "Epoch 75/100\n",
      "290/290 [==============================] - 4s 12ms/step - loss: 6.3181e-04\n",
      "Epoch 76/100\n",
      "290/290 [==============================] - 3s 10ms/step - loss: 6.4456e-04\n",
      "Epoch 77/100\n",
      "290/290 [==============================] - 2s 7ms/step - loss: 6.5979e-04\n",
      "Epoch 78/100\n",
      "290/290 [==============================] - 2s 6ms/step - loss: 6.6366e-04\n",
      "Epoch 79/100\n",
      "290/290 [==============================] - 2s 6ms/step - loss: 6.2817e-04\n",
      "Epoch 80/100\n",
      "290/290 [==============================] - 3s 11ms/step - loss: 6.5057e-04\n",
      "Epoch 81/100\n",
      "290/290 [==============================] - 2s 7ms/step - loss: 6.3352e-04\n",
      "Epoch 82/100\n",
      "290/290 [==============================] - 7s 23ms/step - loss: 6.3924e-04\n",
      "Epoch 83/100\n",
      "290/290 [==============================] - 8s 27ms/step - loss: 6.5946e-04\n",
      "Epoch 84/100\n",
      "290/290 [==============================] - 6s 21ms/step - loss: 6.4086e-04\n",
      "Epoch 85/100\n",
      "290/290 [==============================] - 5s 17ms/step - loss: 6.3806e-04\n",
      "Epoch 86/100\n",
      "290/290 [==============================] - 2s 7ms/step - loss: 6.2999e-04\n",
      "Epoch 87/100\n",
      "290/290 [==============================] - 6s 22ms/step - loss: 6.4361e-04\n",
      "Epoch 88/100\n",
      "290/290 [==============================] - ETA: 0s - loss: 6.4758e-04- ETA: 3s - loss: 7 - 10s 33ms/step - loss: 6.4386e-04\n",
      "Epoch 89/100\n",
      "290/290 [==============================] - 5s 19ms/step - loss: 5.8188e-04\n",
      "Epoch 90/100\n",
      "290/290 [==============================] - 4s 15ms/step - loss: 6.8964e-04\n",
      "Epoch 91/100\n",
      "290/290 [==============================] - 4s 12ms/step - loss: 6.1306e-04: 0s - loss\n",
      "Epoch 92/100\n",
      "290/290 [==============================] - 2s 7ms/step - loss: 6.3464e-04\n",
      "Epoch 93/100\n",
      "290/290 [==============================] - 3s 10ms/step - loss: 5.5894e-04\n",
      "Epoch 94/100\n",
      "290/290 [==============================] - 3s 10ms/step - loss: 7.0344e-04\n",
      "Epoch 95/100\n",
      "290/290 [==============================] - 3s 10ms/step - loss: 6.2781e-04\n",
      "Epoch 96/100\n",
      "290/290 [==============================] - 2s 6ms/step - loss: 6.1177e-04\n",
      "Epoch 97/100\n",
      "290/290 [==============================] - 3s 11ms/step - loss: 6.3269e-04\n",
      "Epoch 98/100\n",
      "290/290 [==============================] - 2s 6ms/step - loss: 6.1828e-04\n",
      "Epoch 99/100\n",
      "290/290 [==============================] - 2s 6ms/step - loss: 6.1153e-04\n",
      "Epoch 100/100\n",
      "290/290 [==============================] - 2s 8ms/step - loss: 6.1694e-04A: 0s - loss: 6\n",
      "############### Total Time Taken:  7 Minutes #############\n"
     ]
    }
   ],
   "source": [
    "# Measuring the time taken by the model to train\n",
    "\n",
    "StartTime = time.time()\n",
    "\n",
    "# Fitting RNN to the Training set\n",
    "\n",
    "regressor.fit(X_train, y_train, batch_size = 5, epochs = 100)\n",
    "\n",
    "EndTime=time.time()\n",
    "print(\"############### Total Time Taken: \", round((EndTime-StartTime)/60), 'Minutes #############')"
   ]
  },
  {
   "cell_type": "markdown",
   "metadata": {},
   "source": [
    "# Generating Predictions"
   ]
  },
  {
   "cell_type": "code",
   "execution_count": 31,
   "metadata": {},
   "outputs": [
    {
     "name": "stdout",
     "output_type": "stream",
     "text": [
      "Accuracy of the Model is:  97.43\n"
     ]
    }
   ],
   "source": [
    "# Making predictions on test data\n",
    "predicted_Price = regressor.predict(X_test)\n",
    "predicted_Price = DataScaler.inverse_transform(predicted_Price)\n",
    "\n",
    "# Getting the original price values for testing data\n",
    "orig=y_test\n",
    "orig=DataScaler.inverse_transform(y_test)\n",
    "\n",
    "# Accuracy of the predictions\n",
    "print('Accuracy of the Model is: ',np.round(100 - (100*(abs(orig-predicted_Price)/orig)).mean(),2))"
   ]
  },
  {
   "cell_type": "markdown",
   "metadata": {},
   "source": [
    "Accuracy of the base model is : 97.43"
   ]
  },
  {
   "cell_type": "markdown",
   "metadata": {},
   "source": [
    "## Plotting Predictions for Full Data"
   ]
  },
  {
   "cell_type": "code",
   "execution_count": 34,
   "metadata": {},
   "outputs": [
    {
     "data": {
      "image/png": "[encoded data removed]",
      "text/plain": [
       "<Figure size 1440x576 with 1 Axes>"
      ]
     },
     "metadata": {
      "needs_background": "light"
     },
     "output_type": "display_data"
    }
   ],
   "source": [
    "TrainPredictions=DataScaler.inverse_transform(regressor.predict(X_train))\n",
    "TestPredictions=DataScaler.inverse_transform(regressor.predict(X_test))\n",
    "\n",
    "FullDataPredictions=np.append(TrainPredictions, TestPredictions)\n",
    "FullDataOrig=FullData[TimeSteps:]\n",
    "\n",
    "# plotting the full data\n",
    "plt.plot(FullDataPredictions, color = 'blue', label = 'Predicted Price')\n",
    "plt.plot(FullDataOrig , color = 'lightblue', label = 'Original Price')\n",
    "\n",
    "\n",
    "plt.title('Stock Price Predictions')\n",
    "plt.xlabel('Trading Date')\n",
    "plt.ylabel('Stock Price')\n",
    "plt.legend()\n",
    "fig=plt.gcf()\n",
    "fig.set_figwidth(20)\n",
    "fig.set_figheight(8)\n",
    "plt.show()"
   ]
  },
  {
   "cell_type": "markdown",
   "metadata": {},
   "source": [
    "# Fetching Textual Data"
   ]
  },
  {
   "cell_type": "code",
   "execution_count": 6,
   "metadata": {},
   "outputs": [
    {
     "name": "stdout",
     "output_type": "stream",
     "text": [
      "<_io.TextIOWrapper name='stocknews_Combined_News_DJIA.csv' mode='r' encoding='cp1252'>\n"
     ]
    }
   ],
   "source": [
    "# Encoding Determination of the csv file\n",
    "\n",
    "with open('stocknews_Combined_News_DJIA.csv') as headlines:\n",
    "    print(headlines)"
   ]
  },
  {
   "cell_type": "code",
   "execution_count": 65,
   "metadata": {},
   "outputs": [
    {
     "name": "stdout",
     "output_type": "stream",
     "text": [
      "The shape of the Textual Dataframe is : (3424067, 3)\n"
     ]
    }
   ],
   "source": [
    "# Loading the News Headlines from the downloaded File\n",
    "\n",
    "stock_head = pd.read_csv('india-news-headlines.csv', encoding = 'cp1252',\n",
    "                        index_col = False)\n",
    "\n",
    "# Shape of the Dataframe\n",
    "\n",
    "print('The shape of the Textual Dataframe is :', stock_head.shape)"
   ]
  },
  {
   "cell_type": "markdown",
   "metadata": {},
   "source": [
    "# Basic Exploration"
   ]
  },
  {
   "cell_type": "code",
   "execution_count": 66,
   "metadata": {},
   "outputs": [
    {
     "data": {
      "text/html": [
       "<div>\n",
       "<style scoped>\n",
       "    .dataframe tbody tr th:only-of-type {\n",
       "        vertical-align: middle;\n",
       "    }\n",
       "\n",
       "    .dataframe tbody tr th {\n",
       "        vertical-align: top;\n",
       "    }\n",
       "\n",
       "    .dataframe thead th {\n",
       "        text-align: right;\n",
       "    }\n",
       "</style>\n",
       "<table border=\"1\" class=\"dataframe\">\n",
       "  <thead>\n",
       "    <tr style=\"text-align: right;\">\n",
       "      <th></th>\n",
       "      <th>publish_date</th>\n",
       "      <th>headline_category</th>\n",
       "      <th>headline_text</th>\n",
       "    </tr>\n",
       "  </thead>\n",
       "  <tbody>\n",
       "    <tr>\n",
       "      <th>0</th>\n",
       "      <td>20010102</td>\n",
       "      <td>unknown</td>\n",
       "      <td>Status quo will not be disturbed at Ayodhya; s...</td>\n",
       "    </tr>\n",
       "    <tr>\n",
       "      <th>1</th>\n",
       "      <td>20010102</td>\n",
       "      <td>unknown</td>\n",
       "      <td>Fissures in Hurriyat over Pak visit</td>\n",
       "    </tr>\n",
       "    <tr>\n",
       "      <th>2</th>\n",
       "      <td>20010102</td>\n",
       "      <td>unknown</td>\n",
       "      <td>America's unwanted heading for India?</td>\n",
       "    </tr>\n",
       "    <tr>\n",
       "      <th>3</th>\n",
       "      <td>20010102</td>\n",
       "      <td>unknown</td>\n",
       "      <td>For bigwigs; it is destination Goa</td>\n",
       "    </tr>\n",
       "    <tr>\n",
       "      <th>4</th>\n",
       "      <td>20010102</td>\n",
       "      <td>unknown</td>\n",
       "      <td>Extra buses to clear tourist traffic</td>\n",
       "    </tr>\n",
       "  </tbody>\n",
       "</table>\n",
       "</div>"
      ],
      "text/plain": [
       "   publish_date headline_category  \\\n",
       "0      20010102           unknown   \n",
       "1      20010102           unknown   \n",
       "2      20010102           unknown   \n",
       "3      20010102           unknown   \n",
       "4      20010102           unknown   \n",
       "\n",
       "                                       headline_text  \n",
       "0  Status quo will not be disturbed at Ayodhya; s...  \n",
       "1                Fissures in Hurriyat over Pak visit  \n",
       "2              America's unwanted heading for India?  \n",
       "3                 For bigwigs; it is destination Goa  \n",
       "4               Extra buses to clear tourist traffic  "
      ]
     },
     "execution_count": 66,
     "metadata": {},
     "output_type": "execute_result"
    }
   ],
   "source": [
    "stock_head.head()"
   ]
  },
  {
   "cell_type": "code",
   "execution_count": 27,
   "metadata": {},
   "outputs": [
    {
     "data": {
      "text/plain": [
       "1013"
      ]
     },
     "execution_count": 27,
     "metadata": {},
     "output_type": "execute_result"
    }
   ],
   "source": [
    "stock_head['headline_category'].nunique()"
   ]
  },
  {
   "cell_type": "code",
   "execution_count": 39,
   "metadata": {},
   "outputs": [
    {
     "data": {
      "text/plain": [
       "india                            288541\n",
       "unknown                          209582\n",
       "city.mumbai                      134428\n",
       "city.delhi                       127717\n",
       "business.india-business          116761\n",
       "city.chandigarh                  110453\n",
       "city.hyderabad                   104692\n",
       "city.bengaluru                    93663\n",
       "entertainment.hindi.bollywood     91376\n",
       "city.ahmedabad                    89513\n",
       "Name: headline_category, dtype: int64"
      ]
     },
     "execution_count": 39,
     "metadata": {},
     "output_type": "execute_result"
    }
   ],
   "source": [
    "stock_head['headline_category'].value_counts().head(10)"
   ]
  },
  {
   "cell_type": "code",
   "execution_count": 34,
   "metadata": {},
   "outputs": [
    {
     "name": "stdout",
     "output_type": "stream",
     "text": [
      "<class 'pandas.core.frame.DataFrame'>\n",
      "RangeIndex: 3424067 entries, 0 to 3424066\n",
      "Data columns (total 3 columns):\n",
      " #   Column             Dtype \n",
      "---  ------             ----- \n",
      " 0   publish_date       int64 \n",
      " 1   headline_category  object\n",
      " 2   headline_text      object\n",
      "dtypes: int64(1), object(2)\n",
      "memory usage: 78.4+ MB\n"
     ]
    }
   ],
   "source": [
    "stock_head.info()"
   ]
  },
  {
   "cell_type": "markdown",
   "metadata": {},
   "source": [
    "# Pre-processing"
   ]
  },
  {
   "cell_type": "code",
   "execution_count": 77,
   "metadata": {},
   "outputs": [],
   "source": [
    "# Changing the data type of the 'publish_date' column\n",
    "\n",
    "stock_head['publish_date'] = pd.to_datetime(stock_head['publish_date'],\n",
    "                                           format = '%Y%m%d')"
   ]
  },
  {
   "cell_type": "code",
   "execution_count": 78,
   "metadata": {},
   "outputs": [
    {
     "data": {
      "text/plain": [
       "0   2001-01-02\n",
       "1   2001-01-02\n",
       "2   2001-01-02\n",
       "3   2001-01-02\n",
       "4   2001-01-02\n",
       "Name: publish_date, dtype: datetime64[ns]"
      ]
     },
     "execution_count": 78,
     "metadata": {},
     "output_type": "execute_result"
    }
   ],
   "source": [
    "# Confirming the Changes\n",
    "stock_head['publish_date'].head()"
   ]
  },
  {
   "cell_type": "code",
   "execution_count": 79,
   "metadata": {},
   "outputs": [
    {
     "data": {
      "text/plain": [
       "(116761, 3)"
      ]
     },
     "execution_count": 79,
     "metadata": {},
     "output_type": "execute_result"
    }
   ],
   "source": [
    "# Creating a sub-set with relevant 'headline_category'\n",
    "\n",
    "stock_head_sub=stock_head[stock_head['headline_category']=='business.india-business']\n",
    "stock_head_sub.shape"
   ]
  },
  {
   "cell_type": "code",
   "execution_count": 82,
   "metadata": {},
   "outputs": [
    {
     "data": {
      "text/plain": [
       "(41190, 3)"
      ]
     },
     "execution_count": 82,
     "metadata": {},
     "output_type": "execute_result"
    }
   ],
   "source": [
    "# Creating another sub-set with date constrain\n",
    "\n",
    "stock_head_sub = stock_head_sub[(stock_head_sub['publish_date']>'2010-08-08') & (stock_head_sub['publish_date']<'2016-07-02')]\n",
    "stock_head_sub.shape"
   ]
  },
  {
   "cell_type": "code",
   "execution_count": 84,
   "metadata": {},
   "outputs": [
    {
     "data": {
      "text/html": [
       "<div>\n",
       "<style scoped>\n",
       "    .dataframe tbody tr th:only-of-type {\n",
       "        vertical-align: middle;\n",
       "    }\n",
       "\n",
       "    .dataframe tbody tr th {\n",
       "        vertical-align: top;\n",
       "    }\n",
       "\n",
       "    .dataframe thead th {\n",
       "        text-align: right;\n",
       "    }\n",
       "</style>\n",
       "<table border=\"1\" class=\"dataframe\">\n",
       "  <thead>\n",
       "    <tr style=\"text-align: right;\">\n",
       "      <th></th>\n",
       "      <th>publish_date</th>\n",
       "      <th>headline_category</th>\n",
       "      <th>headline_text</th>\n",
       "    </tr>\n",
       "  </thead>\n",
       "  <tbody>\n",
       "    <tr>\n",
       "      <th>959012</th>\n",
       "      <td>2010-08-09</td>\n",
       "      <td>business.india-business</td>\n",
       "      <td>Is Walmart retailing in India?</td>\n",
       "    </tr>\n",
       "    <tr>\n",
       "      <th>959023</th>\n",
       "      <td>2010-08-09</td>\n",
       "      <td>business.india-business</td>\n",
       "      <td>'Don't bank only on price-to-earning ratio'</td>\n",
       "    </tr>\n",
       "    <tr>\n",
       "      <th>959037</th>\n",
       "      <td>2010-08-09</td>\n",
       "      <td>business.india-business</td>\n",
       "      <td>GM may source Tavera engines from Sonalika</td>\n",
       "    </tr>\n",
       "    <tr>\n",
       "      <th>959039</th>\n",
       "      <td>2010-08-09</td>\n",
       "      <td>business.india-business</td>\n",
       "      <td>Ruia group will bid for SsangYong</td>\n",
       "    </tr>\n",
       "    <tr>\n",
       "      <th>959043</th>\n",
       "      <td>2010-08-09</td>\n",
       "      <td>business.india-business</td>\n",
       "      <td>Parsis' emotional connect with Tatas</td>\n",
       "    </tr>\n",
       "  </tbody>\n",
       "</table>\n",
       "</div>"
      ],
      "text/plain": [
       "       publish_date        headline_category  \\\n",
       "959012   2010-08-09  business.india-business   \n",
       "959023   2010-08-09  business.india-business   \n",
       "959037   2010-08-09  business.india-business   \n",
       "959039   2010-08-09  business.india-business   \n",
       "959043   2010-08-09  business.india-business   \n",
       "\n",
       "                                      headline_text  \n",
       "959012               Is Walmart retailing in India?  \n",
       "959023  'Don't bank only on price-to-earning ratio'  \n",
       "959037   GM may source Tavera engines from Sonalika  \n",
       "959039            Ruia group will bid for SsangYong  \n",
       "959043         Parsis' emotional connect with Tatas  "
      ]
     },
     "execution_count": 84,
     "metadata": {},
     "output_type": "execute_result"
    }
   ],
   "source": [
    "stock_head_sub.head()"
   ]
  },
  {
   "cell_type": "code",
   "execution_count": 85,
   "metadata": {},
   "outputs": [
    {
     "data": {
      "text/html": [
       "<div>\n",
       "<style scoped>\n",
       "    .dataframe tbody tr th:only-of-type {\n",
       "        vertical-align: middle;\n",
       "    }\n",
       "\n",
       "    .dataframe tbody tr th {\n",
       "        vertical-align: top;\n",
       "    }\n",
       "\n",
       "    .dataframe thead th {\n",
       "        text-align: right;\n",
       "    }\n",
       "</style>\n",
       "<table border=\"1\" class=\"dataframe\">\n",
       "  <thead>\n",
       "    <tr style=\"text-align: right;\">\n",
       "      <th></th>\n",
       "      <th>publish_date</th>\n",
       "      <th>headline_category</th>\n",
       "      <th>headline_text</th>\n",
       "    </tr>\n",
       "  </thead>\n",
       "  <tbody>\n",
       "    <tr>\n",
       "      <th>2422189</th>\n",
       "      <td>2016-07-01</td>\n",
       "      <td>business.india-business</td>\n",
       "      <td>India came out of Brexit relatively well: Worl...</td>\n",
       "    </tr>\n",
       "    <tr>\n",
       "      <th>2422251</th>\n",
       "      <td>2016-07-01</td>\n",
       "      <td>business.india-business</td>\n",
       "      <td>Rupee gains 9 paise against dollar</td>\n",
       "    </tr>\n",
       "    <tr>\n",
       "      <th>2422263</th>\n",
       "      <td>2016-07-01</td>\n",
       "      <td>business.india-business</td>\n",
       "      <td>Sensex rises over 200 points on foreign inflows</td>\n",
       "    </tr>\n",
       "    <tr>\n",
       "      <th>2422289</th>\n",
       "      <td>2016-07-01</td>\n",
       "      <td>business.india-business</td>\n",
       "      <td>Silver futures tops 45k per kg level; tracking...</td>\n",
       "    </tr>\n",
       "    <tr>\n",
       "      <th>2422363</th>\n",
       "      <td>2016-07-01</td>\n",
       "      <td>business.india-business</td>\n",
       "      <td>NPA situation well under control: Jaitley</td>\n",
       "    </tr>\n",
       "  </tbody>\n",
       "</table>\n",
       "</div>"
      ],
      "text/plain": [
       "        publish_date        headline_category  \\\n",
       "2422189   2016-07-01  business.india-business   \n",
       "2422251   2016-07-01  business.india-business   \n",
       "2422263   2016-07-01  business.india-business   \n",
       "2422289   2016-07-01  business.india-business   \n",
       "2422363   2016-07-01  business.india-business   \n",
       "\n",
       "                                             headline_text  \n",
       "2422189  India came out of Brexit relatively well: Worl...  \n",
       "2422251                 Rupee gains 9 paise against dollar  \n",
       "2422263    Sensex rises over 200 points on foreign inflows  \n",
       "2422289  Silver futures tops 45k per kg level; tracking...  \n",
       "2422363          NPA situation well under control: Jaitley  "
      ]
     },
     "execution_count": 85,
     "metadata": {},
     "output_type": "execute_result"
    }
   ],
   "source": [
    "stock_head_sub.tail()"
   ]
  },
  {
   "cell_type": "code",
   "execution_count": 97,
   "metadata": {},
   "outputs": [],
   "source": [
    "text_polarity = []\n",
    "text_subjectivity = []\n",
    "\n",
    "for i in range(len(stock_head_sub)):\n",
    "    pol = TextBlob(stock_head_sub['headline_text'].iloc[i]).sentiment[0]\n",
    "    sub = TextBlob(stock_head_sub['headline_text'].iloc[i]).sentiment[1]\n",
    "    \n",
    "    text_polarity.append(pol)\n",
    "    text_subjectivity.append(sub)\n",
    "    \n",
    "# Making New Columns using the formed lists\n",
    "\n",
    "stock_head_sub['Text_Polarity'] = text_polarity\n",
    "stock_head_sub['Text_Subjectivity'] = text_subjectivity"
   ]
  },
  {
   "cell_type": "code",
   "execution_count": 98,
   "metadata": {},
   "outputs": [
    {
     "data": {
      "text/html": [
       "<div>\n",
       "<style scoped>\n",
       "    .dataframe tbody tr th:only-of-type {\n",
       "        vertical-align: middle;\n",
       "    }\n",
       "\n",
       "    .dataframe tbody tr th {\n",
       "        vertical-align: top;\n",
       "    }\n",
       "\n",
       "    .dataframe thead th {\n",
       "        text-align: right;\n",
       "    }\n",
       "</style>\n",
       "<table border=\"1\" class=\"dataframe\">\n",
       "  <thead>\n",
       "    <tr style=\"text-align: right;\">\n",
       "      <th></th>\n",
       "      <th>publish_date</th>\n",
       "      <th>headline_category</th>\n",
       "      <th>headline_text</th>\n",
       "      <th>Text_Polarity</th>\n",
       "      <th>Text_Subjectivity</th>\n",
       "    </tr>\n",
       "  </thead>\n",
       "  <tbody>\n",
       "    <tr>\n",
       "      <th>959012</th>\n",
       "      <td>2010-08-09</td>\n",
       "      <td>business.india-business</td>\n",
       "      <td>Is Walmart retailing in India?</td>\n",
       "      <td>0.0</td>\n",
       "      <td>0.00</td>\n",
       "    </tr>\n",
       "    <tr>\n",
       "      <th>959023</th>\n",
       "      <td>2010-08-09</td>\n",
       "      <td>business.india-business</td>\n",
       "      <td>'Don't bank only on price-to-earning ratio'</td>\n",
       "      <td>0.0</td>\n",
       "      <td>1.00</td>\n",
       "    </tr>\n",
       "    <tr>\n",
       "      <th>959037</th>\n",
       "      <td>2010-08-09</td>\n",
       "      <td>business.india-business</td>\n",
       "      <td>GM may source Tavera engines from Sonalika</td>\n",
       "      <td>0.0</td>\n",
       "      <td>0.00</td>\n",
       "    </tr>\n",
       "    <tr>\n",
       "      <th>959039</th>\n",
       "      <td>2010-08-09</td>\n",
       "      <td>business.india-business</td>\n",
       "      <td>Ruia group will bid for SsangYong</td>\n",
       "      <td>0.0</td>\n",
       "      <td>0.00</td>\n",
       "    </tr>\n",
       "    <tr>\n",
       "      <th>959043</th>\n",
       "      <td>2010-08-09</td>\n",
       "      <td>business.india-business</td>\n",
       "      <td>Parsis' emotional connect with Tatas</td>\n",
       "      <td>0.0</td>\n",
       "      <td>0.65</td>\n",
       "    </tr>\n",
       "  </tbody>\n",
       "</table>\n",
       "</div>"
      ],
      "text/plain": [
       "       publish_date        headline_category  \\\n",
       "959012   2010-08-09  business.india-business   \n",
       "959023   2010-08-09  business.india-business   \n",
       "959037   2010-08-09  business.india-business   \n",
       "959039   2010-08-09  business.india-business   \n",
       "959043   2010-08-09  business.india-business   \n",
       "\n",
       "                                      headline_text  Text_Polarity  \\\n",
       "959012               Is Walmart retailing in India?            0.0   \n",
       "959023  'Don't bank only on price-to-earning ratio'            0.0   \n",
       "959037   GM may source Tavera engines from Sonalika            0.0   \n",
       "959039            Ruia group will bid for SsangYong            0.0   \n",
       "959043         Parsis' emotional connect with Tatas            0.0   \n",
       "\n",
       "        Text_Subjectivity  \n",
       "959012               0.00  \n",
       "959023               1.00  \n",
       "959037               0.00  \n",
       "959039               0.00  \n",
       "959043               0.65  "
      ]
     },
     "execution_count": 98,
     "metadata": {},
     "output_type": "execute_result"
    }
   ],
   "source": [
    "# Confirming the Changes\n",
    "\n",
    "stock_head_sub.head()"
   ]
  },
  {
   "cell_type": "markdown",
   "metadata": {},
   "source": [
    "Due to the fact that there are multiple entries of headlines for a single date, to be able to be interpreted by ML model, same day entries are grouped and the sentiment scores are aggregated by the mean score."
   ]
  },
  {
   "cell_type": "code",
   "execution_count": 108,
   "metadata": {},
   "outputs": [
    {
     "data": {
      "text/html": [
       "<div>\n",
       "<style scoped>\n",
       "    .dataframe tbody tr th:only-of-type {\n",
       "        vertical-align: middle;\n",
       "    }\n",
       "\n",
       "    .dataframe tbody tr th {\n",
       "        vertical-align: top;\n",
       "    }\n",
       "\n",
       "    .dataframe thead th {\n",
       "        text-align: right;\n",
       "    }\n",
       "</style>\n",
       "<table border=\"1\" class=\"dataframe\">\n",
       "  <thead>\n",
       "    <tr style=\"text-align: right;\">\n",
       "      <th></th>\n",
       "      <th>Text_Polarity</th>\n",
       "      <th>Text_Subjectivity</th>\n",
       "    </tr>\n",
       "    <tr>\n",
       "      <th>publish_date</th>\n",
       "      <th></th>\n",
       "      <th></th>\n",
       "    </tr>\n",
       "  </thead>\n",
       "  <tbody>\n",
       "    <tr>\n",
       "      <th>2010-08-09</th>\n",
       "      <td>0.013636</td>\n",
       "      <td>0.142330</td>\n",
       "    </tr>\n",
       "    <tr>\n",
       "      <th>2010-08-10</th>\n",
       "      <td>0.027778</td>\n",
       "      <td>0.054040</td>\n",
       "    </tr>\n",
       "    <tr>\n",
       "      <th>2010-08-11</th>\n",
       "      <td>-0.024958</td>\n",
       "      <td>0.080766</td>\n",
       "    </tr>\n",
       "    <tr>\n",
       "      <th>2010-08-12</th>\n",
       "      <td>-0.001840</td>\n",
       "      <td>0.136001</td>\n",
       "    </tr>\n",
       "    <tr>\n",
       "      <th>2010-08-13</th>\n",
       "      <td>0.047064</td>\n",
       "      <td>0.142992</td>\n",
       "    </tr>\n",
       "  </tbody>\n",
       "</table>\n",
       "</div>"
      ],
      "text/plain": [
       "              Text_Polarity  Text_Subjectivity\n",
       "publish_date                                  \n",
       "2010-08-09         0.013636           0.142330\n",
       "2010-08-10         0.027778           0.054040\n",
       "2010-08-11        -0.024958           0.080766\n",
       "2010-08-12        -0.001840           0.136001\n",
       "2010-08-13         0.047064           0.142992"
      ]
     },
     "execution_count": 108,
     "metadata": {},
     "output_type": "execute_result"
    }
   ],
   "source": [
    "stock_head_grouped = stock_head_sub.groupby('publish_date').agg({'Text_Polarity': 'mean',\n",
    "                                                                'Text_Subjectivity': 'mean'})\n",
    "\n",
    "# Confirming the Changes\n",
    "\n",
    "stock_head_grouped.head()"
   ]
  },
  {
   "cell_type": "code",
   "execution_count": 109,
   "metadata": {},
   "outputs": [
    {
     "data": {
      "text/html": [
       "<div>\n",
       "<style scoped>\n",
       "    .dataframe tbody tr th:only-of-type {\n",
       "        vertical-align: middle;\n",
       "    }\n",
       "\n",
       "    .dataframe tbody tr th {\n",
       "        vertical-align: top;\n",
       "    }\n",
       "\n",
       "    .dataframe thead th {\n",
       "        text-align: right;\n",
       "    }\n",
       "</style>\n",
       "<table border=\"1\" class=\"dataframe\">\n",
       "  <thead>\n",
       "    <tr style=\"text-align: right;\">\n",
       "      <th></th>\n",
       "      <th>publish_date</th>\n",
       "      <th>Text_Polarity</th>\n",
       "      <th>Text_Subjectivity</th>\n",
       "    </tr>\n",
       "  </thead>\n",
       "  <tbody>\n",
       "    <tr>\n",
       "      <th>0</th>\n",
       "      <td>2010-08-09</td>\n",
       "      <td>0.013636</td>\n",
       "      <td>0.142330</td>\n",
       "    </tr>\n",
       "    <tr>\n",
       "      <th>1</th>\n",
       "      <td>2010-08-10</td>\n",
       "      <td>0.027778</td>\n",
       "      <td>0.054040</td>\n",
       "    </tr>\n",
       "    <tr>\n",
       "      <th>2</th>\n",
       "      <td>2010-08-11</td>\n",
       "      <td>-0.024958</td>\n",
       "      <td>0.080766</td>\n",
       "    </tr>\n",
       "    <tr>\n",
       "      <th>3</th>\n",
       "      <td>2010-08-12</td>\n",
       "      <td>-0.001840</td>\n",
       "      <td>0.136001</td>\n",
       "    </tr>\n",
       "    <tr>\n",
       "      <th>4</th>\n",
       "      <td>2010-08-13</td>\n",
       "      <td>0.047064</td>\n",
       "      <td>0.142992</td>\n",
       "    </tr>\n",
       "  </tbody>\n",
       "</table>\n",
       "</div>"
      ],
      "text/plain": [
       "  publish_date  Text_Polarity  Text_Subjectivity\n",
       "0   2010-08-09       0.013636           0.142330\n",
       "1   2010-08-10       0.027778           0.054040\n",
       "2   2010-08-11      -0.024958           0.080766\n",
       "3   2010-08-12      -0.001840           0.136001\n",
       "4   2010-08-13       0.047064           0.142992"
      ]
     },
     "execution_count": 109,
     "metadata": {},
     "output_type": "execute_result"
    }
   ],
   "source": [
    "stock_head_grouped.reset_index(inplace=True)\n",
    "stock_head_grouped.head() # Final Dataframe for Textual Analysis"
   ]
  },
  {
   "cell_type": "markdown",
   "metadata": {},
   "source": [
    "Moving forward, the two dataframes are to be merged with the dataframe from the Numerical Analysis part."
   ]
  },
  {
   "cell_type": "code",
   "execution_count": 111,
   "metadata": {},
   "outputs": [
    {
     "data": {
      "text/html": [
       "<div>\n",
       "<style scoped>\n",
       "    .dataframe tbody tr th:only-of-type {\n",
       "        vertical-align: middle;\n",
       "    }\n",
       "\n",
       "    .dataframe tbody tr th {\n",
       "        vertical-align: top;\n",
       "    }\n",
       "\n",
       "    .dataframe thead th {\n",
       "        text-align: right;\n",
       "    }\n",
       "</style>\n",
       "<table border=\"1\" class=\"dataframe\">\n",
       "  <thead>\n",
       "    <tr style=\"text-align: right;\">\n",
       "      <th></th>\n",
       "      <th>publish_date</th>\n",
       "      <th>Text_Polarity</th>\n",
       "      <th>Text_Subjectivity</th>\n",
       "    </tr>\n",
       "  </thead>\n",
       "  <tbody>\n",
       "    <tr>\n",
       "      <th>2147</th>\n",
       "      <td>2016-06-27</td>\n",
       "      <td>0.046013</td>\n",
       "      <td>0.244917</td>\n",
       "    </tr>\n",
       "    <tr>\n",
       "      <th>2148</th>\n",
       "      <td>2016-06-28</td>\n",
       "      <td>0.025977</td>\n",
       "      <td>0.298016</td>\n",
       "    </tr>\n",
       "    <tr>\n",
       "      <th>2149</th>\n",
       "      <td>2016-06-29</td>\n",
       "      <td>0.014205</td>\n",
       "      <td>0.071591</td>\n",
       "    </tr>\n",
       "    <tr>\n",
       "      <th>2150</th>\n",
       "      <td>2016-06-30</td>\n",
       "      <td>0.073636</td>\n",
       "      <td>0.105455</td>\n",
       "    </tr>\n",
       "    <tr>\n",
       "      <th>2151</th>\n",
       "      <td>2016-07-01</td>\n",
       "      <td>0.027534</td>\n",
       "      <td>0.098494</td>\n",
       "    </tr>\n",
       "  </tbody>\n",
       "</table>\n",
       "</div>"
      ],
      "text/plain": [
       "     publish_date  Text_Polarity  Text_Subjectivity\n",
       "2147   2016-06-27       0.046013           0.244917\n",
       "2148   2016-06-28       0.025977           0.298016\n",
       "2149   2016-06-29       0.014205           0.071591\n",
       "2150   2016-06-30       0.073636           0.105455\n",
       "2151   2016-07-01       0.027534           0.098494"
      ]
     },
     "execution_count": 111,
     "metadata": {},
     "output_type": "execute_result"
    }
   ],
   "source": [
    "stock_head_grouped.tail()"
   ]
  },
  {
   "cell_type": "markdown",
   "metadata": {},
   "source": [
    "The two dataframes are merged using inner-join. As there seems to difference in lengths of the dataframes, we need to check the dates not common in both the dataframes."
   ]
  },
  {
   "cell_type": "code",
   "execution_count": 119,
   "metadata": {},
   "outputs": [
    {
     "name": "stdout",
     "output_type": "stream",
     "text": [
      "The shape of the Merged DataFrame is:  (1469, 18)\n"
     ]
    }
   ],
   "source": [
    "# New DataFrame creation for 'HYBRID MODEL'\n",
    "\n",
    "merged_df = pd.merge(left = Stock_df, right = stock_head_grouped,\n",
    "                     left_on = 'Trade_Date', right_on = 'publish_date')\n",
    "\n",
    "print('The shape of the Merged DataFrame is: ',merged_df.shape)"
   ]
  },
  {
   "cell_type": "markdown",
   "metadata": {},
   "source": [
    "# Preparing the Data"
   ]
  },
  {
   "cell_type": "code",
   "execution_count": 121,
   "metadata": {},
   "outputs": [],
   "source": [
    "Hybrid_data = merged_df[['Text_Polarity', 'Text_Subjectivity', 'Close']].values\n",
    "\n",
    "# Feature Scaling\n",
    "\n",
    "mx = MinMaxScaler()\n",
    "\n",
    "DataScaler = mx.fit(Hybrid_data)\n",
    "X = DataScaler.transform(Hybrid_data)"
   ]
  },
  {
   "cell_type": "markdown",
   "metadata": {},
   "source": [
    "# Splitting the Sample"
   ]
  },
  {
   "cell_type": "code",
   "execution_count": 141,
   "metadata": {},
   "outputs": [
    {
     "name": "stdout",
     "output_type": "stream",
     "text": [
      "(1459, 10, 3)\n",
      "(1459, 3)\n",
      "(1449, 10, 3)\n",
      "(1449, 3)\n",
      "(10, 10, 3)\n",
      "(10, 3)\n"
     ]
    }
   ],
   "source": [
    "X_samples = list()\n",
    "y_samples = list()\n",
    "\n",
    "NumberOfRows = len(X)\n",
    "TimeSteps = 10  # Next Day's Price Prediction is based om last N number of past day's prices\n",
    "\n",
    "for i in range(TimeSteps, NumberOfRows, 1):\n",
    "    x_sample = X[i-TimeSteps:i]\n",
    "    y_sample = X[i]\n",
    "    X_samples.append(x_sample)\n",
    "    y_samples.append(y_sample)\n",
    "    \n",
    "# Reshaping of the Input as a 3D\n",
    "\n",
    "X_data=np.array(X_samples)\n",
    "X_data=X_data.reshape(X_data.shape[0],X_data.shape[1], 3) # (Samples, Time Steps, Features)\n",
    "print(X_data.shape)\n",
    "\n",
    "y_data=np.array(y_samples)\n",
    "y_data=y_data.reshape(y_data.shape[0], 3)\n",
    "print(y_data.shape)\n",
    "\n",
    "# Choosing the number of testing data records\n",
    "TestingRecords=10\n",
    "\n",
    "# Splitting the data into train and test\n",
    "\n",
    "X_train=X_data[:-TestingRecords]\n",
    "X_test=X_data[-TestingRecords:]\n",
    "y_train=y_data[:-TestingRecords]\n",
    "y_test=y_data[-TestingRecords:]\n",
    "\n",
    "# Printing the shape of training and testing\n",
    "\n",
    "print(X_train.shape)\n",
    "print(y_train.shape)\n",
    "print(X_test.shape)\n",
    "print(y_test.shape)"
   ]
  },
  {
   "cell_type": "markdown",
   "metadata": {},
   "source": [
    "# Fitting the LSTM Model"
   ]
  },
  {
   "cell_type": "code",
   "execution_count": 146,
   "metadata": {},
   "outputs": [
    {
     "name": "stdout",
     "output_type": "stream",
     "text": [
      "Number of TimeSteps: 10\n",
      "Number of Features: 3\n",
      "Epoch 1/100\n",
      "290/290 [==============================] - 2s 6ms/step - loss: 0.0440\n",
      "Epoch 2/100\n",
      "290/290 [==============================] - 2s 6ms/step - loss: 0.0123\n",
      "Epoch 3/100\n",
      "290/290 [==============================] - 2s 6ms/step - loss: 0.0120\n",
      "Epoch 4/100\n",
      "290/290 [==============================] - 2s 8ms/step - loss: 0.0117\n",
      "Epoch 5/100\n",
      "290/290 [==============================] - 2s 6ms/step - loss: 0.0116\n",
      "Epoch 6/100\n",
      "290/290 [==============================] - 2s 6ms/step - loss: 0.0115\n",
      "Epoch 7/100\n",
      "290/290 [==============================] - 2s 6ms/step - loss: 0.0114\n",
      "Epoch 8/100\n",
      "290/290 [==============================] - 2s 6ms/step - loss: 0.0114\n",
      "Epoch 9/100\n",
      "290/290 [==============================] - 2s 6ms/step - loss: 0.0114\n",
      "Epoch 10/100\n",
      "290/290 [==============================] - 2s 6ms/step - loss: 0.0112\n",
      "Epoch 11/100\n",
      "290/290 [==============================] - 2s 6ms/step - loss: 0.0112\n",
      "Epoch 12/100\n",
      "290/290 [==============================] - 2s 7ms/step - loss: 0.0112\n",
      "Epoch 13/100\n",
      "290/290 [==============================] - 2s 8ms/step - loss: 0.0111\n",
      "Epoch 14/100\n",
      "290/290 [==============================] - 2s 6ms/step - loss: 0.0110\n",
      "Epoch 15/100\n",
      "290/290 [==============================] - 2s 6ms/step - loss: 0.0110\n",
      "Epoch 16/100\n",
      "290/290 [==============================] - 2s 6ms/step - loss: 0.0109\n",
      "Epoch 17/100\n",
      "290/290 [==============================] - 2s 6ms/step - loss: 0.0110\n",
      "Epoch 18/100\n",
      "290/290 [==============================] - 2s 6ms/step - loss: 0.0110\n",
      "Epoch 19/100\n",
      "290/290 [==============================] - 2s 6ms/step - loss: 0.0109\n",
      "Epoch 20/100\n",
      "290/290 [==============================] - 2s 6ms/step - loss: 0.0108\n",
      "Epoch 21/100\n",
      "290/290 [==============================] - 2s 8ms/step - loss: 0.0108\n",
      "Epoch 22/100\n",
      "290/290 [==============================] - 2s 7ms/step - loss: 0.0107\n",
      "Epoch 23/100\n",
      "290/290 [==============================] - 2s 6ms/step - loss: 0.0110\n",
      "Epoch 24/100\n",
      "290/290 [==============================] - 2s 6ms/step - loss: 0.0108\n",
      "Epoch 25/100\n",
      "290/290 [==============================] - 2s 6ms/step - loss: 0.0108\n",
      "Epoch 26/100\n",
      "290/290 [==============================] - 2s 6ms/step - loss: 0.0108\n",
      "Epoch 27/100\n",
      "290/290 [==============================] - 2s 6ms/step - loss: 0.0107\n",
      "Epoch 28/100\n",
      "290/290 [==============================] - 2s 6ms/step - loss: 0.0106\n",
      "Epoch 29/100\n",
      "290/290 [==============================] - 2s 7ms/step - loss: 0.0106\n",
      "Epoch 30/100\n",
      "290/290 [==============================] - 3s 9ms/step - loss: 0.0106\n",
      "Epoch 31/100\n",
      "290/290 [==============================] - 2s 8ms/step - loss: 0.0106\n",
      "Epoch 32/100\n",
      "290/290 [==============================] - 2s 6ms/step - loss: 0.0106\n",
      "Epoch 33/100\n",
      "290/290 [==============================] - 2s 6ms/step - loss: 0.0106\n",
      "Epoch 34/100\n",
      "290/290 [==============================] - 2s 6ms/step - loss: 0.0106\n",
      "Epoch 35/100\n",
      "290/290 [==============================] - 2s 6ms/step - loss: 0.0106\n",
      "Epoch 36/100\n",
      "290/290 [==============================] - 2s 7ms/step - loss: 0.0105\n",
      "Epoch 37/100\n",
      "290/290 [==============================] - 2s 8ms/step - loss: 0.0106\n",
      "Epoch 38/100\n",
      "290/290 [==============================] - 2s 8ms/step - loss: 0.0106\n",
      "Epoch 39/100\n",
      "290/290 [==============================] - 2s 6ms/step - loss: 0.0107\n",
      "Epoch 40/100\n",
      "290/290 [==============================] - 2s 6ms/step - loss: 0.0105\n",
      "Epoch 41/100\n",
      "290/290 [==============================] - 2s 6ms/step - loss: 0.0105\n",
      "Epoch 42/100\n",
      "290/290 [==============================] - 2s 7ms/step - loss: 0.0105\n",
      "Epoch 43/100\n",
      "290/290 [==============================] - 2s 7ms/step - loss: 0.0105\n",
      "Epoch 44/100\n",
      "290/290 [==============================] - 2s 6ms/step - loss: 0.0105\n",
      "Epoch 45/100\n",
      "290/290 [==============================] - 2s 7ms/step - loss: 0.0105\n",
      "Epoch 46/100\n",
      "290/290 [==============================] - 2s 8ms/step - loss: 0.0105\n",
      "Epoch 47/100\n",
      "290/290 [==============================] - 2s 6ms/step - loss: 0.0106\n",
      "Epoch 48/100\n",
      "290/290 [==============================] - 2s 6ms/step - loss: 0.0105\n",
      "Epoch 49/100\n",
      "290/290 [==============================] - 2s 6ms/step - loss: 0.0106\n",
      "Epoch 50/100\n",
      "290/290 [==============================] - 2s 6ms/step - loss: 0.0105\n",
      "Epoch 51/100\n",
      "290/290 [==============================] - 2s 6ms/step - loss: 0.0105\n",
      "Epoch 52/100\n",
      "290/290 [==============================] - 2s 7ms/step - loss: 0.0107\n",
      "Epoch 53/100\n",
      "290/290 [==============================] - 2s 7ms/step - loss: 0.0104\n",
      "Epoch 54/100\n",
      "290/290 [==============================] - 2s 8ms/step - loss: 0.0106\n",
      "Epoch 55/100\n",
      "290/290 [==============================] - 2s 7ms/step - loss: 0.0105\n",
      "Epoch 56/100\n",
      "290/290 [==============================] - 2s 6ms/step - loss: 0.0104\n",
      "Epoch 57/100\n",
      "290/290 [==============================] - 2s 6ms/step - loss: 0.0104\n",
      "Epoch 58/100\n",
      "290/290 [==============================] - 2s 6ms/step - loss: 0.0104\n",
      "Epoch 59/100\n",
      "290/290 [==============================] - 2s 6ms/step - loss: 0.0105\n",
      "Epoch 60/100\n",
      "290/290 [==============================] - 2s 6ms/step - loss: 0.0104\n",
      "Epoch 61/100\n",
      "290/290 [==============================] - 2s 7ms/step - loss: 0.0105\n",
      "Epoch 62/100\n",
      "290/290 [==============================] - 2s 8ms/step - loss: 0.0104\n",
      "Epoch 63/100\n",
      "290/290 [==============================] - 2s 7ms/step - loss: 0.0104\n",
      "Epoch 64/100\n",
      "290/290 [==============================] - 2s 6ms/step - loss: 0.0104\n",
      "Epoch 65/100\n",
      "290/290 [==============================] - 2s 6ms/step - loss: 0.0105\n",
      "Epoch 66/100\n",
      "290/290 [==============================] - 2s 6ms/step - loss: 0.0105\n",
      "Epoch 67/100\n",
      "290/290 [==============================] - 2s 6ms/step - loss: 0.0104\n",
      "Epoch 68/100\n",
      "290/290 [==============================] - 2s 6ms/step - loss: 0.0104\n",
      "Epoch 69/100\n",
      "290/290 [==============================] - 2s 7ms/step - loss: 0.0105\n",
      "Epoch 70/100\n",
      "290/290 [==============================] - 2s 8ms/step - loss: 0.0104\n",
      "Epoch 71/100\n",
      "290/290 [==============================] - 2s 7ms/step - loss: 0.0104\n",
      "Epoch 72/100\n",
      "290/290 [==============================] - 2s 6ms/step - loss: 0.0104\n",
      "Epoch 73/100\n",
      "290/290 [==============================] - 2s 6ms/step - loss: 0.0105\n",
      "Epoch 74/100\n",
      "290/290 [==============================] - 2s 6ms/step - loss: 0.0104\n",
      "Epoch 75/100\n",
      "290/290 [==============================] - 2s 6ms/step - loss: 0.0104\n",
      "Epoch 76/100\n",
      "290/290 [==============================] - 2s 6ms/step - loss: 0.0104\n",
      "Epoch 77/100\n",
      "290/290 [==============================] - 2s 6ms/step - loss: 0.0104\n",
      "Epoch 78/100\n",
      "290/290 [==============================] - 2s 8ms/step - loss: 0.0104\n",
      "Epoch 79/100\n",
      "290/290 [==============================] - 2s 8ms/step - loss: 0.0104\n",
      "Epoch 80/100\n",
      "290/290 [==============================] - 2s 6ms/step - loss: 0.0104\n",
      "Epoch 81/100\n",
      "290/290 [==============================] - 2s 6ms/step - loss: 0.0104\n",
      "Epoch 82/100\n",
      "290/290 [==============================] - 2s 6ms/step - loss: 0.0104\n",
      "Epoch 83/100\n",
      "290/290 [==============================] - 2s 6ms/step - loss: 0.0104\n",
      "Epoch 84/100\n",
      "290/290 [==============================] - 2s 6ms/step - loss: 0.0104\n",
      "Epoch 85/100\n",
      "290/290 [==============================] - 2s 6ms/step - loss: 0.0104\n",
      "Epoch 86/100\n",
      "290/290 [==============================] - 2s 8ms/step - loss: 0.0104\n",
      "Epoch 87/100\n",
      "290/290 [==============================] - 2s 8ms/step - loss: 0.0104\n",
      "Epoch 88/100\n",
      "290/290 [==============================] - 2s 6ms/step - loss: 0.0104\n",
      "Epoch 89/100\n",
      "290/290 [==============================] - 2s 7ms/step - loss: 0.0103\n",
      "Epoch 90/100\n",
      "290/290 [==============================] - 2s 6ms/step - loss: 0.0103\n",
      "Epoch 91/100\n",
      "290/290 [==============================] - 2s 6ms/step - loss: 0.0104\n",
      "Epoch 92/100\n",
      "290/290 [==============================] - 2s 7ms/step - loss: 0.0104\n",
      "Epoch 93/100\n",
      "290/290 [==============================] - 2s 7ms/step - loss: 0.0103\n",
      "Epoch 94/100\n",
      "290/290 [==============================] - 2s 8ms/step - loss: 0.0103\n",
      "Epoch 95/100\n",
      "290/290 [==============================] - 2s 8ms/step - loss: 0.0103\n",
      "Epoch 96/100\n",
      "290/290 [==============================] - 2s 6ms/step - loss: 0.0104\n",
      "Epoch 97/100\n",
      "290/290 [==============================] - 2s 7ms/step - loss: 0.0104\n",
      "Epoch 98/100\n",
      "290/290 [==============================] - 2s 7ms/step - loss: 0.0104\n",
      "Epoch 99/100\n"
     ]
    },
    {
     "name": "stdout",
     "output_type": "stream",
     "text": [
      "290/290 [==============================] - 2s 6ms/step - loss: 0.0103\n",
      "Epoch 100/100\n",
      "290/290 [==============================] - 2s 6ms/step - loss: 0.0104\n",
      "############### Total Time Taken:  3 Minutes #############\n"
     ]
    }
   ],
   "source": [
    "# Defining Input shapes for LSTM\n",
    "TimeSteps=X_train.shape[1]\n",
    "TotalFeatures=X_train.shape[2]\n",
    "print(\"Number of TimeSteps:\", TimeSteps)\n",
    "print(\"Number of Features:\", TotalFeatures)\n",
    "\n",
    "regressor = Sequential()\n",
    "\n",
    "regressor.add(LSTM(units = 10, activation = 'relu', input_shape = (TimeSteps, TotalFeatures), return_sequences=True))\n",
    "regressor.add(LSTM(units = 5, activation = 'relu', input_shape = (TimeSteps, TotalFeatures), return_sequences=True))\n",
    "regressor.add(LSTM(units = 5, activation = 'relu', return_sequences=False ))\n",
    "\n",
    "regressor.add(Dense(units = 3))\n",
    "\n",
    "regressor.compile(optimizer = 'adam', loss = 'mean_squared_error')\n",
    "\n",
    "# Measuring the time taken by the model to train\n",
    "\n",
    "StartTime = time.time()\n",
    "\n",
    "# Fitting RNN to the Training set\n",
    "\n",
    "regressor.fit(X_train, y_train, batch_size = 5, epochs = 100)\n",
    "\n",
    "EndTime=time.time()\n",
    "print(\"############### Total Time Taken: \", round((EndTime-StartTime)/60), 'Minutes #############')"
   ]
  },
  {
   "cell_type": "markdown",
   "metadata": {},
   "source": [
    "# Generating Predictions"
   ]
  },
  {
   "cell_type": "code",
   "execution_count": 166,
   "metadata": {},
   "outputs": [
    {
     "name": "stdout",
     "output_type": "stream",
     "text": [
      "Accuracy of the Hybrid Model is:  98.06\n"
     ]
    }
   ],
   "source": [
    "# Making predictions on test data\n",
    "predicted_Price = regressor.predict(X_test)\n",
    "predicted_Price = DataScaler.inverse_transform(predicted_Price)\n",
    "\n",
    "# Getting the original price values for testing data\n",
    "orig=y_test\n",
    "orig=DataScaler.inverse_transform(y_test)\n",
    "\n",
    "# Accuracy of the predictions\n",
    "print('Accuracy of the Hybrid Model is: ',np.round(100 - (100*(abs(orig[:,2]-predicted_Price[:,2])/orig[:,2])).mean(),2))"
   ]
  },
  {
   "cell_type": "markdown",
   "metadata": {},
   "source": [
    "# Conclusion\n",
    "\n",
    "- The Accuracy of the Base Model: **97.43%**\n",
    "- The Accuracy of the Hybrid Model: **98.06%**\n",
    "- Accuracy Improvement: **0.63%**"
   ]
  },
  {
   "cell_type": "code",
   "execution_count": null,
   "metadata": {},
   "outputs": [],
   "source": []
  }
 ],
 "metadata": {
  "kernelspec": {
   "display_name": "Python 3",
   "language": "python",
   "name": "python3"
  },
  "language_info": {
   "codemirror_mode": {
    "name": "ipython",
    "version": 3
   },
   "file_extension": ".py",
   "mimetype": "text/x-python",
   "name": "python",
   "nbconvert_exporter": "python",
   "pygments_lexer": "ipython3",
   "version": "3.8.3"
  }
 },
 "nbformat": 4,
 "nbformat_minor": 4
}
