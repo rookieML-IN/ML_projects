{
 "cells": [
  {
   "cell_type": "markdown",
   "id": "f146bef5",
   "metadata": {},
   "source": [
    "# Libraries"
   ]
  },
  {
   "cell_type": "code",
   "execution_count": 188,
   "id": "d7b887e7",
   "metadata": {},
   "outputs": [],
   "source": [
    "# Basic\n",
    "\n",
    "import os\n",
    "import warnings\n",
    "import re\n",
    "import pickle\n",
    "import pandas as pd\n",
    "import numpy as np\n",
    "import datetime\n",
    "import matplotlib.pyplot as plt\n",
    "import seaborn as sns\n",
    "from scipy.stats import f_oneway\n",
    "from sklearn.preprocessing import MinMaxScaler\n",
    "from sklearn.model_selection import train_test_split, cross_val_score\n",
    "from sklearn import metrics\n",
    "\n",
    "# Clustering\n",
    "\n",
    "from sklearn.cluster import KMeans\n",
    "\n",
    "# ANN\n",
    "\n",
    "from keras.models import Sequential\n",
    "from keras.layers import Dense\n",
    "\n",
    "# Supervised ML\n",
    "\n",
    "from sklearn.linear_model import LinearRegression\n",
    "from sklearn.tree import DecisionTreeRegressor\n",
    "from sklearn.ensemble import RandomForestRegressor\n",
    "from sklearn.ensemble import AdaBoostRegressor\n",
    "from xgboost import XGBRegressor\n",
    "from sklearn.neighbors import KNeighborsRegressor\n",
    "from sklearn.svm import SVR\n",
    "from sklearn.model_selection import GridSearchCV as GSCV\n",
    "\n",
    "# Optional\n",
    "\n",
    "warnings.filterwarnings('ignore')"
   ]
  },
  {
   "cell_type": "markdown",
   "id": "cc4bd815",
   "metadata": {},
   "source": [
    "# Dataset"
   ]
  },
  {
   "cell_type": "code",
   "execution_count": 2,
   "id": "8a110977",
   "metadata": {},
   "outputs": [],
   "source": [
    "df_train = pd.read_csv('train.csv')\n",
    "df_test = pd.read_csv('test.csv')"
   ]
  },
  {
   "cell_type": "markdown",
   "id": "ba6690f8",
   "metadata": {},
   "source": [
    "# Initial Checks"
   ]
  },
  {
   "cell_type": "code",
   "execution_count": 3,
   "id": "6790c070",
   "metadata": {},
   "outputs": [],
   "source": [
    "def initialPrep(df):\n",
    "    df.columns = df.columns.str.lower() # To make it easier to call the columns\n",
    "    if df.duplicated().sum() != 0:\n",
    "        print('Shape of the dataset before deleting the duplicated rows', df.shape)\n",
    "        print('Number of duplicated rows in the dataset', df.duplicated().sum())\n",
    "        df = df.drop_duplicates()\n",
    "        print('Shape of the dataset after deleting the duplicated rows', df.shape)\n",
    "    else:\n",
    "        print('There are no Duplicated Rows in the dataset!')\n",
    "        print('Shape of the dataset', df.shape)\n",
    "        \n",
    "    m = list(df_train.isnull().sum())\n",
    "    global nul_var\n",
    "    nul_var = []\n",
    "    for index, i in enumerate(m):\n",
    "        if i != 0:\n",
    "           nul_var.append(df_train.columns[index])\n",
    "        else:\n",
    "            pass"
   ]
  },
  {
   "cell_type": "code",
   "execution_count": 4,
   "id": "c543ef65",
   "metadata": {},
   "outputs": [
    {
     "name": "stdout",
     "output_type": "stream",
     "text": [
      "There are no Duplicated Rows in the dataset!\n",
      "Shape of the dataset (7007, 23)\n"
     ]
    }
   ],
   "source": [
    "# Calling the Function\n",
    "\n",
    "initialPrep(df_train)"
   ]
  },
  {
   "cell_type": "code",
   "execution_count": 5,
   "id": "b8b02412",
   "metadata": {},
   "outputs": [
    {
     "name": "stdout",
     "output_type": "stream",
     "text": [
      "There are no Duplicated Rows in the dataset!\n",
      "Shape of the dataset (2093, 22)\n"
     ]
    }
   ],
   "source": [
    "# Calling the Function\n",
    "\n",
    "initialPrep(df_test)"
   ]
  },
  {
   "cell_type": "markdown",
   "id": "09c93da7",
   "metadata": {},
   "source": [
    "# Basic Data Exploration"
   ]
  },
  {
   "cell_type": "code",
   "execution_count": 6,
   "id": "b9ecf407",
   "metadata": {},
   "outputs": [],
   "source": [
    "# Variable Seperation based on the given description and the number of uniques values\n",
    "\n",
    "drop_col = ['deal_title', 'lead_name', 'contact_no', 'poc_name', 'lead_poc_email', 'internal_poc']\n",
    "\n",
    "quant_col = ['deal_value']\n",
    "\n",
    "cat_col = ['industry', 'pitch', 'fund_category', 'geography', 'location', 'designation', \n",
    "          'hiring_candidate_role', 'lead_source', 'level_of_meeting', 'last_lead_update', \n",
    "          'resource', 'internal_rating']\n",
    "\n",
    "fur_pro = ['weighted_amount', 'date_of_creation', 'lead_revenue']\n",
    "\n",
    "tar_var = ['success_probability']"
   ]
  },
  {
   "cell_type": "markdown",
   "id": "a88bd0f9",
   "metadata": {},
   "source": [
    "### Working on the Variables with the need of Further processing"
   ]
  },
  {
   "cell_type": "code",
   "execution_count": 7,
   "id": "eda02118",
   "metadata": {},
   "outputs": [],
   "source": [
    "# Removing the Dollar sign from 'weighted_amount'\n",
    "\n",
    "for i in range(len(df_train['weighted_amount'])):\n",
    "    if df_train['weighted_amount'][[i]].isnull().values == True:\n",
    "        pass\n",
    "    else:\n",
    "        a = str(df_train['weighted_amount'][i]).split('$')\n",
    "        df_train['weighted_amount'][i] = a[0]\n",
    "        \n",
    "# Changing the type of the Variable\n",
    "\n",
    "df_train['weighted_amount']= df_train['weighted_amount'].astype('float64')\n",
    "\n",
    "# Converting 'date_of_creation' column into Date tyoe\n",
    "\n",
    "df_train['date_of_creation'] = pd.to_datetime(df_train['date_of_creation'],\n",
    "                                             format = '%Y-%m-%d')\n",
    "\n",
    "# Converting 'lead_revenue' variable into a categorical one\n",
    "\n",
    "df_train['lead_revenue'] = pd.Categorical(df_train['lead_revenue'],\n",
    "                                         ['50 - 100 Million', '100 - 500 Million','500 Million - 1 Billion'],\n",
    "                                         ordered = True)\n",
    "df_train['lead_revenue'] = df_train['lead_revenue'].cat.codes\n",
    "\n",
    "################### Updated Variables ##############################\n",
    "\n",
    "# Variable Seperation based on the given description and the number of uniques values\n",
    "\n",
    "drop_col = ['deal_title', 'lead_name', 'contact_no', 'poc_name', 'lead_poc_email', 'internal_poc']\n",
    "\n",
    "quant_col = ['deal_value', 'weighted_amount']\n",
    "\n",
    "cat_col = ['industry', 'pitch', 'fund_category', 'geography', 'location', 'designation', \n",
    "          'hiring_candidate_role', 'lead_source', 'level_of_meeting', 'last_lead_update', \n",
    "          'resource', 'internal_rating', 'date_of_creation', 'lead_revenue']\n",
    "\n",
    "tar_var = ['success_probability']"
   ]
  },
  {
   "cell_type": "markdown",
   "id": "75f81af2",
   "metadata": {},
   "source": [
    "# Feature Engineering"
   ]
  },
  {
   "cell_type": "code",
   "execution_count": 8,
   "id": "9990a684",
   "metadata": {},
   "outputs": [],
   "source": [
    "# Removing '$' from the columns\n",
    "\n",
    "for i in range(len(df_train['deal_value'])):\n",
    "    if df_train['deal_value'][[i]].isnull().values == True:\n",
    "        pass\n",
    "    else:\n",
    "        a = str(df_train['deal_value'][i]).split('$')\n",
    "        df_train['deal_value'][i] = a[0]\n",
    "\n",
    "# Converting 'pitch' variable into Categorical Variable\n",
    "\n",
    "df_train['pitch'] = pd.Categorical(df_train['pitch'],\n",
    "                                  ['Product_2', 'Product_1'], \n",
    "                                   ordered = True)\n",
    "\n",
    "df_train['pitch'] = df_train['pitch'].cat.codes\n",
    "\n",
    "# Making the 'resource' into only 2 uniques\n",
    "\n",
    "df_train['resource'].replace({'Not enough':'No','Cannot deliver':'No',\n",
    "                             'Deliverable':'Yes', 'We have all the requirements':'Yes'},\n",
    "                            inplace = True)\n",
    "\n",
    "\n",
    "# Converting '?' with NaN value\n",
    "\n",
    "df_train['last_lead_update'].replace({'?':np.nan}, inplace = True)\n",
    "\n",
    "\n",
    "# Converting 'level_of_meeting' into Categorical Variable\n",
    "\n",
    "df_train['level_of_meeting'] = pd.Categorical(df_train['level_of_meeting'],\n",
    "                                             ['Level 1', 'Level 2','Level 3'],\n",
    "                                             ordered = True)\n",
    "\n",
    "df_train['level_of_meeting'] = df_train['level_of_meeting'].cat.codes\n",
    "\n",
    "# Converting 'lead_source' into Categorical Variable\n",
    "\n",
    "df_train['lead_source'] = pd.Categorical(df_train['lead_source'],\n",
    "                                             ['Website', 'Others', 'Marketing Event', 'Contact Email'],\n",
    "                                             ordered = False)\n",
    "\n",
    "# Converting 'fund_category' into Categorical Variable\n",
    "\n",
    "df_train['fund_category'] = pd.Categorical(df_train['fund_category'],\n",
    "                                             ['Category 1','Category 2','Category 3','Category 4'],\n",
    "                                             ordered = True)\n",
    "\n",
    "df_train['fund_category'] = df_train['fund_category'].cat.codes"
   ]
  },
  {
   "cell_type": "markdown",
   "id": "b1925685",
   "metadata": {},
   "source": [
    "# Missing Value Treatment"
   ]
  },
  {
   "cell_type": "code",
   "execution_count": 9,
   "id": "ff490a8e",
   "metadata": {},
   "outputs": [
    {
     "data": {
      "text/plain": [
       "industry             0.01\n",
       "deal_value           0.73\n",
       "weighted_amount      7.49\n",
       "geography           13.87\n",
       "location             0.16\n",
       "poc_name             0.11\n",
       "last_lead_update    17.38\n",
       "resource             2.13\n",
       "dtype: float64"
      ]
     },
     "execution_count": 9,
     "metadata": {},
     "output_type": "execute_result"
    }
   ],
   "source": [
    "# Determining the Variables with Missing Values (Percentage-basis)\n",
    "np.round((((df_train[nul_var].isnull().sum())/len(df_train))*100),2)"
   ]
  },
  {
   "cell_type": "markdown",
   "id": "c411632f",
   "metadata": {},
   "source": [
    "**Missing Value Treatment Approach**\n",
    "\n",
    "1. Variables with less than 10% of missing values - Simply imputed by Mode or Median, depending on the type of variable.\n",
    "\n",
    "2. Variables with more than 10% and less than 30% of the missing values - Imputations are based on the correlation with other variables.\n",
    "\n",
    "3. Variables with equal or more than 30% of the missing values - Variable(s) dropped. "
   ]
  },
  {
   "cell_type": "code",
   "execution_count": 10,
   "id": "3c33fcdd",
   "metadata": {},
   "outputs": [],
   "source": [
    "# Treating Missing Values of 'industry' with Mode\n",
    "\n",
    "df_train['industry'].fillna(df_train['industry'].mode()[0],inplace=True)\n",
    "\n",
    "# 'industry' variable transformation into Categorical\n",
    "\n",
    "df_train['industry'] = pd.Categorical(df_train['industry'],\n",
    "                                     df_train['industry'].unique(),\n",
    "                                     ordered = False)\n",
    "\n",
    "# Treating Missing Values of 'weighted_amount' with Median\n",
    "\n",
    "df_train['weighted_amount'].fillna(np.round(df_train['weighted_amount'].median(),2),\n",
    "                                  inplace = True)\n",
    "\n",
    "# Treating Missing Values of 'location'  with Mode Value depending on the Values of 'geography' variable\n",
    "\n",
    "for i in range(len(df_train['location'])):\n",
    "    if df_train['location'][[i]].isnull().values == True:\n",
    "        if df_train['geography'][i] == 'USA':\n",
    "            df_train['location'][i] = df_train['location'][df_train['geography'] =='USA'].mode()[0]\n",
    "        elif df_train['geography'][i] == 'India':\n",
    "            df_train['location'][i] = df_train['location'][df_train['geography'] =='India'].mode()[0]\n",
    "        else:\n",
    "            df_train['location'][i] = df_train['location'].mode()[0]\n",
    "    else:\n",
    "        pass\n",
    "    \n",
    "# Treating Missing Values of 'geography' on the basis of values of 'location' variable\n",
    "\n",
    "us_locations = list(df_train['location'][df_train['geography'] =='USA'].unique())\n",
    "ind_locations = list(df_train['location'][df_train['geography'] =='India'].unique())\n",
    "\n",
    "for i in range(len(df_train['geography'])):\n",
    "    if df_train['geography'][[i]].isnull().values == True:\n",
    "        if df_train['location'][i] in us_locations:\n",
    "            df_train['geography'][i] = 'USA'\n",
    "        else:\n",
    "            df_train['geography'][i] = 'India'\n",
    "    else:\n",
    "        pass\n",
    "    \n",
    "# Treating Missing Values of 'last_lead_update' on the basis of values of 'geography'\n",
    "\n",
    "for i in range(len(df_train['last_lead_update'])):\n",
    "    if (df_train['last_lead_update'][[i]].isnull().values == True) and (df_train['geography'][i] == 'India'):\n",
    "        df_train['last_lead_update'][i] = df_train['last_lead_update'][df_train['geography'] == 'India'].mode()[0]\n",
    "    elif (df_train['last_lead_update'][[i]].isnull().values == True) and (df_train['geography'][i] == 'USA'):\n",
    "        df_train['last_lead_update'][i] = df_train['last_lead_update'][df_train['geography'] == 'USA'].mode()[0]\n",
    "    else:\n",
    "        pass\n",
    "    \n",
    "    \n",
    "# Imputing Missing Values of 'deal_value' with Median Value\n",
    "\n",
    "df_train['deal_value'].fillna(np.round(df_train['deal_value'].median(),2), inplace=True)\n",
    "\n",
    "# Imputing Missing Values for 'resource' with Mode\n",
    "\n",
    "df_train['resource'].fillna(df_train['resource'].mode()[0], inplace = True)"
   ]
  },
  {
   "cell_type": "markdown",
   "id": "82430b37",
   "metadata": {},
   "source": [
    "# Feature Engineering (Further)"
   ]
  },
  {
   "cell_type": "code",
   "execution_count": 11,
   "id": "d20f5ff9",
   "metadata": {},
   "outputs": [],
   "source": [
    "# Transforming the dtypes of the variables accordingly\n",
    "\n",
    "df_train['deal_value'] = df_train['deal_value'].astype('int64') # from float\n",
    "\n",
    "df_train['geography'] = pd.Categorical(df_train['geography'], \n",
    "                                      ['India', 'USA'],\n",
    "                                      ordered = True)\n",
    "\n",
    "df_train['geography'] = df_train['geography'].cat.codes\n",
    "\n",
    "df_train['location'] = pd.Categorical(df_train['location'], \n",
    "                                      df_train['location'].unique(),\n",
    "                                      ordered = False)\n",
    "\n",
    "df_train['designation'] = pd.Categorical(df_train['designation'], \n",
    "                                      df_train['designation'].unique(),\n",
    "                                      ordered = False)\n",
    "\n",
    "df_train['hiring_candidate_role'] = pd.Categorical(df_train['hiring_candidate_role'], \n",
    "                                      df_train['hiring_candidate_role'].unique(),\n",
    "                                      ordered = False)\n",
    "\n",
    "\n",
    "\n",
    "df_train['resource'] = pd.Categorical(df_train['resource'],\n",
    "                                  ['No','Yes'], \n",
    "                                   ordered = True)\n",
    "\n",
    "df_train['resource'] = df_train['resource'].cat.codes\n",
    "\n",
    "df_train['lead_source'] = pd.Categorical(df_train['lead_source'],\n",
    "                                  ['Website','Others','Contact Email','Marketing Event'], \n",
    "                                   ordered = True)\n",
    "\n",
    "df_train['lead_source'] = df_train['lead_source'].cat.codes\n",
    "\n",
    "df_train['last_lead_update'] = pd.Categorical(df_train['last_lead_update'],\n",
    "                                  ['Pending','Did not hear back after Level 1','More than a week back',\n",
    "                                   'More than 2 weeks', '2 days back', '5 days back', 'No track',\n",
    "                                  'more than a month', 'Up-to-date', 'Following up but lead not responding'], \n",
    "                                   ordered = True)\n",
    "\n",
    "df_train['last_lead_update'] = df_train['last_lead_update'].cat.codes\n",
    "\n",
    "# Extracting Months and Year from Date Predictor\n",
    "\n",
    "df_train['year_of_creation'] = df_train['date_of_creation'].dt.year\n",
    "df_train['month_of_creation'] = df_train['date_of_creation'].dt.month\n",
    "\n",
    "df_train['high_month'] = pd.Categorical(df_train['month_of_creation'],\n",
    "                                       [4,7,9,2,11,8,1,12,6,10,5,3],\n",
    "                                       ordered = True)\n",
    "\n",
    "df_train['high_month'] = df_train['high_month'].cat.codes\n",
    "\n",
    "df_train['high_year'] = pd.Categorical(df_train['year_of_creation'], [2019,2021,2020], ordered = True)\n",
    "\n",
    "df_train['high_year'] = df_train['high_year'].cat.codes"
   ]
  },
  {
   "cell_type": "code",
   "execution_count": null,
   "id": "59e83de9",
   "metadata": {},
   "outputs": [],
   "source": [
    "df_train.info()"
   ]
  },
  {
   "cell_type": "code",
   "execution_count": 12,
   "id": "7654f395",
   "metadata": {},
   "outputs": [],
   "source": [
    "################### Updated Variables ##############################\n",
    "\n",
    "# Variable Seperation based on the given description and the number of uniques values\n",
    "\n",
    "drop_col = ['deal_title', 'lead_name', 'contact_no', 'poc_name', 'lead_poc_email', 'internal_poc',\n",
    "           'month_of_creation', 'year_of_creation']\n",
    "\n",
    "quant_col = ['deal_value', 'weighted_amount','success_probability']\n",
    "\n",
    "cat_col = ['industry', 'pitch', 'fund_category', 'geography', 'location', 'designation', \n",
    "          'hiring_candidate_role', 'lead_source', 'level_of_meeting', 'last_lead_update', \n",
    "          'resource', 'internal_rating', 'date_of_creation', 'lead_revenue', 'high_year',\n",
    "          'high_month']"
   ]
  },
  {
   "cell_type": "markdown",
   "id": "a007f929",
   "metadata": {},
   "source": [
    "# Clustering"
   ]
  },
  {
   "cell_type": "code",
   "execution_count": 13,
   "id": "082484f2",
   "metadata": {},
   "outputs": [
    {
     "data": {
      "text/plain": [
       "Index(['deal_title', 'lead_name', 'industry', 'deal_value', 'weighted_amount',\n",
       "       'date_of_creation', 'pitch', 'contact_no', 'lead_revenue',\n",
       "       'fund_category', 'geography', 'location', 'poc_name', 'designation',\n",
       "       'lead_poc_email', 'hiring_candidate_role', 'lead_source',\n",
       "       'level_of_meeting', 'last_lead_update', 'internal_poc', 'resource',\n",
       "       'internal_rating', 'success_probability', 'year_of_creation',\n",
       "       'month_of_creation', 'high_month', 'high_year'],\n",
       "      dtype='object')"
      ]
     },
     "execution_count": 13,
     "metadata": {},
     "output_type": "execute_result"
    }
   ],
   "source": [
    "df_train.columns"
   ]
  },
  {
   "cell_type": "code",
   "execution_count": 45,
   "id": "30c9efc9",
   "metadata": {},
   "outputs": [
    {
     "data": {
      "text/html": [
       "<div>\n",
       "<style scoped>\n",
       "    .dataframe tbody tr th:only-of-type {\n",
       "        vertical-align: middle;\n",
       "    }\n",
       "\n",
       "    .dataframe tbody tr th {\n",
       "        vertical-align: top;\n",
       "    }\n",
       "\n",
       "    .dataframe thead th {\n",
       "        text-align: right;\n",
       "    }\n",
       "</style>\n",
       "<table border=\"1\" class=\"dataframe\">\n",
       "  <thead>\n",
       "    <tr style=\"text-align: right;\">\n",
       "      <th></th>\n",
       "      <th>industry</th>\n",
       "      <th>pitch</th>\n",
       "      <th>deal_value</th>\n",
       "    </tr>\n",
       "  </thead>\n",
       "  <tbody>\n",
       "    <tr>\n",
       "      <th>0</th>\n",
       "      <td>Restaurants</td>\n",
       "      <td>0</td>\n",
       "      <td>320506</td>\n",
       "    </tr>\n",
       "    <tr>\n",
       "      <th>1</th>\n",
       "      <td>Construction Services</td>\n",
       "      <td>0</td>\n",
       "      <td>39488</td>\n",
       "    </tr>\n",
       "    <tr>\n",
       "      <th>2</th>\n",
       "      <td>Hospitals/Clinics</td>\n",
       "      <td>1</td>\n",
       "      <td>359392</td>\n",
       "    </tr>\n",
       "    <tr>\n",
       "      <th>3</th>\n",
       "      <td>Real Estate</td>\n",
       "      <td>0</td>\n",
       "      <td>76774</td>\n",
       "    </tr>\n",
       "    <tr>\n",
       "      <th>4</th>\n",
       "      <td>Financial Services</td>\n",
       "      <td>0</td>\n",
       "      <td>483896</td>\n",
       "    </tr>\n",
       "  </tbody>\n",
       "</table>\n",
       "</div>"
      ],
      "text/plain": [
       "                industry  pitch  deal_value\n",
       "0            Restaurants      0      320506\n",
       "1  Construction Services      0       39488\n",
       "2      Hospitals/Clinics      1      359392\n",
       "3            Real Estate      0       76774\n",
       "4     Financial Services      0      483896"
      ]
     },
     "execution_count": 45,
     "metadata": {},
     "output_type": "execute_result"
    }
   ],
   "source": [
    "Data_cluster = df_train[['industry','pitch','deal_value']]\n",
    "\n",
    "Data_cluster.head()"
   ]
  },
  {
   "cell_type": "code",
   "execution_count": 46,
   "id": "ee6498f4",
   "metadata": {},
   "outputs": [
    {
     "data": {
      "text/html": [
       "<div>\n",
       "<style scoped>\n",
       "    .dataframe tbody tr th:only-of-type {\n",
       "        vertical-align: middle;\n",
       "    }\n",
       "\n",
       "    .dataframe tbody tr th {\n",
       "        vertical-align: top;\n",
       "    }\n",
       "\n",
       "    .dataframe thead th {\n",
       "        text-align: right;\n",
       "    }\n",
       "</style>\n",
       "<table border=\"1\" class=\"dataframe\">\n",
       "  <thead>\n",
       "    <tr style=\"text-align: right;\">\n",
       "      <th></th>\n",
       "      <th>industry</th>\n",
       "      <th>pitch</th>\n",
       "      <th>deal_value</th>\n",
       "    </tr>\n",
       "  </thead>\n",
       "  <tbody>\n",
       "    <tr>\n",
       "      <th>0</th>\n",
       "      <td>0</td>\n",
       "      <td>0</td>\n",
       "      <td>320506</td>\n",
       "    </tr>\n",
       "    <tr>\n",
       "      <th>1</th>\n",
       "      <td>1</td>\n",
       "      <td>0</td>\n",
       "      <td>39488</td>\n",
       "    </tr>\n",
       "    <tr>\n",
       "      <th>2</th>\n",
       "      <td>2</td>\n",
       "      <td>1</td>\n",
       "      <td>359392</td>\n",
       "    </tr>\n",
       "    <tr>\n",
       "      <th>3</th>\n",
       "      <td>3</td>\n",
       "      <td>0</td>\n",
       "      <td>76774</td>\n",
       "    </tr>\n",
       "    <tr>\n",
       "      <th>4</th>\n",
       "      <td>4</td>\n",
       "      <td>0</td>\n",
       "      <td>483896</td>\n",
       "    </tr>\n",
       "  </tbody>\n",
       "</table>\n",
       "</div>"
      ],
      "text/plain": [
       "   industry  pitch  deal_value\n",
       "0         0      0      320506\n",
       "1         1      0       39488\n",
       "2         2      1      359392\n",
       "3         3      0       76774\n",
       "4         4      0      483896"
      ]
     },
     "execution_count": 46,
     "metadata": {},
     "output_type": "execute_result"
    }
   ],
   "source": [
    "# Converting str type variable into int type\n",
    "\n",
    "Data_cluster['industry'] = pd.Categorical(Data_cluster['industry'],\n",
    "                                           Data_cluster['industry'].unique(), ordered = False)\n",
    "\n",
    "Data_cluster['industry'] = Data_cluster['industry'].cat.codes\n",
    "\n",
    "# Confirming the Change\n",
    "\n",
    "Data_cluster.head()"
   ]
  },
  {
   "cell_type": "code",
   "execution_count": 47,
   "id": "04f95bb4",
   "metadata": {},
   "outputs": [],
   "source": [
    "X_clust = Data_cluster.values"
   ]
  },
  {
   "cell_type": "code",
   "execution_count": 48,
   "id": "5df50514",
   "metadata": {},
   "outputs": [
    {
     "data": {
      "image/png": "[encoded data removed]",
      "text/plain": [
       "<Figure size 432x288 with 1 Axes>"
      ]
     },
     "metadata": {
      "needs_background": "light"
     },
     "output_type": "display_data"
    }
   ],
   "source": [
    "# Finding the best number of clusters\n",
    "\n",
    "inertiaValue = []\n",
    "for i in range(1, 11):\n",
    "    km = KMeans(n_clusters=i, \n",
    "                init='random',\n",
    "                n_init=10, \n",
    "                max_iter=300,\n",
    "                tol=1e-04,\n",
    "                random_state=0)\n",
    "    \n",
    "    km.fit(X_clust)\n",
    "    inertiaValue.append(km.inertia_)\n",
    "    \n",
    "plt.plot(range(1, 11), inertiaValue, marker='o')\n",
    "plt.xlabel('Number of clusters')\n",
    "plt.ylabel('Inertia')\n",
    "plt.tight_layout()\n",
    "plt.show()"
   ]
  },
  {
   "cell_type": "markdown",
   "id": "33e32b01",
   "metadata": {},
   "source": [
    "Optimum number of clusters chosen is 3."
   ]
  },
  {
   "cell_type": "code",
   "execution_count": 49,
   "id": "5272a902",
   "metadata": {},
   "outputs": [],
   "source": [
    "km = KMeans(n_clusters=3, \n",
    "            init='random', \n",
    "            n_init=10, \n",
    "            max_iter=300,\n",
    "            tol=1e-04,\n",
    "            random_state=3)\n",
    "\n",
    "predictedCluster = km.fit_predict(X_clust)\n",
    "\n",
    "df_train['ClusterID'] = predictedCluster"
   ]
  },
  {
   "cell_type": "markdown",
   "id": "00fb6a4b",
   "metadata": {},
   "source": [
    "# Outlier Handling"
   ]
  },
  {
   "cell_type": "code",
   "execution_count": 36,
   "id": "67e0f095",
   "metadata": {},
   "outputs": [
    {
     "data": {
      "text/plain": [
       "<AxesSubplot:xlabel='success_probability'>"
      ]
     },
     "execution_count": 36,
     "metadata": {},
     "output_type": "execute_result"
    },
    {
     "data": {
      "image/png": "[encoded data removed]",
      "text/plain": [
       "<Figure size 432x288 with 1 Axes>"
      ]
     },
     "metadata": {
      "needs_background": "light"
     },
     "output_type": "display_data"
    }
   ],
   "source": [
    "# For Target Variable\n",
    "\n",
    "sns.boxplot(df_train['success_probability'])"
   ]
  },
  {
   "cell_type": "code",
   "execution_count": 37,
   "id": "0b372359",
   "metadata": {},
   "outputs": [
    {
     "data": {
      "text/plain": [
       "<AxesSubplot:xlabel='success_probability'>"
      ]
     },
     "execution_count": 37,
     "metadata": {},
     "output_type": "execute_result"
    },
    {
     "data": {
      "image/png": "[encoded data removed]",
      "text/plain": [
       "<Figure size 432x288 with 1 Axes>"
      ]
     },
     "metadata": {
      "needs_background": "light"
     },
     "output_type": "display_data"
    }
   ],
   "source": [
    "# Probability values below 0 and over 100 to be replaced by their respective nearest logical values\n",
    "\n",
    "df_train['success_probability'][df_train['success_probability']>80] = 79.1\n",
    "df_train['success_probability'][df_train['success_probability']<51] = 50.9\n",
    "\n",
    "# Distribution After Outlier handling\n",
    "\n",
    "sns.boxplot(df_train['success_probability'])"
   ]
  },
  {
   "cell_type": "markdown",
   "id": "0dea3d23",
   "metadata": {},
   "source": [
    "### For Quantitative Predictors\n",
    "\n",
    "There is no presence of outliers in the quantitative variables."
   ]
  },
  {
   "cell_type": "markdown",
   "id": "ee65b39d",
   "metadata": {},
   "source": [
    "# Visualization of Categorical Variables"
   ]
  },
  {
   "cell_type": "code",
   "execution_count": 38,
   "id": "f98b5d13",
   "metadata": {},
   "outputs": [],
   "source": [
    "################### Updated Variables ##############################\n",
    "\n",
    "# Variable Seperation based on the given description and the number of uniques values\n",
    "\n",
    "drop_col = ['deal_title', 'lead_name', 'contact_no', 'poc_name', 'lead_poc_email', 'internal_poc',\n",
    "           'month_of_creation', 'year_of_creation']\n",
    "\n",
    "quant_col = ['deal_value', 'weighted_amount','success_probability']\n",
    "\n",
    "cat_col = ['industry', 'pitch', 'fund_category', 'geography', 'location', 'designation', \n",
    "          'hiring_candidate_role', 'lead_source', 'level_of_meeting', 'last_lead_update', \n",
    "          'resource', 'internal_rating', 'date_of_creation', 'lead_revenue', 'high_year',\n",
    "          'high_month','ClusterID']"
   ]
  },
  {
   "cell_type": "code",
   "execution_count": 39,
   "id": "411ee945",
   "metadata": {},
   "outputs": [],
   "source": [
    "def PlotBarCharts(inpData, colsToPlot):\n",
    "    fig, subPlot = plt.subplots(nrows=1, ncols = len(colsToPlot), figsize=(20,10))\n",
    "    fig.suptitle('Bar Charts of:' + str(colsToPlot))\n",
    "    \n",
    "    for colName, plotNumber in zip(colsToPlot, range(len(colsToPlot))):\n",
    "        inpData.groupby(colName).size().plot(kind='bar', ax=subPlot[plotNumber])"
   ]
  },
  {
   "cell_type": "code",
   "execution_count": 40,
   "id": "eec5908f",
   "metadata": {},
   "outputs": [
    {
     "data": {
      "image/png": "[encoded data removed]",
      "text/plain": [
       "<Figure size 1440x720 with 17 Axes>"
      ]
     },
     "metadata": {
      "needs_background": "light"
     },
     "output_type": "display_data"
    }
   ],
   "source": [
    "PlotBarCharts(inpData = df_train,\n",
    "             colsToPlot = cat_col)"
   ]
  },
  {
   "cell_type": "markdown",
   "id": "95c661ae",
   "metadata": {},
   "source": [
    "**OUTCOME OF THE VISUALIZATION**\n",
    "\n",
    "* All the categorical predictors seem to have enough variations."
   ]
  },
  {
   "cell_type": "markdown",
   "id": "f76f3563",
   "metadata": {},
   "source": [
    "# Statistical Feature Selection"
   ]
  },
  {
   "cell_type": "markdown",
   "id": "5294ec12",
   "metadata": {},
   "source": [
    "### Correlation Matrix"
   ]
  },
  {
   "cell_type": "code",
   "execution_count": 41,
   "id": "056b6b2a",
   "metadata": {},
   "outputs": [
    {
     "data": {
      "text/html": [
       "<div>\n",
       "<style scoped>\n",
       "    .dataframe tbody tr th:only-of-type {\n",
       "        vertical-align: middle;\n",
       "    }\n",
       "\n",
       "    .dataframe tbody tr th {\n",
       "        vertical-align: top;\n",
       "    }\n",
       "\n",
       "    .dataframe thead th {\n",
       "        text-align: right;\n",
       "    }\n",
       "</style>\n",
       "<table border=\"1\" class=\"dataframe\">\n",
       "  <thead>\n",
       "    <tr style=\"text-align: right;\">\n",
       "      <th></th>\n",
       "      <th>deal_value</th>\n",
       "      <th>weighted_amount</th>\n",
       "      <th>success_probability</th>\n",
       "    </tr>\n",
       "  </thead>\n",
       "  <tbody>\n",
       "    <tr>\n",
       "      <th>deal_value</th>\n",
       "      <td>1.000000</td>\n",
       "      <td>0.949448</td>\n",
       "      <td>0.071332</td>\n",
       "    </tr>\n",
       "    <tr>\n",
       "      <th>weighted_amount</th>\n",
       "      <td>0.949448</td>\n",
       "      <td>1.000000</td>\n",
       "      <td>0.110680</td>\n",
       "    </tr>\n",
       "    <tr>\n",
       "      <th>success_probability</th>\n",
       "      <td>0.071332</td>\n",
       "      <td>0.110680</td>\n",
       "      <td>1.000000</td>\n",
       "    </tr>\n",
       "  </tbody>\n",
       "</table>\n",
       "</div>"
      ],
      "text/plain": [
       "                     deal_value  weighted_amount  success_probability\n",
       "deal_value             1.000000         0.949448             0.071332\n",
       "weighted_amount        0.949448         1.000000             0.110680\n",
       "success_probability    0.071332         0.110680             1.000000"
      ]
     },
     "execution_count": 41,
     "metadata": {},
     "output_type": "execute_result"
    }
   ],
   "source": [
    "df_train[quant_col].corr()"
   ]
  },
  {
   "cell_type": "markdown",
   "id": "75810c2c",
   "metadata": {},
   "source": [
    "**OUTCOME OF CORRELATION MATRIX**\n",
    "\n",
    "* All the continuous predictors are correlated to the Target Variable."
   ]
  },
  {
   "cell_type": "markdown",
   "id": "351dd037",
   "metadata": {},
   "source": [
    "### ANOVA Test"
   ]
  },
  {
   "cell_type": "code",
   "execution_count": 42,
   "id": "0f03c543",
   "metadata": {},
   "outputs": [],
   "source": [
    "def FunctionAnova(inpData, TargetVariable, CategoricalPredictorList):\n",
    "\n",
    "    # Creating an empty list of final selected predictors\n",
    "    SelectedPredictors=[]\n",
    "    \n",
    "    print('##### ANOVA Results ##### \\n')\n",
    "    for predictor in CategoricalPredictorList:\n",
    "        CategoryGroupLists=inpData.groupby(predictor)[TargetVariable].apply(list)\n",
    "        AnovaResults = f_oneway(*CategoryGroupLists)\n",
    "        \n",
    "        # If the ANOVA P-Value is <0.05, that means we reject H0\n",
    "        if (AnovaResults[1] < 0.05):\n",
    "            print(predictor, 'is correlated with', TargetVariable, '| P-Value:', AnovaResults[1])\n",
    "            SelectedPredictors.append(predictor)\n",
    "        else:\n",
    "            print(predictor, 'is NOT correlated with', TargetVariable, '| P-Value:', AnovaResults[1])\n",
    "    \n",
    "    return(SelectedPredictors)"
   ]
  },
  {
   "cell_type": "code",
   "execution_count": 50,
   "id": "5736a4ec",
   "metadata": {},
   "outputs": [
    {
     "name": "stdout",
     "output_type": "stream",
     "text": [
      "##### ANOVA Results ##### \n",
      "\n",
      "industry is NOT correlated with success_probability | P-Value: 0.8247151359167761\n",
      "pitch is NOT correlated with success_probability | P-Value: 0.7611664312707982\n",
      "fund_category is correlated with success_probability | P-Value: 5.19933819199865e-35\n",
      "geography is correlated with success_probability | P-Value: 5.369275551753162e-299\n",
      "location is correlated with success_probability | P-Value: 1.9706486121001607e-138\n",
      "designation is NOT correlated with success_probability | P-Value: 0.9784411703932591\n",
      "hiring_candidate_role is NOT correlated with success_probability | P-Value: 0.9077206134804474\n",
      "lead_source is correlated with success_probability | P-Value: 1.2253594226487545e-38\n",
      "level_of_meeting is correlated with success_probability | P-Value: 6.820088138566349e-78\n",
      "last_lead_update is correlated with success_probability | P-Value: 7.136512614646e-21\n",
      "resource is NOT correlated with success_probability | P-Value: 0.7964133159211657\n",
      "internal_rating is correlated with success_probability | P-Value: 1.418217203151707e-88\n",
      "date_of_creation is NOT correlated with success_probability | P-Value: 0.6869173875538357\n",
      "lead_revenue is correlated with success_probability | P-Value: 6.978751162565587e-14\n",
      "high_year is NOT correlated with success_probability | P-Value: 0.5362107293468268\n",
      "high_month is NOT correlated with success_probability | P-Value: 0.3608940315010386\n",
      "ClusterID is correlated with success_probability | P-Value: 9.692650155049105e-09\n"
     ]
    },
    {
     "data": {
      "text/plain": [
       "['fund_category',\n",
       " 'geography',\n",
       " 'location',\n",
       " 'lead_source',\n",
       " 'level_of_meeting',\n",
       " 'last_lead_update',\n",
       " 'internal_rating',\n",
       " 'lead_revenue',\n",
       " 'ClusterID']"
      ]
     },
     "execution_count": 50,
     "metadata": {},
     "output_type": "execute_result"
    }
   ],
   "source": [
    "FunctionAnova(inpData=df_train, \n",
    "              TargetVariable='success_probability', \n",
    "              CategoricalPredictorList=cat_col)"
   ]
  },
  {
   "cell_type": "markdown",
   "id": "1e72027c",
   "metadata": {},
   "source": [
    "# Selecting Final Predictors for Model"
   ]
  },
  {
   "cell_type": "code",
   "execution_count": 51,
   "id": "bd15e2e9",
   "metadata": {},
   "outputs": [],
   "source": [
    "SelectedColumns = ['fund_category','geography', 'location', 'lead_source', 'level_of_meeting',\n",
    "                   'last_lead_update', 'internal_rating','lead_revenue', 'deal_value',\n",
    "                   'weighted_amount','ClusterID']\n",
    "\n",
    "DataForML = df_train[SelectedColumns]\n",
    "\n",
    "# Exporting for Future Reference\n",
    "\n",
    "DataForML.to_pickle('DataForML_2.pkl')"
   ]
  },
  {
   "cell_type": "markdown",
   "id": "c8d8a581",
   "metadata": {},
   "source": [
    "# Data Pre-processing for ML"
   ]
  },
  {
   "cell_type": "code",
   "execution_count": 53,
   "id": "8fcf10fb",
   "metadata": {},
   "outputs": [
    {
     "data": {
      "text/html": [
       "<div>\n",
       "<style scoped>\n",
       "    .dataframe tbody tr th:only-of-type {\n",
       "        vertical-align: middle;\n",
       "    }\n",
       "\n",
       "    .dataframe tbody tr th {\n",
       "        vertical-align: top;\n",
       "    }\n",
       "\n",
       "    .dataframe thead th {\n",
       "        text-align: right;\n",
       "    }\n",
       "</style>\n",
       "<table border=\"1\" class=\"dataframe\">\n",
       "  <thead>\n",
       "    <tr style=\"text-align: right;\">\n",
       "      <th></th>\n",
       "      <th>fund_category</th>\n",
       "      <th>geography</th>\n",
       "      <th>location</th>\n",
       "      <th>lead_source</th>\n",
       "      <th>level_of_meeting</th>\n",
       "      <th>last_lead_update</th>\n",
       "      <th>internal_rating</th>\n",
       "      <th>lead_revenue</th>\n",
       "      <th>deal_value</th>\n",
       "      <th>weighted_amount</th>\n",
       "      <th>ClusterID</th>\n",
       "    </tr>\n",
       "  </thead>\n",
       "  <tbody>\n",
       "    <tr>\n",
       "      <th>0</th>\n",
       "      <td>1</td>\n",
       "      <td>1</td>\n",
       "      <td>Killeen-Temple, TX</td>\n",
       "      <td>0</td>\n",
       "      <td>2</td>\n",
       "      <td>6</td>\n",
       "      <td>3</td>\n",
       "      <td>0</td>\n",
       "      <td>320506</td>\n",
       "      <td>2067263.7</td>\n",
       "      <td>2</td>\n",
       "    </tr>\n",
       "    <tr>\n",
       "      <th>1</th>\n",
       "      <td>3</td>\n",
       "      <td>0</td>\n",
       "      <td>Ratlam</td>\n",
       "      <td>1</td>\n",
       "      <td>0</td>\n",
       "      <td>1</td>\n",
       "      <td>5</td>\n",
       "      <td>2</td>\n",
       "      <td>39488</td>\n",
       "      <td>240876.8</td>\n",
       "      <td>0</td>\n",
       "    </tr>\n",
       "  </tbody>\n",
       "</table>\n",
       "</div>"
      ],
      "text/plain": [
       "   fund_category  geography            location  lead_source  \\\n",
       "0              1          1  Killeen-Temple, TX            0   \n",
       "1              3          0              Ratlam            1   \n",
       "\n",
       "   level_of_meeting  last_lead_update  internal_rating  lead_revenue  \\\n",
       "0                 2                 6                3             0   \n",
       "1                 0                 1                5             2   \n",
       "\n",
       "   deal_value  weighted_amount  ClusterID  \n",
       "0      320506        2067263.7          2  \n",
       "1       39488         240876.8          0  "
      ]
     },
     "execution_count": 53,
     "metadata": {},
     "output_type": "execute_result"
    }
   ],
   "source": [
    "# Re-checking if any of the selected columns are non-numeric\n",
    "\n",
    "DataForML.head(2)"
   ]
  },
  {
   "cell_type": "code",
   "execution_count": 55,
   "id": "c73b1c62",
   "metadata": {},
   "outputs": [
    {
     "data": {
      "text/html": [
       "<div>\n",
       "<style scoped>\n",
       "    .dataframe tbody tr th:only-of-type {\n",
       "        vertical-align: middle;\n",
       "    }\n",
       "\n",
       "    .dataframe tbody tr th {\n",
       "        vertical-align: top;\n",
       "    }\n",
       "\n",
       "    .dataframe thead th {\n",
       "        text-align: right;\n",
       "    }\n",
       "</style>\n",
       "<table border=\"1\" class=\"dataframe\">\n",
       "  <thead>\n",
       "    <tr style=\"text-align: right;\">\n",
       "      <th></th>\n",
       "      <th>fund_category</th>\n",
       "      <th>geography</th>\n",
       "      <th>location</th>\n",
       "      <th>lead_source</th>\n",
       "      <th>level_of_meeting</th>\n",
       "      <th>last_lead_update</th>\n",
       "      <th>internal_rating</th>\n",
       "      <th>lead_revenue</th>\n",
       "      <th>deal_value</th>\n",
       "      <th>weighted_amount</th>\n",
       "      <th>ClusterID</th>\n",
       "      <th>success_probability</th>\n",
       "    </tr>\n",
       "  </thead>\n",
       "  <tbody>\n",
       "    <tr>\n",
       "      <th>0</th>\n",
       "      <td>1</td>\n",
       "      <td>1</td>\n",
       "      <td>0</td>\n",
       "      <td>0</td>\n",
       "      <td>2</td>\n",
       "      <td>6</td>\n",
       "      <td>3</td>\n",
       "      <td>0</td>\n",
       "      <td>320506</td>\n",
       "      <td>2067263.7</td>\n",
       "      <td>2</td>\n",
       "      <td>73.6</td>\n",
       "    </tr>\n",
       "    <tr>\n",
       "      <th>1</th>\n",
       "      <td>3</td>\n",
       "      <td>0</td>\n",
       "      <td>1</td>\n",
       "      <td>1</td>\n",
       "      <td>0</td>\n",
       "      <td>1</td>\n",
       "      <td>5</td>\n",
       "      <td>2</td>\n",
       "      <td>39488</td>\n",
       "      <td>240876.8</td>\n",
       "      <td>0</td>\n",
       "      <td>58.9</td>\n",
       "    </tr>\n",
       "  </tbody>\n",
       "</table>\n",
       "</div>"
      ],
      "text/plain": [
       "   fund_category  geography  location  lead_source  level_of_meeting  \\\n",
       "0              1          1         0            0                 2   \n",
       "1              3          0         1            1                 0   \n",
       "\n",
       "   last_lead_update  internal_rating  lead_revenue  deal_value  \\\n",
       "0                 6                3             0      320506   \n",
       "1                 1                5             2       39488   \n",
       "\n",
       "   weighted_amount  ClusterID  success_probability  \n",
       "0        2067263.7          2                 73.6  \n",
       "1         240876.8          0                 58.9  "
      ]
     },
     "execution_count": 55,
     "metadata": {},
     "output_type": "execute_result"
    }
   ],
   "source": [
    "# Creating a new Data frame with only numeric values\n",
    "\n",
    "DataForML_Numeric = pd.DataFrame()\n",
    "\n",
    "DataForML_Numeric['fund_category'] = DataForML['fund_category']\n",
    "DataForML_Numeric['geography'] = DataForML['geography']\n",
    "DataForML_Numeric['location'] = DataForML['location'].cat.codes\n",
    "DataForML_Numeric['lead_source'] = DataForML['lead_source']\n",
    "DataForML_Numeric['level_of_meeting'] = DataForML['level_of_meeting']\n",
    "DataForML_Numeric['last_lead_update'] = DataForML['last_lead_update']\n",
    "DataForML_Numeric['internal_rating'] = DataForML['internal_rating']\n",
    "DataForML_Numeric['lead_revenue'] = DataForML['lead_revenue']\n",
    "DataForML_Numeric['deal_value'] = DataForML['deal_value']\n",
    "DataForML_Numeric['weighted_amount'] = DataForML['weighted_amount']\n",
    "DataForML_Numeric['ClusterID'] = DataForML['ClusterID']\n",
    "\n",
    "# Adding Target Varibale\n",
    "DataForML_Numeric['success_probability'] = df_train['success_probability']\n",
    "\n",
    "# Confirming the Changes\n",
    "\n",
    "DataForML_Numeric.head(2)"
   ]
  },
  {
   "cell_type": "code",
   "execution_count": 60,
   "id": "4f73ee79",
   "metadata": {},
   "outputs": [
    {
     "name": "stdout",
     "output_type": "stream",
     "text": [
      "The Shape of the Working Data-Frame is:  (7007, 12)\n",
      "The Reduction in the number of Columns from original Data-Frame is:  16\n"
     ]
    }
   ],
   "source": [
    "print('The Shape of the Working Data-Frame is: ',DataForML_Numeric.shape, end='\\n')\n",
    "print('The Reduction in the number of Columns from original Data-Frame is: ', (df_train.shape[1]-DataForML_Numeric.shape[1]))"
   ]
  },
  {
   "cell_type": "markdown",
   "id": "3d779b16",
   "metadata": {},
   "source": [
    "# Processing Testing Data in line with the Training Data"
   ]
  },
  {
   "cell_type": "code",
   "execution_count": 63,
   "id": "b00b7010",
   "metadata": {},
   "outputs": [],
   "source": [
    "df_test1 = pd.read_csv('test.csv')"
   ]
  },
  {
   "cell_type": "code",
   "execution_count": 65,
   "id": "c641a811",
   "metadata": {},
   "outputs": [],
   "source": [
    "# Removing the Dollar sign from 'weighted_amount'\n",
    "\n",
    "for i in range(len(df_test['weighted_amount'])):\n",
    "    if df_test['weighted_amount'][[i]].isnull().values == True:\n",
    "        pass\n",
    "    else:\n",
    "        a = str(df_test['weighted_amount'][i]).split('$')\n",
    "        df_test['weighted_amount'][i] = a[0]\n",
    "        \n",
    "# Changing the type of the Variable\n",
    "\n",
    "df_test['weighted_amount']= df_test['weighted_amount'].astype('float64')\n",
    "\n",
    "# Converting 'date_of_creation' column into Date tyoe\n",
    "\n",
    "df_test['date_of_creation'] = pd.to_datetime(df_test['date_of_creation'],\n",
    "                                             format = '%Y-%m-%d')\n",
    "\n",
    "# Converting 'lead_revenue' variable into a categorical one\n",
    "\n",
    "df_test['lead_revenue'] = pd.Categorical(df_test['lead_revenue'],\n",
    "                                         ['50 - 100 Million', '100 - 500 Million','500 Million - 1 Billion'],\n",
    "                                         ordered = True)\n",
    "df_test['lead_revenue'] = df_test['lead_revenue'].cat.codes\n",
    "\n",
    "# Removing '$' from the columns\n",
    "\n",
    "for i in range(len(df_test['deal_value'])):\n",
    "    if df_test['deal_value'][[i]].isnull().values == True:\n",
    "        pass\n",
    "    else:\n",
    "        a = str(df_test['deal_value'][i]).split('$')\n",
    "        df_test['deal_value'][i] = a[0]\n",
    "\n",
    "# Converting 'pitch' variable into Categorical Variable\n",
    "\n",
    "df_test['pitch'] = pd.Categorical(df_test['pitch'],\n",
    "                                  ['Product_2', 'Product_1'], \n",
    "                                   ordered = True)\n",
    "\n",
    "df_test['pitch'] = df_test['pitch'].cat.codes\n",
    "\n",
    "# Making the 'resource' into only 2 uniques\n",
    "\n",
    "df_test['resource'].replace({'Not enough':'No','Cannot deliver':'No',\n",
    "                             'Deliverable':'Yes', 'We have all the requirements':'Yes'},\n",
    "                            inplace = True)\n",
    "\n",
    "\n",
    "# Converting '?' with NaN value\n",
    "\n",
    "df_test['last_lead_update'].replace({'?':np.nan}, inplace = True)\n",
    "\n",
    "\n",
    "# Converting 'level_of_meeting' into Categorical Variable\n",
    "\n",
    "df_test['level_of_meeting'] = pd.Categorical(df_test['level_of_meeting'],\n",
    "                                             ['Level 1', 'Level 2','Level 3'],\n",
    "                                             ordered = True)\n",
    "\n",
    "df_test['level_of_meeting'] = df_test['level_of_meeting'].cat.codes\n",
    "\n",
    "# Converting 'lead_source' into Categorical Variable\n",
    "\n",
    "df_test['lead_source'] = pd.Categorical(df_test['lead_source'],\n",
    "                                             ['Website', 'Others', 'Marketing Event', 'Contact Email'],\n",
    "                                             ordered = False)\n",
    "\n",
    "# Converting 'fund_category' into Categorical Variable\n",
    "\n",
    "df_test['fund_category'] = pd.Categorical(df_test['fund_category'],\n",
    "                                             ['Category 1','Category 2','Category 3','Category 4'],\n",
    "                                             ordered = True)\n",
    "\n",
    "df_test['fund_category'] = df_test['fund_category'].cat.codes\n",
    "\n",
    "# Treating Missing Values of 'industry' with Mode\n",
    "\n",
    "df_test['industry'].fillna(df_test['industry'].mode()[0],inplace=True)\n",
    "\n",
    "# 'industry' variable transformation into Categorical\n",
    "\n",
    "df_test['industry'] = pd.Categorical(df_test['industry'],\n",
    "                                     df_test['industry'].unique(),\n",
    "                                     ordered = False)\n",
    "\n",
    "# Treating Missing Values of 'weighted_amount' with Median\n",
    "\n",
    "df_test['weighted_amount'].fillna(np.round(df_test['weighted_amount'].median(),2),\n",
    "                                  inplace = True)\n",
    "\n",
    "# Treating Missing Values of 'location'  with Mode Value depending on the Values of 'geography' variable\n",
    "\n",
    "for i in range(len(df_test['location'])):\n",
    "    if df_test['location'][[i]].isnull().values == True:\n",
    "        if df_test['geography'][i] == 'USA':\n",
    "            df_test['location'][i] = df_test['location'][df_test['geography'] =='USA'].mode()[0]\n",
    "        elif df_test['geography'][i] == 'India':\n",
    "            df_test['location'][i] = df_test['location'][df_test['geography'] =='India'].mode()[0]\n",
    "        else:\n",
    "            df_test['location'][i] = df_test['location'].mode()[0]\n",
    "    else:\n",
    "        pass\n",
    "    \n",
    "# Treating Missing Values of 'geography' on the basis of values of 'location' variable\n",
    "\n",
    "us_locations = list(df_test['location'][df_test['geography'] =='USA'].unique())\n",
    "ind_locations = list(df_test['location'][df_test['geography'] =='India'].unique())\n",
    "\n",
    "for i in range(len(df_test['geography'])):\n",
    "    if df_test['geography'][[i]].isnull().values == True:\n",
    "        if df_test['location'][i] in us_locations:\n",
    "            df_test['geography'][i] = 'USA'\n",
    "        else:\n",
    "            df_test['geography'][i] = 'India'\n",
    "    else:\n",
    "        pass\n",
    "    \n",
    "# Treating Missing Values of 'last_lead_update' on the basis of values of 'geography'\n",
    "\n",
    "for i in range(len(df_test['last_lead_update'])):\n",
    "    if (df_test['last_lead_update'][[i]].isnull().values == True) and (df_test['geography'][i] == 'India'):\n",
    "        df_test['last_lead_update'][i] = df_test['last_lead_update'][df_test['geography'] == 'India'].mode()[0]\n",
    "    elif (df_test['last_lead_update'][[i]].isnull().values == True) and (df_test['geography'][i] == 'USA'):\n",
    "        df_test['last_lead_update'][i] = df_test['last_lead_update'][df_test['geography'] == 'USA'].mode()[0]\n",
    "    else:\n",
    "        pass\n",
    "    \n",
    "    \n",
    "# Imputing Missing Values of 'deal_value' with Median Value\n",
    "\n",
    "df_test['deal_value'].fillna(np.round(df_test['deal_value'].median(),2), inplace=True)\n",
    "\n",
    "# Imputing Missing Values for 'resource' with Mode\n",
    "\n",
    "df_test['resource'].fillna(df_test['resource'].mode()[0], inplace = True)\n",
    "\n",
    "# Transforming the dtypes of the variables accordingly\n",
    "\n",
    "df_test['deal_value'] = df_test['deal_value'].astype('int64') # from float\n",
    "\n",
    "df_test['geography'] = pd.Categorical(df_test['geography'], \n",
    "                                      ['India', 'USA'],\n",
    "                                      ordered = True)\n",
    "\n",
    "df_test['geography'] = df_test['geography'].cat.codes\n",
    "\n",
    "df_test['location'] = pd.Categorical(df_test['location'], \n",
    "                                      df_test['location'].unique(),\n",
    "                                      ordered = False)\n",
    "\n",
    "df_test['designation'] = pd.Categorical(df_test['designation'], \n",
    "                                      df_test['designation'].unique(),\n",
    "                                      ordered = False)\n",
    "\n",
    "df_test['hiring_candidate_role'] = pd.Categorical(df_test['hiring_candidate_role'], \n",
    "                                      df_test['hiring_candidate_role'].unique(),\n",
    "                                      ordered = False)\n",
    "\n",
    "\n",
    "\n",
    "df_test['resource'] = pd.Categorical(df_test['resource'],\n",
    "                                  ['No','Yes'], \n",
    "                                   ordered = True)\n",
    "\n",
    "df_test['resource'] = df_test['resource'].cat.codes\n",
    "\n",
    "df_test['lead_source'] = pd.Categorical(df_test['lead_source'],\n",
    "                                  ['Website','Others','Contact Email','Marketing Event'], \n",
    "                                   ordered = True)\n",
    "\n",
    "df_test['lead_source'] = df_test['lead_source'].cat.codes\n",
    "\n",
    "df_test['last_lead_update'] = pd.Categorical(df_test['last_lead_update'],\n",
    "                                  ['Pending','Did not hear back after Level 1','More than a week back',\n",
    "                                   'More than 2 weeks', '2 days back', '5 days back', 'No track',\n",
    "                                  'more than a month', 'Up-to-date', 'Following up but lead not responding'], \n",
    "                                   ordered = True)\n",
    "\n",
    "df_test['last_lead_update'] = df_test['last_lead_update'].cat.codes\n",
    "\n",
    "# Extracting Months and Year from Date Predictor\n",
    "\n",
    "df_test['year_of_creation'] = df_test['date_of_creation'].dt.year\n",
    "df_test['month_of_creation'] = df_test['date_of_creation'].dt.month\n",
    "\n",
    "df_test['high_month'] = pd.Categorical(df_test['month_of_creation'],\n",
    "                                       [4,7,9,2,11,8,1,12,6,10,5,3],\n",
    "                                       ordered = True)\n",
    "\n",
    "df_test['high_month'] = df_test['high_month'].cat.codes\n",
    "\n",
    "df_test['high_year'] = pd.Categorical(df_test['year_of_creation'], [2019,2021,2020], ordered = True)\n",
    "\n",
    "df_test['high_year'] = df_test['high_year'].cat.codes\n",
    "\n",
    "Data_cluster1 = df_test[['industry','pitch','deal_value']]\n",
    "\n",
    "# Converting str type variable into int type\n",
    "\n",
    "Data_cluster1['industry'] = pd.Categorical(Data_cluster1['industry'],\n",
    "                                           Data_cluster1['industry'].unique(), ordered = False)\n",
    "\n",
    "Data_cluster1['industry'] = Data_cluster1['industry'].cat.codes\n",
    "\n",
    "X_clust1 = Data_cluster1.values\n",
    "\n",
    "km = KMeans(n_clusters=3, \n",
    "            init='random', \n",
    "            n_init=10, \n",
    "            max_iter=300,\n",
    "            tol=1e-04,\n",
    "            random_state=3)\n",
    "\n",
    "predictedCluster1 = km.fit_predict(X_clust1)\n",
    "\n",
    "df_test['ClusterID'] = predictedCluster1\n",
    "\n",
    "df_test['location'] = df_test['location'].cat.codes"
   ]
  },
  {
   "cell_type": "markdown",
   "id": "8fd21183",
   "metadata": {},
   "source": [
    "# Scaling the Training Data"
   ]
  },
  {
   "cell_type": "code",
   "execution_count": 68,
   "id": "e450c2fb",
   "metadata": {},
   "outputs": [
    {
     "data": {
      "text/plain": [
       "Index(['fund_category', 'geography', 'location', 'lead_source',\n",
       "       'level_of_meeting', 'last_lead_update', 'internal_rating',\n",
       "       'lead_revenue', 'deal_value', 'weighted_amount', 'ClusterID',\n",
       "       'success_probability'],\n",
       "      dtype='object')"
      ]
     },
     "execution_count": 68,
     "metadata": {},
     "output_type": "execute_result"
    }
   ],
   "source": [
    "DataForML_Numeric.columns"
   ]
  },
  {
   "cell_type": "code",
   "execution_count": 69,
   "id": "b6acb9ac",
   "metadata": {},
   "outputs": [
    {
     "name": "stdout",
     "output_type": "stream",
     "text": [
      "(4904, 11)\n",
      "(4904,)\n",
      "(2103, 11)\n",
      "(2103,)\n"
     ]
    }
   ],
   "source": [
    "TargetVariable = 'success_probability'\n",
    "Predictors = ['fund_category', 'geography', 'location', 'lead_source','level_of_meeting',\n",
    "              'last_lead_update', 'internal_rating','lead_revenue', 'deal_value', 'weighted_amount',\n",
    "              'ClusterID']\n",
    "\n",
    "X=DataForML_Numeric[Predictors].values\n",
    "y=DataForML_Numeric[TargetVariable].values\n",
    "\n",
    "PredictorScaler = MinMaxScaler()\n",
    "PredictorScalerFit = PredictorScaler.fit(X)\n",
    "X = PredictorScalerFit.transform(X)\n",
    "\n",
    "X_train, X_test, y_train, y_test = train_test_split(X, y, test_size=0.3, random_state=42)\n",
    "\n",
    "print(X_train.shape)\n",
    "print(y_train.shape)\n",
    "print(X_test.shape)\n",
    "print(y_test.shape)"
   ]
  },
  {
   "cell_type": "code",
   "execution_count": 70,
   "id": "4a7ec646",
   "metadata": {},
   "outputs": [],
   "source": [
    "# On Test Data\n",
    "\n",
    "df_test = df_test[Predictors].values\n",
    "\n",
    "PredictorScaler = MinMaxScaler()\n",
    "PredictorScalerFit = PredictorScaler.fit(df_test)\n",
    "df_test_scaled = PredictorScalerFit.transform(df_test)"
   ]
  },
  {
   "cell_type": "markdown",
   "id": "bc8064f2",
   "metadata": {},
   "source": [
    "# ANN"
   ]
  },
  {
   "cell_type": "code",
   "execution_count": 161,
   "id": "bf46fe25",
   "metadata": {},
   "outputs": [],
   "source": [
    "model = Sequential()\n",
    "\n",
    "model.add(Dense(units=7, input_dim=11, kernel_initializer='normal', activation='relu'))\n",
    "model.add(Dense(units=6, kernel_initializer='normal', activation='relu'))\n",
    "#model.add(Dense(units=5, kernel_initializer='normal', activation='tanh'))\n",
    "model.add(Dense(units=4, kernel_initializer='normal', activation='tanh'))\n",
    "model.add(Dense(units=3, kernel_initializer='normal', activation='tanh'))\n",
    "model.add(Dense(units=2, kernel_initializer='normal', activation='relu'))\n",
    "\n",
    "model.add(Dense(1, kernel_initializer='normal',activation='relu'))\n",
    "\n",
    "# Compiling the model\n",
    "model.compile(loss='mean_squared_error', optimizer='adam')"
   ]
  },
  {
   "cell_type": "code",
   "execution_count": 162,
   "id": "b656776e",
   "metadata": {},
   "outputs": [
    {
     "name": "stdout",
     "output_type": "stream",
     "text": [
      "Epoch 1/50\n",
      "246/246 [==============================] - 0s 883us/step - loss: 4209.9058\n",
      "Epoch 2/50\n",
      "246/246 [==============================] - 0s 901us/step - loss: 3804.4478\n",
      "Epoch 3/50\n",
      "246/246 [==============================] - 0s 852us/step - loss: 3179.6321\n",
      "Epoch 4/50\n",
      "246/246 [==============================] - 0s 684us/step - loss: 2452.0361\n",
      "Epoch 5/50\n",
      "246/246 [==============================] - 0s 782us/step - loss: 1731.0624\n",
      "Epoch 6/50\n",
      "246/246 [==============================] - 0s 751us/step - loss: 1108.0216\n",
      "Epoch 7/50\n",
      "246/246 [==============================] - 0s 699us/step - loss: 636.9412\n",
      "Epoch 8/50\n",
      "246/246 [==============================] - 0s 744us/step - loss: 330.4280\n",
      "Epoch 9/50\n",
      "246/246 [==============================] - 0s 733us/step - loss: 162.7262\n",
      "Epoch 10/50\n",
      "246/246 [==============================] - 0s 716us/step - loss: 87.6222\n",
      "Epoch 11/50\n",
      "246/246 [==============================] - 0s 737us/step - loss: 61.0769\n",
      "Epoch 12/50\n",
      "246/246 [==============================] - 0s 716us/step - loss: 53.9448\n",
      "Epoch 13/50\n",
      "246/246 [==============================] - 0s 744us/step - loss: 52.4210\n",
      "Epoch 14/50\n",
      "246/246 [==============================] - 0s 721us/step - loss: 52.1892\n",
      "Epoch 15/50\n",
      "246/246 [==============================] - 0s 706us/step - loss: 52.1663\n",
      "Epoch 16/50\n",
      "246/246 [==============================] - 0s 722us/step - loss: 52.1613\n",
      "Epoch 17/50\n",
      "246/246 [==============================] - 0s 728us/step - loss: 52.1623\n",
      "Epoch 18/50\n",
      "246/246 [==============================] - 0s 712us/step - loss: 52.1623\n",
      "Epoch 19/50\n",
      "246/246 [==============================] - 0s 756us/step - loss: 52.1498\n",
      "Epoch 20/50\n",
      "246/246 [==============================] - 0s 725us/step - loss: 52.1641\n",
      "Epoch 21/50\n",
      "246/246 [==============================] - 0s 748us/step - loss: 52.1727\n",
      "Epoch 22/50\n",
      "246/246 [==============================] - 0s 718us/step - loss: 52.1665\n",
      "Epoch 23/50\n",
      "246/246 [==============================] - 0s 717us/step - loss: 52.1655\n",
      "Epoch 24/50\n",
      "246/246 [==============================] - 0s 747us/step - loss: 52.1689\n",
      "Epoch 25/50\n",
      "246/246 [==============================] - 0s 724us/step - loss: 52.1815\n",
      "Epoch 26/50\n",
      "246/246 [==============================] - 0s 720us/step - loss: 52.1762\n",
      "Epoch 27/50\n",
      "246/246 [==============================] - 0s 837us/step - loss: 51.0125\n",
      "Epoch 28/50\n",
      "246/246 [==============================] - 0s 724us/step - loss: 41.5310\n",
      "Epoch 29/50\n",
      "246/246 [==============================] - 0s 721us/step - loss: 39.9133\n",
      "Epoch 30/50\n",
      "246/246 [==============================] - 0s 768us/step - loss: 38.8894\n",
      "Epoch 31/50\n",
      "246/246 [==============================] - 0s 716us/step - loss: 38.5165\n",
      "Epoch 32/50\n",
      "246/246 [==============================] - 0s 698us/step - loss: 38.1592\n",
      "Epoch 33/50\n",
      "246/246 [==============================] - 0s 732us/step - loss: 38.1192\n",
      "Epoch 34/50\n",
      "246/246 [==============================] - 0s 722us/step - loss: 38.2312\n",
      "Epoch 35/50\n",
      "246/246 [==============================] - 0s 731us/step - loss: 37.6995\n",
      "Epoch 36/50\n",
      "246/246 [==============================] - 0s 741us/step - loss: 37.5494\n",
      "Epoch 37/50\n",
      "246/246 [==============================] - 0s 712us/step - loss: 37.6869\n",
      "Epoch 38/50\n",
      "246/246 [==============================] - 0s 707us/step - loss: 37.4948\n",
      "Epoch 39/50\n",
      "246/246 [==============================] - 0s 836us/step - loss: 37.1603\n",
      "Epoch 40/50\n",
      "246/246 [==============================] - 0s 737us/step - loss: 37.33240s - loss: 35.\n",
      "Epoch 41/50\n",
      "246/246 [==============================] - 0s 764us/step - loss: 37.4029\n",
      "Epoch 42/50\n",
      "246/246 [==============================] - 0s 774us/step - loss: 36.9003\n",
      "Epoch 43/50\n",
      "246/246 [==============================] - 0s 744us/step - loss: 36.9318\n",
      "Epoch 44/50\n",
      "246/246 [==============================] - 0s 710us/step - loss: 36.7805\n",
      "Epoch 45/50\n",
      "246/246 [==============================] - 0s 701us/step - loss: 36.6951\n",
      "Epoch 46/50\n",
      "246/246 [==============================] - 0s 740us/step - loss: 36.9752\n",
      "Epoch 47/50\n",
      "246/246 [==============================] - 0s 794us/step - loss: 36.9977\n",
      "Epoch 48/50\n",
      "246/246 [==============================] - 0s 709us/step - loss: 36.7766\n",
      "Epoch 49/50\n",
      "246/246 [==============================] - 0s 691us/step - loss: 36.3489\n",
      "Epoch 50/50\n",
      "246/246 [==============================] - 0s 819us/step - loss: 36.7033\n"
     ]
    },
    {
     "data": {
      "text/plain": [
       "<tensorflow.python.keras.callbacks.History at 0x1970023c550>"
      ]
     },
     "execution_count": 162,
     "metadata": {},
     "output_type": "execute_result"
    }
   ],
   "source": [
    "# Fitting\n",
    "\n",
    "model.fit(X_train, y_train ,batch_size = 20, epochs = 50, verbose=1)"
   ]
  },
  {
   "cell_type": "markdown",
   "id": "92989af6",
   "metadata": {},
   "source": [
    "# Finding Best Set of Parameters"
   ]
  },
  {
   "cell_type": "code",
   "execution_count": 163,
   "id": "030afb0e",
   "metadata": {},
   "outputs": [],
   "source": [
    "def FindBestParams(X_train, y_train, X_test, y_test):\n",
    "    \n",
    "    # Defining the list of hyper parameters to try\n",
    "    batch_size_list=[5,10,15,20]\n",
    "    epoch_list  =   [5, 10, 50, 100]\n",
    "    \n",
    "    SearchResultsData=pd.DataFrame(columns=['TrialNumber', 'Parameters', 'Accuracy'])\n",
    "    \n",
    "    # initializing the trials\n",
    "    TrialNumber=0\n",
    "    for batch_size_trial in batch_size_list:\n",
    "        for epochs_trial in epoch_list:\n",
    "            TrialNumber+=1\n",
    "            model = Sequential()\n",
    "\n",
    "            model.add(Dense(units=7, input_dim=11, kernel_initializer='normal', activation='relu'))\n",
    "            model.add(Dense(units=6, kernel_initializer='normal', activation='relu'))\n",
    "            #model.add(Dense(units=5, kernel_initializer='normal', activation='tanh'))\n",
    "            model.add(Dense(units=4, kernel_initializer='normal', activation='tanh'))\n",
    "            model.add(Dense(units=3, kernel_initializer='normal', activation='tanh'))\n",
    "            model.add(Dense(units=2, kernel_initializer='normal', activation='relu'))\n",
    "\n",
    "            model.add(Dense(1, kernel_initializer='normal',activation='relu'))\n",
    "\n",
    "            # Compiling the model\n",
    "            model.compile(loss='mean_squared_error', optimizer='adam')\n",
    "\n",
    "            # Fitting the ANN to the Training set\n",
    "            model.fit(X_train, y_train ,batch_size = batch_size_trial, epochs = 10, verbose=0)\n",
    "\n",
    "            MAPE = np.mean(100 * (np.abs(y_test-model.predict(X_test))/y_test))\n",
    "            \n",
    "            # printing the results of the current iteration\n",
    "            print(TrialNumber, 'Parameters:','batch_size:', batch_size_trial,'-', 'epochs:',epochs_trial, 'Accuracy:', 100-MAPE)\n",
    "            \n",
    "            SearchResultsData=SearchResultsData.append(pd.DataFrame(data=[[TrialNumber, str(batch_size_trial)+'-'+str(epochs_trial), 100-MAPE]],\n",
    "                                                                    columns=['TrialNumber', 'Parameters', 'Accuracy'] ))\n",
    "    return(SearchResultsData)"
   ]
  },
  {
   "cell_type": "code",
   "execution_count": 164,
   "id": "32a03db0",
   "metadata": {},
   "outputs": [
    {
     "name": "stdout",
     "output_type": "stream",
     "text": [
      "1 Parameters: batch_size: 5 - epochs: 5 Accuracy: 89.70282098205229\n",
      "2 Parameters: batch_size: 5 - epochs: 10 Accuracy: 89.87350900717644\n",
      "3 Parameters: batch_size: 5 - epochs: 50 Accuracy: 0.0\n",
      "4 Parameters: batch_size: 5 - epochs: 100 Accuracy: 89.94705375369439\n",
      "5 Parameters: batch_size: 10 - epochs: 5 Accuracy: 90.8641326832417\n",
      "6 Parameters: batch_size: 10 - epochs: 10 Accuracy: 90.86030328581734\n",
      "7 Parameters: batch_size: 10 - epochs: 50 Accuracy: 0.0\n",
      "8 Parameters: batch_size: 10 - epochs: 100 Accuracy: 0.0\n",
      "9 Parameters: batch_size: 15 - epochs: 5 Accuracy: 90.86885737475914\n",
      "10 Parameters: batch_size: 15 - epochs: 10 Accuracy: 0.0\n",
      "11 Parameters: batch_size: 15 - epochs: 50 Accuracy: 90.87134384189665\n",
      "12 Parameters: batch_size: 15 - epochs: 100 Accuracy: 0.0\n",
      "13 Parameters: batch_size: 20 - epochs: 5 Accuracy: 0.0\n",
      "14 Parameters: batch_size: 20 - epochs: 10 Accuracy: 89.6816944565141\n",
      "15 Parameters: batch_size: 20 - epochs: 50 Accuracy: 68.61677013809141\n",
      "16 Parameters: batch_size: 20 - epochs: 100 Accuracy: 68.5769883310426\n"
     ]
    }
   ],
   "source": [
    "ResultsData=FindBestParams(X_train, y_train, X_test, y_test)"
   ]
  },
  {
   "cell_type": "code",
   "execution_count": 165,
   "id": "dbfbd1ea",
   "metadata": {},
   "outputs": [
    {
     "data": {
      "text/plain": [
       "<AxesSubplot:xlabel='Parameters'>"
      ]
     },
     "execution_count": 165,
     "metadata": {},
     "output_type": "execute_result"
    },
    {
     "data": {
      "image/png": "[encoded data removed]",
      "text/plain": [
       "<Figure size 1080x288 with 1 Axes>"
      ]
     },
     "metadata": {
      "needs_background": "light"
     },
     "output_type": "display_data"
    }
   ],
   "source": [
    "%matplotlib inline\n",
    "ResultsData.plot(x='Parameters', y='Accuracy', figsize=(15,4), kind='line')"
   ]
  },
  {
   "cell_type": "markdown",
   "id": "e532f575",
   "metadata": {},
   "source": [
    "# Generating the Model using best hyperparameters"
   ]
  },
  {
   "cell_type": "code",
   "execution_count": 168,
   "id": "a69913fb",
   "metadata": {},
   "outputs": [
    {
     "data": {
      "text/plain": [
       "<tensorflow.python.keras.callbacks.History at 0x1970b169550>"
      ]
     },
     "execution_count": 168,
     "metadata": {},
     "output_type": "execute_result"
    }
   ],
   "source": [
    "model.fit(X_train, y_train ,batch_size = 5, epochs = 10, verbose=0)"
   ]
  },
  {
   "cell_type": "markdown",
   "id": "015d8eed",
   "metadata": {},
   "source": [
    "# Generating Predictions"
   ]
  },
  {
   "cell_type": "code",
   "execution_count": 169,
   "id": "608f8ed1",
   "metadata": {},
   "outputs": [],
   "source": [
    "# Predictions on testing data\n",
    "Predictions=model.predict(df_test_scaled)\n",
    "\n",
    "\n",
    "TestingData=pd.DataFrame()\n",
    "TestingData['Deal_title'] = df_test1['Deal_title']\n",
    "TestingData['Success_probability']=Predictions\n",
    "\n",
    "### Exporting Predictions\n",
    "TestingData.to_csv('Market_Waste_2.csv')"
   ]
  },
  {
   "cell_type": "markdown",
   "id": "79e89721",
   "metadata": {},
   "source": [
    "# Supervised ML"
   ]
  },
  {
   "cell_type": "code",
   "execution_count": 180,
   "id": "e5a5d461",
   "metadata": {},
   "outputs": [],
   "source": [
    "def RegBase(X_train,y_train,X_test,y_test):\n",
    "    Algo_list = [KNeighborsRegressor, XGBRegressor, AdaBoostRegressor, RandomForestRegressor,\n",
    "                DecisionTreeRegressor, LinearRegression, SVR]\n",
    "    cust_scores = {}\n",
    "    for Regressor in Algo_list:\n",
    "        reg = Regressor()\n",
    "        REG = reg.fit(X_train,y_train)\n",
    "        prediction = REG.predict(X_test)\n",
    "        score = max(0, 100 - np.sqrt(metrics.mean_squared_error(y_test,prediction)))\n",
    "        cust_scores.update({Regressor:round(score,2)})\n",
    "        \n",
    "    return cust_scores"
   ]
  },
  {
   "cell_type": "code",
   "execution_count": 181,
   "id": "79e9512b",
   "metadata": {},
   "outputs": [
    {
     "data": {
      "text/plain": [
       "{sklearn.neighbors._regression.KNeighborsRegressor: 93.47,\n",
       " xgboost.sklearn.XGBRegressor: 93.54,\n",
       " sklearn.ensemble._weight_boosting.AdaBoostRegressor: 92.97,\n",
       " sklearn.ensemble._forest.RandomForestRegressor: 93.68,\n",
       " sklearn.tree._classes.DecisionTreeRegressor: 90.96,\n",
       " sklearn.linear_model._base.LinearRegression: 93.89,\n",
       " sklearn.svm._classes.SVR: 93.98}"
      ]
     },
     "execution_count": 181,
     "metadata": {},
     "output_type": "execute_result"
    }
   ],
   "source": [
    "# Determining Baseline Scoring\n",
    "\n",
    "RegBase(X_train,y_train,X_test,y_test)"
   ]
  },
  {
   "cell_type": "markdown",
   "id": "c69e4705",
   "metadata": {},
   "source": [
    "From the baseline scoring, it could be seen that 5 algorithms have almost similar scores. The chosen algorithms are:\n",
    "\n",
    "* KNN Regressor\n",
    "* XGB Regressor\n",
    "* Support Vector Regressor\n",
    "* RandomForest Regressor\n",
    "* Linear Regressor\n",
    "\n",
    "**Plan of Action**\n",
    "\n",
    "* Determining Best Hyperparameter values for each of the Algorithm.\n",
    "* Performing Cross-Validation on the algorithms using the tuned hyper-parameters.\n",
    "* The one with the best score, will be used for making predictions."
   ]
  },
  {
   "cell_type": "markdown",
   "id": "7bd960d8",
   "metadata": {},
   "source": [
    "# Hyper-parameter Tuning"
   ]
  },
  {
   "cell_type": "code",
   "execution_count": 178,
   "id": "175acb32",
   "metadata": {},
   "outputs": [],
   "source": [
    "Target_Var = ['success_probability']\n",
    "Predictor_Var = ['fund_category', 'geography', 'location', 'lead_source','level_of_meeting',\n",
    "                 'last_lead_update', 'internal_rating','lead_revenue', 'deal_value',\n",
    "                 'weighted_amount', 'ClusterID']"
   ]
  },
  {
   "cell_type": "code",
   "execution_count": 184,
   "id": "952fd855",
   "metadata": {},
   "outputs": [
    {
     "name": "stdout",
     "output_type": "stream",
     "text": [
      "Recommended parameters for Linear Regressor are:  {'fit_intercept': 'True', 'normalize': 'True', 'positive': 'True'}\n",
      "Recommended parameters for RF Regressor are:  {'criterion': 'mae', 'max_features': 'log2', 'n_estimators': 70}\n",
      "Recommended parameters for XGB Regressor are:  {'gamma': 0.6, 'learning_rate': 0.2, 'max_depth': 30, 'min_child_weight': 2}\n",
      "Recommended parameters for KNN Regressor are:  {'algorithm': 'brute', 'n_neighbors': 40, 'p': 1, 'weights': 'uniform'}\n"
     ]
    }
   ],
   "source": [
    "\n",
    "# For Linear Regression\n",
    "\n",
    "param_grid = {\n",
    "    'fit_intercept' : ('True','False'),\n",
    "    'normalize' : ('True','False'),\n",
    "    'positive' : ('True', 'False')\n",
    "}\n",
    "\n",
    "grid = GSCV(LinearRegression(), param_grid)\n",
    "grid.fit(DataForML_Numeric[Predictor_Var],DataForML_Numeric[Target_Var])\n",
    "\n",
    "print('Recommended parameters for Linear Regressor are: ', grid.best_params_)\n",
    "\n",
    "# For Random Forest Regressor\n",
    "\n",
    "param_grid = {\n",
    "    'n_estimators' : [20,50,70],\n",
    "    'criterion' : ('mse', 'mae'),\n",
    "    'max_features' : ('auto', 'sqrt', 'log2')\n",
    "}\n",
    "\n",
    "grid = GSCV(RandomForestRegressor(), param_grid)\n",
    "grid.fit(DataForML_Numeric[Predictor_Var],DataForML_Numeric[Target_Var])\n",
    "\n",
    "print('Recommended parameters for RF Regressor are: ', grid.best_params_)\n",
    "\n",
    "\n",
    "# XGB Regressor\n",
    "\n",
    "param_grid = {\n",
    "    'learning_rate' : [0.2,0.4,0.6],\n",
    "    'max_depth' : [20,30,40],\n",
    "    'min_child_weight' : [2,4,6],\n",
    "    'gamma' : [0.2,0.4,0.6]\n",
    "}\n",
    "\n",
    "grid = GSCV(XGBRegressor(), param_grid)\n",
    "grid.fit(DataForML_Numeric[Predictor_Var],DataForML_Numeric[Target_Var])\n",
    "\n",
    "print('Recommended parameters for XGB Regressor are: ', grid.best_params_)\n",
    "\n",
    "# KNN Regressor\n",
    "\n",
    "param_grid = {\n",
    "    'n_neighbors' : [20,30,40],\n",
    "    'weights' : ('uniform', 'distance'),\n",
    "    'algorithm' : ('auto', 'ball_tree', 'kd_tree', 'brute'),\n",
    "    'p' : range(1,3)\n",
    "}\n",
    "\n",
    "grid = GSCV(KNeighborsRegressor(), param_grid)\n",
    "grid.fit(DataForML_Numeric[Predictor_Var],DataForML_Numeric[Target_Var])\n",
    "\n",
    "print('Recommended parameters for KNN Regressor are: ', grid.best_params_)"
   ]
  },
  {
   "cell_type": "markdown",
   "id": "c9261976",
   "metadata": {},
   "source": [
    "# Cross-validation Tests with Hyper-Parameters tuned"
   ]
  },
  {
   "cell_type": "code",
   "execution_count": 207,
   "id": "d7fe6112",
   "metadata": {},
   "outputs": [],
   "source": [
    "# Defining the Custom Scorer\n",
    "\n",
    "def cust_scor(y_test,pred):\n",
    "    score = max(0, 100 - np.sqrt(metrics.mean_squared_error(y_test,pred)))\n",
    "    return score\n",
    "\n",
    "custom_Scoring = metrics.make_scorer(cust_scor, greater_is_better = True)"
   ]
  },
  {
   "cell_type": "code",
   "execution_count": 209,
   "id": "b4144d34",
   "metadata": {},
   "outputs": [
    {
     "name": "stdout",
     "output_type": "stream",
     "text": [
      "\n",
      " Performance Scoring values for 10-fold Cross Validation of LR:\n",
      " [93.85293608 93.93431732 93.9229834  93.93140559 94.59609079 94.03253265\n",
      " 94.19316646 93.22921677 94.20228548 93.75808457]\n",
      "\n",
      " Final Performance Scoring value of the model: 93.97\n",
      "\n",
      "Performance Scoring values for 10-fold Cross Validation of RF:\n",
      " [93.75410025 93.73282655 93.79262543 93.94542518 94.4326356  93.98696938\n",
      " 94.07411957 93.20853052 94.1656838  93.59616935]\n",
      "\n",
      "Final Performance Scoring value of the model: 93.87\n",
      "\n",
      "Performance Scoring values for 10-fold Cross Validation of XGB:\n",
      " [93.47116739 93.48645565 93.56997557 93.58737707 93.99288786 93.68693612\n",
      " 93.90463942 92.82415794 93.67942928 93.20791729]\n",
      "\n",
      "Final Performance Scoring value of the model: 93.54\n",
      "\n",
      "Performance Scoring values for 10-fold Cross Validation of KNN:\n",
      " [92.96834086 92.82255954 93.15277281 93.20369424 93.39220464 93.14611353\n",
      " 93.20999275 92.72494364 93.29749664 92.82626745]\n",
      "\n",
      "Final Performance Scoring value of the model: 93.07\n",
      "\n",
      "Performance Scoring values for 10-fold Cross Validation of KNN:\n",
      " [92.76044266 92.62847151 92.95511608 92.93235532 93.08597604 92.86831309\n",
      " 92.89800884 92.6127128  93.03615341 92.62483524]\n",
      "\n",
      "Final Performance Scoring value of the model: 92.84\n"
     ]
    }
   ],
   "source": [
    "X=DataForML_Numeric[Predictor_Var].values\n",
    "y=DataForML_Numeric[Target_Var].values \n",
    "\n",
    "# 10-fold CV test for Linear Regressor\n",
    "\n",
    "reg = LinearRegression()\n",
    "LR = reg.fit(X_train,y_train)\n",
    "pred = LR.predict(X_test)\n",
    "\n",
    "Perf = cross_val_score(reg,X,y,cv=10,scoring=custom_Scoring)\n",
    "\n",
    "print('\\n Performance Scoring values for 10-fold Cross Validation of LR:\\n',Perf)\n",
    "print('\\n Final Performance Scoring value of the model:', round(np.mean(Perf),2))\n",
    "\n",
    "# 10-fold CV test for Random Forest Regressor\n",
    "\n",
    "reg = RandomForestRegressor(criterion = 'mae', max_features = 'log2', n_estimators = 70)\n",
    "RF = reg.fit(X_train,y_train)\n",
    "pred = RF.predict(X_test)\n",
    "\n",
    "Perf = cross_val_score(reg,X,y,cv=10,scoring=custom_Scoring)\n",
    "\n",
    "print('\\nPerformance Scoring values for 10-fold Cross Validation of RF:\\n',Perf)\n",
    "print('\\nFinal Performance Scoring value of the model:', round(np.mean(Perf),2))\n",
    "\n",
    "# 10-fold CV test for XGBoost Regressor\n",
    "\n",
    "reg = XGBRegressor(gamma = 0.6, learning_rate = 0.2, max_depth = 30, min_child_weight = 2)\n",
    "XGB = reg.fit(X_train,y_train)\n",
    "pred = XGB.predict(X_test)\n",
    "\n",
    "Perf = cross_val_score(reg,X,y,cv=10,scoring=custom_Scoring)\n",
    "\n",
    "print('\\nPerformance Scoring values for 10-fold Cross Validation of XGB:\\n',Perf)\n",
    "print('\\nFinal Performance Scoring value of the model:', round(np.mean(Perf),2))\n",
    "\n",
    "# 10-fold CV test for KNN Regressor\n",
    "\n",
    "reg = KNeighborsRegressor(algorithm = 'brute', n_neighbors = 40, p = 1, weights = 'uniform')\n",
    "KNN = reg.fit(X_train,y_train)\n",
    "pred = KNN.predict(X_test)\n",
    "\n",
    "Perf = cross_val_score(reg,X,y,cv=10,scoring=custom_Scoring)\n",
    "\n",
    "print('\\nPerformance Scoring values for 10-fold Cross Validation of KNN:\\n',Perf)\n",
    "print('\\nFinal Performance Scoring value of the model:', round(np.mean(Perf),2))\n",
    "\n",
    "# 10-fold CV test for SV Regressor\n",
    "\n",
    "reg = SVR()\n",
    "KNN = reg.fit(X_train,y_train)\n",
    "pred = KNN.predict(X_test)\n",
    "\n",
    "Perf = cross_val_score(reg,X,y,cv=10,scoring=custom_Scoring)\n",
    "\n",
    "print('\\nPerformance Scoring values for 10-fold Cross Validation of SVR:\\n',Perf)\n",
    "print('\\nFinal Performance Scoring value of the model:', round(np.mean(Perf),2))"
   ]
  },
  {
   "cell_type": "markdown",
   "id": "cbe8b333",
   "metadata": {},
   "source": [
    "**CV Test Interpretation**\n",
    "\n",
    "Even-though Linear Regression yielded the best mean scoring value, due to the consistency of the XGBoost Regressor model, it has been chosen as the final model."
   ]
  },
  {
   "cell_type": "markdown",
   "id": "0f1b6063",
   "metadata": {},
   "source": [
    "# Retraining the Selected Model on the entire Data"
   ]
  },
  {
   "cell_type": "code",
   "execution_count": 210,
   "id": "1e242bfa",
   "metadata": {},
   "outputs": [],
   "source": [
    "X_final = DataForML_Numeric[Predictors].values\n",
    "y_final = DataForML_Numeric[TargetVariable].values\n",
    "\n",
    "reg_final = XGBRegressor(gamma = 0.6, learning_rate = 0.2, max_depth = 30, min_child_weight = 2)\n",
    "XGB_final = reg_final.fit(X_final,y_final)\n",
    "\n",
    "# Saving the Final Model\n",
    "\n",
    "with open('FinalML.pkl','wb') as f:\n",
    "    pickle.dump(XGB_final, f)\n",
    "    \n",
    "    f.close()"
   ]
  },
  {
   "cell_type": "markdown",
   "id": "5a291325",
   "metadata": {},
   "source": [
    "# Generating Predictions"
   ]
  },
  {
   "cell_type": "code",
   "execution_count": 211,
   "id": "9804c100",
   "metadata": {},
   "outputs": [],
   "source": [
    "with open('FinalML.pkl','rb') as gen:\n",
    "    Pred_Model = pickle.load(gen)\n",
    "    gen.close()\n",
    "    \n",
    "Predictions = Pred_Model.predict(df_test_scaled)\n",
    "\n",
    "TestingData=pd.DataFrame()\n",
    "\n",
    "TestingData['Deal_title'] = df_test1['Deal_title']\n",
    "TestingData['Success_probability']=Predictions\n",
    "\n",
    "### Exporting Predictions\n",
    "TestingData.to_csv('Market_Waste_ML.csv')"
   ]
  },
  {
   "cell_type": "code",
   "execution_count": null,
   "id": "57694949",
   "metadata": {},
   "outputs": [],
   "source": []
  }
 ],
 "metadata": {
  "kernelspec": {
   "display_name": "Python 3",
   "language": "python",
   "name": "python3"
  },
  "language_info": {
   "codemirror_mode": {
    "name": "ipython",
    "version": 3
   },
   "file_extension": ".py",
   "mimetype": "text/x-python",
   "name": "python",
   "nbconvert_exporter": "python",
   "pygments_lexer": "ipython3",
   "version": "3.8.3"
  }
 },
 "nbformat": 4,
 "nbformat_minor": 5
}
