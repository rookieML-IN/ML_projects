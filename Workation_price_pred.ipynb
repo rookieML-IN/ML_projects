{
 "cells": [
  {
   "cell_type": "markdown",
   "metadata": {},
   "source": [
    "# Import Libraries"
   ]
  },
  {
   "cell_type": "code",
   "execution_count": 54,
   "metadata": {},
   "outputs": [],
   "source": [
    "# Basic\n",
    "import os\n",
    "import pandas as pd\n",
    "import numpy as np\n",
    "import matplotlib.pyplot as plt\n",
    "import seaborn as sns\n",
    "import re\n",
    "from scipy.stats import f_oneway\n",
    "from sklearn.model_selection import train_test_split, cross_val_score\n",
    "from sklearn.preprocessing import MinMaxScaler\n",
    "import pickle\n",
    "\n",
    "# Supervised ML \n",
    "from sklearn.linear_model import LinearRegression\n",
    "from sklearn.tree import DecisionTreeRegressor\n",
    "from sklearn.ensemble import RandomForestRegressor\n",
    "from sklearn.ensemble import AdaBoostRegressor\n",
    "from sklearn.svm import SVR\n",
    "from xgboost import XGBRegressor\n",
    "from sklearn.metrics import mean_squared_log_error, make_scorer\n",
    "from sklearn.linear_model import Ridge\n",
    "from sklearn.linear_model import Lasso\n",
    "from sklearn.neighbors import KNeighborsRegressor\n",
    "from sklearn.model_selection import GridSearchCV"
   ]
  },
  {
   "cell_type": "markdown",
   "metadata": {},
   "source": [
    "# Importing Datasets"
   ]
  },
  {
   "cell_type": "code",
   "execution_count": 2,
   "metadata": {},
   "outputs": [],
   "source": [
    "df_train = pd.read_csv('Train.csv')\n",
    "df_test = pd.read_csv('Test.csv')"
   ]
  },
  {
   "cell_type": "markdown",
   "metadata": {},
   "source": [
    "# Initial Checks"
   ]
  },
  {
   "cell_type": "code",
   "execution_count": 3,
   "metadata": {},
   "outputs": [
    {
     "name": "stdout",
     "output_type": "stream",
     "text": [
      "Number of rows Before removing duplicated rows:  21000\n",
      "Number of rows After removing duplicated rows:  21000\n"
     ]
    }
   ],
   "source": [
    "print('Number of rows Before removing duplicated rows: ', df_train.shape[0])\n",
    "df_train = df_train.drop_duplicates()\n",
    "\n",
    "print('Number of rows After removing duplicated rows: ', df_train.shape[0])"
   ]
  },
  {
   "cell_type": "markdown",
   "metadata": {},
   "source": [
    "There is no presence of duplicated rows."
   ]
  },
  {
   "cell_type": "code",
   "execution_count": 4,
   "metadata": {},
   "outputs": [
    {
     "data": {
      "text/html": [
       "<div>\n",
       "<style scoped>\n",
       "    .dataframe tbody tr th:only-of-type {\n",
       "        vertical-align: middle;\n",
       "    }\n",
       "\n",
       "    .dataframe tbody tr th {\n",
       "        vertical-align: top;\n",
       "    }\n",
       "\n",
       "    .dataframe thead th {\n",
       "        text-align: right;\n",
       "    }\n",
       "</style>\n",
       "<table border=\"1\" class=\"dataframe\">\n",
       "  <thead>\n",
       "    <tr style=\"text-align: right;\">\n",
       "      <th></th>\n",
       "      <th>Uniq Id</th>\n",
       "      <th>Package Name</th>\n",
       "      <th>Package Type</th>\n",
       "      <th>Destination</th>\n",
       "      <th>Itinerary</th>\n",
       "      <th>Places Covered</th>\n",
       "      <th>Travel Date</th>\n",
       "      <th>Hotel Details</th>\n",
       "      <th>Start City</th>\n",
       "      <th>Airline</th>\n",
       "      <th>Flight Stops</th>\n",
       "      <th>Meals</th>\n",
       "      <th>Sightseeing Places Covered</th>\n",
       "      <th>Cancellation Rules</th>\n",
       "      <th>Per Person Price</th>\n",
       "    </tr>\n",
       "  </thead>\n",
       "  <tbody>\n",
       "    <tr>\n",
       "      <th>0</th>\n",
       "      <td>e788ab76d9d8cf1e6ed2f139645ca5d1</td>\n",
       "      <td>Best of Shimla and Manali Holiday from Delhi</td>\n",
       "      <td>Standard</td>\n",
       "      <td>New Delhi|Shimla|Manali|Chandigarh</td>\n",
       "      <td>1N New Delhi . 2N Shimla . 2N Manali . 1N Chan...</td>\n",
       "      <td>New Delhi|Shimla|Manali|Chandigarh</td>\n",
       "      <td>30-07-2021</td>\n",
       "      <td>Not Available</td>\n",
       "      <td>Mumbai</td>\n",
       "      <td>Not Available</td>\n",
       "      <td>2</td>\n",
       "      <td>3</td>\n",
       "      <td>Not Available</td>\n",
       "      <td>Not Available</td>\n",
       "      <td>11509.0</td>\n",
       "    </tr>\n",
       "    <tr>\n",
       "      <th>1</th>\n",
       "      <td>178f892630ce3e335a5a41d5d83937fd</td>\n",
       "      <td>Kashmir Valley vacation</td>\n",
       "      <td>Premium</td>\n",
       "      <td>Srinagar|Pahalgam|Srinagar</td>\n",
       "      <td>1N Srinagar . 2N Pahalgam . 1N Srinagar</td>\n",
       "      <td>Srinagar|Pahalgam|Srinagar</td>\n",
       "      <td>08-12-2021</td>\n",
       "      <td>The Orchard Retreat &amp; Spa:4.6|WelcomHotel Pine...</td>\n",
       "      <td>New Delhi</td>\n",
       "      <td>IndiGo|IndiGo</td>\n",
       "      <td>0</td>\n",
       "      <td>5</td>\n",
       "      <td>Dal Lake | Avantipura Ruins | Mughal Gardens ...</td>\n",
       "      <td>Cancellation any time after making the 1st pay...</td>\n",
       "      <td>22485.5</td>\n",
       "    </tr>\n",
       "    <tr>\n",
       "      <th>2</th>\n",
       "      <td>f060f2954840503cc2fdaf495357b7df</td>\n",
       "      <td>Might of Mewar- Udaipur and Chittorgarh</td>\n",
       "      <td>Luxury</td>\n",
       "      <td>Udaipur|Chittorgarh</td>\n",
       "      <td>2N Udaipur . 1N Chittorgarh</td>\n",
       "      <td>Udaipur|Chittorgarh</td>\n",
       "      <td>26-04-2021</td>\n",
       "      <td>The Ananta:4.4|juSTa Lake Nahargarh Palace:4</td>\n",
       "      <td>New Delhi</td>\n",
       "      <td>IndiGo</td>\n",
       "      <td>0</td>\n",
       "      <td>4</td>\n",
       "      <td>Lake Pichola | Jag Mandir Palace | Saheliyon ...</td>\n",
       "      <td>Cancellation any time after making the 1st pay...</td>\n",
       "      <td>12421.5</td>\n",
       "    </tr>\n",
       "    <tr>\n",
       "      <th>3</th>\n",
       "      <td>32a19a6c171e67448f2346da46c619dc</td>\n",
       "      <td>Colorful Kerala ( Romantic Getaway )</td>\n",
       "      <td>Premium</td>\n",
       "      <td>Munnar|Kumarakom|Allepey|Kovalam and Poovar</td>\n",
       "      <td>2N Munnar . 1N Kumarakom . 1N Allepey . 2N Kov...</td>\n",
       "      <td>Munnar|Kumarakom|Allepey|Kovalam and Poovar</td>\n",
       "      <td>27-08-2021</td>\n",
       "      <td>Elixir Hills Suites Resort &amp; Spa-MMT Holidays ...</td>\n",
       "      <td>New Delhi</td>\n",
       "      <td>IndiGo</td>\n",
       "      <td>0</td>\n",
       "      <td>5</td>\n",
       "      <td>Mattupetty Dam | Echo Point | Tata Tea Museum...</td>\n",
       "      <td>Cancellation any time after making the 1st pay...</td>\n",
       "      <td>35967.0</td>\n",
       "    </tr>\n",
       "    <tr>\n",
       "      <th>4</th>\n",
       "      <td>107b068aa0ca03bc6248966f594d105f</td>\n",
       "      <td>A Week In Bangkok &amp; Pattaya</td>\n",
       "      <td>Premium</td>\n",
       "      <td>Pattaya|Bangkok</td>\n",
       "      <td>4N Pattaya . 3N Bangkok</td>\n",
       "      <td>Pattaya|Bangkok</td>\n",
       "      <td>12-12-2021</td>\n",
       "      <td>Dusit Thani Pattaya - MMT Special:4.5|Amari Wa...</td>\n",
       "      <td>New Delhi</td>\n",
       "      <td>Spicejet|Go Air</td>\n",
       "      <td>0</td>\n",
       "      <td>5</td>\n",
       "      <td>Coral Island Tour with Indian Lunch, Join Spe...</td>\n",
       "      <td>Cancellation any time after making the 1st pay...</td>\n",
       "      <td>25584.0</td>\n",
       "    </tr>\n",
       "  </tbody>\n",
       "</table>\n",
       "</div>"
      ],
      "text/plain": [
       "                            Uniq Id  \\\n",
       "0  e788ab76d9d8cf1e6ed2f139645ca5d1   \n",
       "1  178f892630ce3e335a5a41d5d83937fd   \n",
       "2  f060f2954840503cc2fdaf495357b7df   \n",
       "3  32a19a6c171e67448f2346da46c619dc   \n",
       "4  107b068aa0ca03bc6248966f594d105f   \n",
       "\n",
       "                                   Package Name Package Type  \\\n",
       "0  Best of Shimla and Manali Holiday from Delhi     Standard   \n",
       "1                       Kashmir Valley vacation      Premium   \n",
       "2       Might of Mewar- Udaipur and Chittorgarh       Luxury   \n",
       "3          Colorful Kerala ( Romantic Getaway )      Premium   \n",
       "4                   A Week In Bangkok & Pattaya      Premium   \n",
       "\n",
       "                                   Destination  \\\n",
       "0           New Delhi|Shimla|Manali|Chandigarh   \n",
       "1                   Srinagar|Pahalgam|Srinagar   \n",
       "2                          Udaipur|Chittorgarh   \n",
       "3  Munnar|Kumarakom|Allepey|Kovalam and Poovar   \n",
       "4                              Pattaya|Bangkok   \n",
       "\n",
       "                                           Itinerary  \\\n",
       "0  1N New Delhi . 2N Shimla . 2N Manali . 1N Chan...   \n",
       "1            1N Srinagar . 2N Pahalgam . 1N Srinagar   \n",
       "2                        2N Udaipur . 1N Chittorgarh   \n",
       "3  2N Munnar . 1N Kumarakom . 1N Allepey . 2N Kov...   \n",
       "4                            4N Pattaya . 3N Bangkok   \n",
       "\n",
       "                                Places Covered Travel Date  \\\n",
       "0           New Delhi|Shimla|Manali|Chandigarh  30-07-2021   \n",
       "1                   Srinagar|Pahalgam|Srinagar  08-12-2021   \n",
       "2                          Udaipur|Chittorgarh  26-04-2021   \n",
       "3  Munnar|Kumarakom|Allepey|Kovalam and Poovar  27-08-2021   \n",
       "4                              Pattaya|Bangkok  12-12-2021   \n",
       "\n",
       "                                       Hotel Details Start City  \\\n",
       "0                                      Not Available     Mumbai   \n",
       "1  The Orchard Retreat & Spa:4.6|WelcomHotel Pine...  New Delhi   \n",
       "2       The Ananta:4.4|juSTa Lake Nahargarh Palace:4  New Delhi   \n",
       "3  Elixir Hills Suites Resort & Spa-MMT Holidays ...  New Delhi   \n",
       "4  Dusit Thani Pattaya - MMT Special:4.5|Amari Wa...  New Delhi   \n",
       "\n",
       "           Airline  Flight Stops  Meals  \\\n",
       "0    Not Available             2      3   \n",
       "1    IndiGo|IndiGo             0      5   \n",
       "2           IndiGo             0      4   \n",
       "3           IndiGo             0      5   \n",
       "4  Spicejet|Go Air             0      5   \n",
       "\n",
       "                          Sightseeing Places Covered  \\\n",
       "0                                      Not Available   \n",
       "1   Dal Lake | Avantipura Ruins | Mughal Gardens ...   \n",
       "2   Lake Pichola | Jag Mandir Palace | Saheliyon ...   \n",
       "3   Mattupetty Dam | Echo Point | Tata Tea Museum...   \n",
       "4   Coral Island Tour with Indian Lunch, Join Spe...   \n",
       "\n",
       "                                  Cancellation Rules  Per Person Price  \n",
       "0                                      Not Available           11509.0  \n",
       "1  Cancellation any time after making the 1st pay...           22485.5  \n",
       "2  Cancellation any time after making the 1st pay...           12421.5  \n",
       "3  Cancellation any time after making the 1st pay...           35967.0  \n",
       "4  Cancellation any time after making the 1st pay...           25584.0  "
      ]
     },
     "execution_count": 4,
     "metadata": {},
     "output_type": "execute_result"
    }
   ],
   "source": [
    "df_train.head()"
   ]
  },
  {
   "cell_type": "code",
   "execution_count": null,
   "metadata": {},
   "outputs": [],
   "source": [
    "df_train.isna().sum()"
   ]
  },
  {
   "cell_type": "markdown",
   "metadata": {},
   "source": [
    "There are No missing values. But, there is presence of 'Not Available'."
   ]
  },
  {
   "cell_type": "code",
   "execution_count": 5,
   "metadata": {},
   "outputs": [
    {
     "data": {
      "text/plain": [
       "Uniq Id                       21000\n",
       "Package Name                   2204\n",
       "Package Type                      5\n",
       "Destination                     565\n",
       "Itinerary                       966\n",
       "Places Covered                  565\n",
       "Travel Date                     495\n",
       "Hotel Details                  6060\n",
       "Start City                        2\n",
       "Airline                         314\n",
       "Flight Stops                      3\n",
       "Meals                             4\n",
       "Sightseeing Places Covered     1714\n",
       "Cancellation Rules               10\n",
       "Per Person Price              17138\n",
       "dtype: int64"
      ]
     },
     "execution_count": 5,
     "metadata": {},
     "output_type": "execute_result"
    }
   ],
   "source": [
    "df_train.nunique()"
   ]
  },
  {
   "cell_type": "code",
   "execution_count": 6,
   "metadata": {},
   "outputs": [
    {
     "data": {
      "text/plain": [
       "Index(['uniq id', 'package name', 'package type', 'destination', 'itinerary',\n",
       "       'places covered', 'travel date', 'hotel details', 'start city',\n",
       "       'airline', 'flight stops', 'meals', 'sightseeing places covered',\n",
       "       'cancellation rules', 'per person price'],\n",
       "      dtype='object')"
      ]
     },
     "execution_count": 6,
     "metadata": {},
     "output_type": "execute_result"
    }
   ],
   "source": [
    "# Lower-casing the column names of the datasets for ease of access\n",
    "\n",
    "df_train.columns = df_train.columns.str.lower()\n",
    "df_test.columns = df_test.columns.str.lower()\n",
    "\n",
    "# Confirming the changes\n",
    "df_train.columns"
   ]
  },
  {
   "cell_type": "markdown",
   "metadata": {},
   "source": [
    "# Basic Data Exploration"
   ]
  },
  {
   "cell_type": "markdown",
   "metadata": {},
   "source": [
    "### Variable Distribution Based on the findings from the previous section"
   ]
  },
  {
   "cell_type": "code",
   "execution_count": 7,
   "metadata": {},
   "outputs": [],
   "source": [
    "quant_col = ['per person price']\n",
    "cat_col = ['package name','package type','destination','cancellation rules',\n",
    "          'sightseeing places covered','flight stops', 'meals','places covered', 'travel date', 'hotel details', 'start city',\n",
    "       'airline']\n",
    "cols_to_drop = ['uniq id']"
   ]
  },
  {
   "cell_type": "markdown",
   "metadata": {},
   "source": [
    "## Feature Engineering "
   ]
  },
  {
   "cell_type": "code",
   "execution_count": 8,
   "metadata": {},
   "outputs": [],
   "source": [
    "# Replacing long string into readable rules\n",
    "df_train['cancellation rules'].replace({\n",
    "    (df_train['cancellation rules'].unique())[0]:0,\n",
    "    (df_train['cancellation rules'].unique())[1]:1,\n",
    "    (df_train['cancellation rules'].unique())[2]:2,\n",
    "    (df_train['cancellation rules'].unique())[3]:3,\n",
    "    (df_train['cancellation rules'].unique())[4]:4,\n",
    "    (df_train['cancellation rules'].unique())[5]:5,\n",
    "    (df_train['cancellation rules'].unique())[6]:6,\n",
    "    (df_train['cancellation rules'].unique())[7]:7,\n",
    "    (df_train['cancellation rules'].unique())[8]:8,\n",
    "    (df_train['cancellation rules'].unique())[9]:9\n",
    "}, inplace = True)"
   ]
  },
  {
   "cell_type": "code",
   "execution_count": 9,
   "metadata": {},
   "outputs": [],
   "source": [
    "# Room Classification\n",
    "\n",
    "df_train['package type'] = pd.Categorical(df_train['package type'],\n",
    "                                         ['Budget','Standard','Deluxe','Premium', 'Luxury'],\n",
    "                                          ordered = True)\n",
    "# Room Prioritization\n",
    "\n",
    "df_train['room_priority'] = df_train['package type'].cat.codes\n",
    "\n",
    "# Number of Sightseeing Places Covered\n",
    "\n",
    "dummy = []\n",
    "\n",
    "for i in range(len(df_train['sightseeing places covered'])):\n",
    "    if df_train['sightseeing places covered'][i] == 'Not Available':\n",
    "        dummy.append(0)\n",
    "    else:\n",
    "        dummy.append(len((df_train['sightseeing places covered'].iloc[i]).split('|')))\n",
    "\n",
    "df_train['n_sightseeing_places'] = dummy\n",
    "\n",
    "# Determining if the trip returns to the first destination\n",
    "\n",
    "dummy_1 = []\n",
    "\n",
    "for i in range(len(df_train['destination'])):\n",
    "    a = df_train['destination'][i].split('|')\n",
    "    \n",
    "    if a[0] == a[-1]:\n",
    "        dummy_1.append(1)\n",
    "    else:\n",
    "        dummy_1.append(0)\n",
    "        \n",
    "df_train['return_to_first'] = dummy_1\n",
    "\n",
    "# Determine if the starting city is the first destination\n",
    "\n",
    "dummy_2 = []\n",
    "\n",
    "for i in range(len(df_train['destination'])):\n",
    "    a = df_train['destination'][i].split('|')\n",
    "    \n",
    "    if df_train['start city'][i] == a[0]:\n",
    "        dummy_2.append(1)\n",
    "    else:\n",
    "        dummy_2.append(0)\n",
    "        \n",
    "df_train['first_dest'] = dummy_2\n",
    "\n",
    "# Number of Airline Carriers\n",
    "\n",
    "dummy_3 = []\n",
    "\n",
    "for i in range(len(df_train['airline'])):\n",
    "    if df_train['airline'][i] == 'Not Avaialble':\n",
    "        dummy_3.append(0)\n",
    "    else:\n",
    "        dummy_3.append(len(df_train['airline'][i].split('|')))\n",
    "        \n",
    "df_train['n_carriers'] = dummy_3\n",
    "\n",
    "# Determining the Mean Rating of the Hotels each travel\n",
    "\n",
    "dummy_4 = []\n",
    "\n",
    "for i in range(len(df_train['hotel details'])):\n",
    "    count = []\n",
    "    for j in range(len(df_train['hotel details'][i].split('|'))):\n",
    "        if '.' not in (df_train['hotel details'][i].split('|'))[j][-2:]:\n",
    "            if (df_train['hotel details'][i].split('|'))[j][-3:] == 'One':\n",
    "                count.append(1.0)\n",
    "            elif (df_train['hotel details'][i].split('|'))[j][-3:] == 'Two':\n",
    "                count.append(2.0)\n",
    "            elif (df_train['hotel details'][i].split('|'))[j][-3:] == 'ree':\n",
    "                count.append(3.0)\n",
    "            elif (df_train['hotel details'][i].split('|'))[j][-3:] == 'our':\n",
    "                count.append(4.0)\n",
    "            else:\n",
    "                count.append(5.0)\n",
    "        else:\n",
    "            if '.' == (df_train['hotel details'][i].split('|'))[j][-1:]:\n",
    "                pass\n",
    "            elif ('.' == (df_train['hotel details'][i].split('|'))[j][-1:]) or (':' == (df_train['hotel details'][i].split('|'))[j][-1:]):\n",
    "                pass\n",
    "            elif '.' == (df_train['hotel details'][i].split('|'))[j][-2:]:\n",
    "                count.append(float((df_train['hotel details'][i].split('|'))[j][-1]))\n",
    "            else:\n",
    "                count.append(float((df_train['hotel details'][i].split('|'))[j][-1]))\n",
    "\n",
    "    dummy_4.append(round(np.mean(count),2))\n",
    "    \n",
    "df_train['mean_rating'] = dummy_4\n",
    "\n",
    "# Determining the total number of Nights in the Package\n",
    "\n",
    "dummy_4 = []\n",
    "\n",
    "for i in range(len(df_train['itinerary'])):\n",
    "    count = []\n",
    "    a = df_train['itinerary'][i].split('.')\n",
    "    for j in range(len(a)):\n",
    "        if a[j][1]=='N':\n",
    "            pass\n",
    "        else:\n",
    "            count.append(int(a[j][1]))\n",
    "    dummy_4.append(np.sum(count))\n",
    "    \n",
    "df_train['total_nights'] = dummy_4\n",
    "\n",
    "# Extracting the Month from the Date Column\n",
    "\n",
    "df_train['travel_month'] = pd.DatetimeIndex(pd.to_datetime(df_train['travel date'],dayfirst = True)).month\n"
   ]
  },
  {
   "cell_type": "code",
   "execution_count": 10,
   "metadata": {},
   "outputs": [],
   "source": [
    "# Redifing the Previously defined variables\n",
    "\n",
    "quant_col = ['per person price','mean_rating']\n",
    "\n",
    "cat_col = ['flight stops', 'meals', 'start city',\n",
    "           'travel_month', 'total_nights','n_carriers','n_sightseeing_places',\n",
    "           'room_priority', 'cancellation rules','return_to_first','first_dest',\n",
    "          ]\n",
    "\n",
    "cols_to_drop = ['uniq id','airline','package name','package type','destination',\n",
    "          'sightseeing places covered','places covered', 'travel date', 'hotel details','itinerary' ]"
   ]
  },
  {
   "cell_type": "code",
   "execution_count": 11,
   "metadata": {},
   "outputs": [],
   "source": [
    "# Redifining the types of the variables\n",
    "\n",
    "df_train['total_nights'] = df_train['total_nights'].astype('int64')\n"
   ]
  },
  {
   "cell_type": "markdown",
   "metadata": {},
   "source": [
    "## Target Variable Distribution"
   ]
  },
  {
   "cell_type": "code",
   "execution_count": 12,
   "metadata": {},
   "outputs": [
    {
     "data": {
      "text/plain": [
       "(array([1.0545e+04, 8.7310e+03, 1.3180e+03, 2.8100e+02, 6.9000e+01,\n",
       "        2.8000e+01, 1.5000e+01, 7.0000e+00, 1.0000e+00, 5.0000e+00]),\n",
       " array([   791.  ,  17818.15,  34845.3 ,  51872.45,  68899.6 ,  85926.75,\n",
       "        102953.9 , 119981.05, 137008.2 , 154035.35, 171062.5 ]),\n",
       " <a list of 10 Patch objects>)"
      ]
     },
     "execution_count": 12,
     "metadata": {},
     "output_type": "execute_result"
    },
    {
     "data": {
      "image/png": "[encoded data removed]",
      "text/plain": [
       "<Figure size 432x288 with 1 Axes>"
      ]
     },
     "metadata": {
      "needs_background": "light"
     },
     "output_type": "display_data"
    }
   ],
   "source": [
    "plt.hist(df_train['per person price'])"
   ]
  },
  {
   "cell_type": "markdown",
   "metadata": {},
   "source": [
    "Presence of Outliers in the Target Variable. To deal with the outliers, the variables would be scaled, to prevent data leak."
   ]
  },
  {
   "cell_type": "markdown",
   "metadata": {},
   "source": [
    "# Visual Distribution of the Predictors"
   ]
  },
  {
   "cell_type": "markdown",
   "metadata": {},
   "source": [
    "## For Categorical Variables"
   ]
  },
  {
   "cell_type": "code",
   "execution_count": 13,
   "metadata": {
    "scrolled": true
   },
   "outputs": [
    {
     "data": {
      "image/png": "[encoded data removed]",
      "text/plain": [
       "<Figure size 1440x360 with 11 Axes>"
      ]
     },
     "metadata": {
      "needs_background": "light"
     },
     "output_type": "display_data"
    }
   ],
   "source": [
    "def PlotBarCharts(inpData, colsToPlot):\n",
    "    %matplotlib inline\n",
    "    \n",
    "    import matplotlib.pyplot as plt\n",
    "    \n",
    "    # Generating multiple subplots\n",
    "    fig, subPlot=plt.subplots(nrows=1, ncols=len(colsToPlot), figsize=(20,5))\n",
    "    fig.suptitle('Bar charts of: '+ str(colsToPlot))\n",
    "\n",
    "    for colName, plotNumber in zip(colsToPlot, range(len(cat_col))):\n",
    "        inpData.groupby(colName).size().plot(kind='bar',ax=subPlot[plotNumber])\n",
    "        \n",
    "        \n",
    "# Calling the function\n",
    "PlotBarCharts(inpData=df_train, colsToPlot=cat_col)"
   ]
  },
  {
   "cell_type": "markdown",
   "metadata": {},
   "source": [
    "### Bar Chart Interpretation\n",
    "\n",
    "* Most destinations have direct flights.\n",
    "\n",
    "* New Delhi is the most preferred starting city.\n",
    "\n",
    "* 5th and 7th Months are the most preferred.\n",
    "\n",
    "* Most of the stays are only for the day time.\n",
    "\n",
    "* The initial impression from the Bar Chart is that there would be few more predictors that would need to be dropped. Statistical tests would serve the basis for the decision."
   ]
  },
  {
   "cell_type": "markdown",
   "metadata": {},
   "source": [
    "## For Continuous Variables"
   ]
  },
  {
   "cell_type": "code",
   "execution_count": 14,
   "metadata": {},
   "outputs": [
    {
     "data": {
      "text/plain": [
       "array([[<matplotlib.axes._subplots.AxesSubplot object at 0x00000251FD9F7E20>,\n",
       "        <matplotlib.axes._subplots.AxesSubplot object at 0x00000251FDA0CD00>]],\n",
       "      dtype=object)"
      ]
     },
     "execution_count": 14,
     "metadata": {},
     "output_type": "execute_result"
    },
    {
     "data": {
      "image/png": "[encoded data removed]",
      "text/plain": [
       "<Figure size 1296x720 with 2 Axes>"
      ]
     },
     "metadata": {
      "needs_background": "light"
     },
     "output_type": "display_data"
    }
   ],
   "source": [
    "df_train.hist(quant_col, figsize=(18,10))"
   ]
  },
  {
   "cell_type": "markdown",
   "metadata": {},
   "source": [
    "# Statistical Testing for Feature Selection"
   ]
  },
  {
   "cell_type": "markdown",
   "metadata": {},
   "source": [
    "## For Continuous Variables"
   ]
  },
  {
   "cell_type": "code",
   "execution_count": 15,
   "metadata": {},
   "outputs": [
    {
     "data": {
      "text/html": [
       "<div>\n",
       "<style scoped>\n",
       "    .dataframe tbody tr th:only-of-type {\n",
       "        vertical-align: middle;\n",
       "    }\n",
       "\n",
       "    .dataframe tbody tr th {\n",
       "        vertical-align: top;\n",
       "    }\n",
       "\n",
       "    .dataframe thead th {\n",
       "        text-align: right;\n",
       "    }\n",
       "</style>\n",
       "<table border=\"1\" class=\"dataframe\">\n",
       "  <thead>\n",
       "    <tr style=\"text-align: right;\">\n",
       "      <th></th>\n",
       "      <th>per person price</th>\n",
       "      <th>mean_rating</th>\n",
       "    </tr>\n",
       "  </thead>\n",
       "  <tbody>\n",
       "    <tr>\n",
       "      <th>per person price</th>\n",
       "      <td>1.000000</td>\n",
       "      <td>-0.066011</td>\n",
       "    </tr>\n",
       "    <tr>\n",
       "      <th>mean_rating</th>\n",
       "      <td>-0.066011</td>\n",
       "      <td>1.000000</td>\n",
       "    </tr>\n",
       "  </tbody>\n",
       "</table>\n",
       "</div>"
      ],
      "text/plain": [
       "                  per person price  mean_rating\n",
       "per person price          1.000000    -0.066011\n",
       "mean_rating              -0.066011     1.000000"
      ]
     },
     "execution_count": 15,
     "metadata": {},
     "output_type": "execute_result"
    }
   ],
   "source": [
    "Correlation_Data = df_train[quant_col].corr()\n",
    "Correlation_Data"
   ]
  },
  {
   "cell_type": "markdown",
   "metadata": {},
   "source": [
    "## For Categorical Variables"
   ]
  },
  {
   "cell_type": "code",
   "execution_count": 16,
   "metadata": {},
   "outputs": [
    {
     "name": "stdout",
     "output_type": "stream",
     "text": [
      "##### ANOVA Results ##### \n",
      "\n",
      "flight stops is correlated with per person price | P-Value: 0.0\n",
      "meals is correlated with per person price | P-Value: 0.0\n",
      "start city is correlated with per person price | P-Value: 9.336712031102475e-12\n",
      "travel_month is NOT correlated with per person price | P-Value: 0.3052800084659279\n",
      "total_nights is correlated with per person price | P-Value: 0.0\n",
      "n_carriers is correlated with per person price | P-Value: 0.0\n",
      "n_sightseeing_places is correlated with per person price | P-Value: 1.527245153843493e-169\n",
      "room_priority is correlated with per person price | P-Value: 0.0\n",
      "cancellation rules is correlated with per person price | P-Value: 0.0\n",
      "return_to_first is correlated with per person price | P-Value: 1.3693426138481862e-85\n",
      "first_dest is NOT correlated with per person price | P-Value: 0.6676139767107909\n"
     ]
    },
    {
     "data": {
      "text/plain": [
       "['flight stops',\n",
       " 'meals',\n",
       " 'start city',\n",
       " 'total_nights',\n",
       " 'n_carriers',\n",
       " 'n_sightseeing_places',\n",
       " 'room_priority',\n",
       " 'cancellation rules',\n",
       " 'return_to_first']"
      ]
     },
     "execution_count": 16,
     "metadata": {},
     "output_type": "execute_result"
    }
   ],
   "source": [
    "def FunctionAnova(inpData, TargetVariable, CategoricalPredictorList):\n",
    "    # Creating an empty list of final selected predictors\n",
    "    SelectedPredictors=[]\n",
    "    \n",
    "    print('##### ANOVA Results ##### \\n')\n",
    "    for predictor in CategoricalPredictorList:\n",
    "        CategoryGroupLists=inpData.groupby(predictor)[TargetVariable].apply(list)\n",
    "        AnovaResults = f_oneway(*CategoryGroupLists)\n",
    "        \n",
    "        # If the ANOVA P-Value is <0.05, that means we reject H0\n",
    "        if (AnovaResults[1] < 0.05):\n",
    "            print(predictor, 'is correlated with', TargetVariable, '| P-Value:', AnovaResults[1])\n",
    "            SelectedPredictors.append(predictor)\n",
    "        else:\n",
    "            print(predictor, 'is NOT correlated with', TargetVariable, '| P-Value:', AnovaResults[1])\n",
    "    \n",
    "    return(SelectedPredictors)\n",
    "\n",
    "\n",
    "FunctionAnova(inpData=df_train, \n",
    "              TargetVariable='per person price', \n",
    "              CategoricalPredictorList=cat_col)"
   ]
  },
  {
   "cell_type": "markdown",
   "metadata": {},
   "source": [
    "# Data Pre-processing"
   ]
  },
  {
   "cell_type": "code",
   "execution_count": 17,
   "metadata": {},
   "outputs": [],
   "source": [
    "df_train['start city'].replace({\n",
    "    'Mumbai': 0,\n",
    "    'New Delhi':1\n",
    "},inplace = True)"
   ]
  },
  {
   "cell_type": "code",
   "execution_count": 18,
   "metadata": {},
   "outputs": [],
   "source": [
    "# Selecting Final Predictors for Model Making\n",
    "\n",
    "cat_col_sel = ['flight stops','meals','start city','total_nights','n_carriers',\n",
    " 'n_sightseeing_places','room_priority','cancellation rules','return_to_first']\n",
    "\n",
    "quant_col_sel = ['mean_rating']\n",
    "\n",
    "SelectedColumns = ['flight stops','meals','start city','total_nights','n_carriers',\n",
    " 'n_sightseeing_places','room_priority',\n",
    "                   'cancellation rules','return_to_first','per person price']\n",
    "\n",
    "Data4ML = df_train[SelectedColumns]\n",
    "\n",
    "# Saving the data for reference\n",
    "Data4ML.to_pickle('Data4ML.pkl')"
   ]
  },
  {
   "cell_type": "markdown",
   "metadata": {},
   "source": [
    "# Scaling the Test Data in accordance to Train Data"
   ]
  },
  {
   "cell_type": "code",
   "execution_count": 57,
   "metadata": {},
   "outputs": [],
   "source": [
    "# Replacing long string into readable rules\n",
    "df_test['cancellation rules'].replace({\n",
    "    (df_test['cancellation rules'].unique())[0]:0,\n",
    "    (df_test['cancellation rules'].unique())[1]:1,\n",
    "    (df_test['cancellation rules'].unique())[2]:2,\n",
    "    (df_test['cancellation rules'].unique())[3]:3,\n",
    "    (df_test['cancellation rules'].unique())[4]:4,\n",
    "    (df_test['cancellation rules'].unique())[5]:5,\n",
    "    (df_test['cancellation rules'].unique())[6]:6\n",
    "}, inplace = True)\n",
    "\n",
    "# Room Classification\n",
    "\n",
    "df_test['package type'] = pd.Categorical(df_test['package type'],\n",
    "                                         ['Budget','Standard','Deluxe','Premium', 'Luxury'],\n",
    "                                          ordered = True)\n",
    "# Room Prioritization\n",
    "\n",
    "df_test['room_priority'] = df_test['package type'].cat.codes\n",
    "\n",
    "# Number of Sightseeing Places Covered\n",
    "\n",
    "dummy = []\n",
    "\n",
    "for i in range(len(df_test['sightseeing places covered'])):\n",
    "    if df_test['sightseeing places covered'][i] == 'Not Available':\n",
    "        dummy.append(0)\n",
    "    else:\n",
    "        dummy.append(len((df_test['sightseeing places covered'].iloc[i]).split('|')))\n",
    "\n",
    "df_test['n_sightseeing_places'] = dummy\n",
    "\n",
    "# Determining if the trip returns to the first destination\n",
    "\n",
    "dummy_1 = []\n",
    "\n",
    "for i in range(len(df_test['destination'])):\n",
    "    a = df_test['destination'][i].split('|')\n",
    "    \n",
    "    if a[0] == a[-1]:\n",
    "        dummy_1.append(1)\n",
    "    else:\n",
    "        dummy_1.append(0)\n",
    "        \n",
    "df_test['return_to_first'] = dummy_1\n",
    "\n",
    "# Determine if the starting city is the first destination\n",
    "\n",
    "dummy_2 = []\n",
    "\n",
    "for i in range(len(df_test['destination'])):\n",
    "    a = df_test['destination'][i].split('|')\n",
    "    \n",
    "    if df_test['start city'][i] == a[0]:\n",
    "        dummy_2.append(1)\n",
    "    else:\n",
    "        dummy_2.append(0)\n",
    "        \n",
    "df_test['first_dest'] = dummy_2\n",
    "\n",
    "# Number of Airline Carriers\n",
    "\n",
    "dummy_3 = []\n",
    "\n",
    "for i in range(len(df_test['airline'])):\n",
    "    if df_test['airline'][i] == 'Not Avaialble':\n",
    "        dummy_3.append(0)\n",
    "    else:\n",
    "        dummy_3.append(len(df_train['airline'][i].split('|')))\n",
    "        \n",
    "df_test['n_carriers'] = dummy_3\n",
    "\n",
    "# Determining the Mean Rating of the Hotels each travel\n",
    "\n",
    "dummy_4 = []\n",
    "\n",
    "for i in range(len(df_test['hotel details'])):\n",
    "    count = []\n",
    "    for j in range(len(df_test['hotel details'][i].split('|'))):\n",
    "        if '.' not in (df_test['hotel details'][i].split('|'))[j][-2:]:\n",
    "            if (df_test['hotel details'][i].split('|'))[j][-3:] == 'One':\n",
    "                count.append(1.0)\n",
    "            elif (df_test['hotel details'][i].split('|'))[j][-3:] == 'Two':\n",
    "                count.append(2.0)\n",
    "            elif (df_test['hotel details'][i].split('|'))[j][-3:] == 'ree':\n",
    "                count.append(3.0)\n",
    "            elif (df_test['hotel details'][i].split('|'))[j][-3:] == 'our':\n",
    "                count.append(4.0)\n",
    "            else:\n",
    "                count.append(5.0)\n",
    "        else:\n",
    "            if '.' == (df_test['hotel details'][i].split('|'))[j][-1:]:\n",
    "                pass\n",
    "            elif ('.' == (df_test['hotel details'][i].split('|'))[j][-1:]) or (':' == (df_test['hotel details'][i].split('|'))[j][-1:]):\n",
    "                pass\n",
    "            elif '.' == (df_test['hotel details'][i].split('|'))[j][-2:]:\n",
    "                count.append(float((df_test['hotel details'][i].split('|'))[j][-1]))\n",
    "            else:\n",
    "                count.append(float((df_test['hotel details'][i].split('|'))[j][-1]))\n",
    "\n",
    "    dummy_4.append(round(np.mean(count),2))\n",
    "    \n",
    "df_test['mean_rating'] = dummy_4\n",
    "\n",
    "# Determining the total number of Nights in the Package\n",
    "\n",
    "dummy_4 = []\n",
    "\n",
    "for i in range(len(df_test['itinerary'])):\n",
    "    count = []\n",
    "    a = df_test['itinerary'][i].split('.')\n",
    "    for j in range(len(a)):\n",
    "        if a[j][1]=='N':\n",
    "            pass\n",
    "        else:\n",
    "            count.append(int(a[j][1]))\n",
    "    dummy_4.append(np.sum(count))\n",
    "    \n",
    "df_test['total_nights'] = dummy_4\n",
    "\n",
    "# Extracting the Month from the Date Column\n",
    "\n",
    "df_test['travel_month'] = pd.DatetimeIndex(pd.to_datetime(df_test['travel date'],dayfirst = True)).month\n",
    "\n",
    "# Redifining the types of the variables\n",
    "\n",
    "df_test['total_nights'] = df_test['total_nights'].astype('int64')\n",
    "\n",
    "df_test['start city'].replace({\n",
    "    'Mumbai': 0,\n",
    "    'New Delhi':1\n",
    "},inplace = True)"
   ]
  },
  {
   "cell_type": "markdown",
   "metadata": {},
   "source": [
    "# Data Scaling and  Splitting"
   ]
  },
  {
   "cell_type": "code",
   "execution_count": 20,
   "metadata": {},
   "outputs": [
    {
     "name": "stdout",
     "output_type": "stream",
     "text": [
      "(14700, 9)\n",
      "(14700,)\n",
      "(6300, 9)\n",
      "(6300,)\n"
     ]
    }
   ],
   "source": [
    "TargetVariable = 'per person price'\n",
    "Predictors = ['flight stops','meals','start city','total_nights','n_carriers',\n",
    " 'n_sightseeing_places','room_priority','cancellation rules','return_to_first']\n",
    "\n",
    "X = Data4ML[Predictors]\n",
    "y = Data4ML[TargetVariable]\n",
    "\n",
    "PredictorScaler=MinMaxScaler()\n",
    "PredictorScalerFit=PredictorScaler.fit(X)\n",
    "X=PredictorScalerFit.transform(X)\n",
    "\n",
    "X_train, X_test, y_train, y_test = train_test_split(X, y, test_size=0.3,\n",
    "                                                    random_state=5)\n",
    "\n",
    "# Confirming the Changes\n",
    "\n",
    "print(X_train.shape)\n",
    "print(y_train.shape)\n",
    "print(X_test.shape)\n",
    "print(y_test.shape)"
   ]
  },
  {
   "cell_type": "markdown",
   "metadata": {},
   "source": [
    "# Model Building"
   ]
  },
  {
   "cell_type": "code",
   "execution_count": 21,
   "metadata": {},
   "outputs": [],
   "source": [
    "# Determining the Baseline Performance of Different Models\n",
    "\n",
    "def RegLoop(X_train,y_train,X_test):\n",
    "    R_list = [LinearRegression,DecisionTreeRegressor,RandomForestRegressor,AdaBoostRegressor,\n",
    "              XGBRegressor,SVR,Ridge,Lasso,KNeighborsRegressor]\n",
    "    RMSLE_val = {}\n",
    "    for alg in R_list:\n",
    "        RegModel=alg()\n",
    "        Mdl=RegModel.fit(X_train,y_train)\n",
    "        prediction=Mdl.predict(X_test)\n",
    "        MSLE = mean_squared_log_error(abs(y_train), abs(RegModel.predict(X_train)))\n",
    "        RMSLE = np.sqrt(MSLE)\n",
    "        RMSLE_val.update({alg: round(RMSLE,2)})\n",
    "        \n",
    "    return RMSLE_val"
   ]
  },
  {
   "cell_type": "code",
   "execution_count": 22,
   "metadata": {},
   "outputs": [
    {
     "data": {
      "text/plain": [
       "{sklearn.linear_model._base.LinearRegression: 0.4,\n",
       " sklearn.tree._classes.DecisionTreeRegressor: 0.29,\n",
       " sklearn.ensemble._forest.RandomForestRegressor: 0.29,\n",
       " sklearn.ensemble._weight_boosting.AdaBoostRegressor: 0.49,\n",
       " xgboost.sklearn.XGBRegressor: 0.32,\n",
       " sklearn.svm._classes.SVR: 0.53,\n",
       " sklearn.linear_model._ridge.Ridge: 0.4,\n",
       " sklearn.linear_model._coordinate_descent.Lasso: 0.39,\n",
       " sklearn.neighbors._regression.KNeighborsRegressor: 0.34}"
      ]
     },
     "execution_count": 22,
     "metadata": {},
     "output_type": "execute_result"
    }
   ],
   "source": [
    "RegLoop(X_train,y_train,X_test)"
   ]
  },
  {
   "cell_type": "markdown",
   "metadata": {},
   "source": [
    "From the above test, **Decision Tree** and **XGBoost** models will be considered for further iterations."
   ]
  },
  {
   "cell_type": "markdown",
   "metadata": {},
   "source": [
    "## Decision Tree"
   ]
  },
  {
   "cell_type": "code",
   "execution_count": 33,
   "metadata": {},
   "outputs": [
    {
     "data": {
      "text/plain": [
       "<matplotlib.axes._subplots.AxesSubplot at 0x251fd9f7550>"
      ]
     },
     "execution_count": 33,
     "metadata": {},
     "output_type": "execute_result"
    },
    {
     "data": {
      "image/png": "[encoded data removed]",
      "text/plain": [
       "<Figure size 432x288 with 1 Axes>"
      ]
     },
     "metadata": {
      "needs_background": "light"
     },
     "output_type": "display_data"
    }
   ],
   "source": [
    "RegModel=DecisionTreeRegressor()\n",
    "Mdl=RegModel.fit(X_train,y_train)\n",
    "prediction=Mdl.predict(X_test)\n",
    "\n",
    "# Plotting the feature importance for Top 10 most important columns\n",
    "%matplotlib inline\n",
    "feature_importances = pd.Series(Mdl.feature_importances_, index=Predictors)\n",
    "feature_importances.nlargest(10).plot(kind='barh')"
   ]
  },
  {
   "cell_type": "markdown",
   "metadata": {},
   "source": [
    "From the above graph, the most important predictors are:\n",
    "* n_carriers\n",
    "* total_nights\n",
    "* n_sightseeing_places\n",
    "* meals"
   ]
  },
  {
   "cell_type": "markdown",
   "metadata": {},
   "source": [
    "#### Hyper Parameter Tuning"
   ]
  },
  {
   "cell_type": "code",
   "execution_count": 36,
   "metadata": {},
   "outputs": [
    {
     "name": "stderr",
     "output_type": "stream",
     "text": [
      "C:\\Users\\ASHUTOSH DAS\\anaconda3\\lib\\site-packages\\sklearn\\model_selection\\_validation.py:548: FitFailedWarning: Estimator fit failed. The score on this train-test partition for these parameters will be set to nan. Details: \n",
      "Traceback (most recent call last):\n",
      "  File \"C:\\Users\\ASHUTOSH DAS\\anaconda3\\lib\\site-packages\\sklearn\\model_selection\\_validation.py\", line 531, in _fit_and_score\n",
      "    estimator.fit(X_train, y_train, **fit_params)\n",
      "  File \"C:\\Users\\ASHUTOSH DAS\\anaconda3\\lib\\site-packages\\sklearn\\tree\\_classes.py\", line 1242, in fit\n",
      "    super().fit(\n",
      "  File \"C:\\Users\\ASHUTOSH DAS\\anaconda3\\lib\\site-packages\\sklearn\\tree\\_classes.py\", line 336, in fit\n",
      "    criterion = CRITERIA_REG[self.criterion](self.n_outputs_,\n",
      "KeyError: 'poisson'\n",
      "\n",
      "  warnings.warn(\"Estimator fit failed. The score on this train-test\"\n",
      "C:\\Users\\ASHUTOSH DAS\\anaconda3\\lib\\site-packages\\sklearn\\model_selection\\_validation.py:548: FitFailedWarning: Estimator fit failed. The score on this train-test partition for these parameters will be set to nan. Details: \n",
      "Traceback (most recent call last):\n",
      "  File \"C:\\Users\\ASHUTOSH DAS\\anaconda3\\lib\\site-packages\\sklearn\\model_selection\\_validation.py\", line 531, in _fit_and_score\n",
      "    estimator.fit(X_train, y_train, **fit_params)\n",
      "  File \"C:\\Users\\ASHUTOSH DAS\\anaconda3\\lib\\site-packages\\sklearn\\tree\\_classes.py\", line 1242, in fit\n",
      "    super().fit(\n",
      "  File \"C:\\Users\\ASHUTOSH DAS\\anaconda3\\lib\\site-packages\\sklearn\\tree\\_classes.py\", line 336, in fit\n",
      "    criterion = CRITERIA_REG[self.criterion](self.n_outputs_,\n",
      "KeyError: 'poisson'\n",
      "\n",
      "  warnings.warn(\"Estimator fit failed. The score on this train-test\"\n",
      "C:\\Users\\ASHUTOSH DAS\\anaconda3\\lib\\site-packages\\sklearn\\model_selection\\_validation.py:548: FitFailedWarning: Estimator fit failed. The score on this train-test partition for these parameters will be set to nan. Details: \n",
      "Traceback (most recent call last):\n",
      "  File \"C:\\Users\\ASHUTOSH DAS\\anaconda3\\lib\\site-packages\\sklearn\\model_selection\\_validation.py\", line 531, in _fit_and_score\n",
      "    estimator.fit(X_train, y_train, **fit_params)\n",
      "  File \"C:\\Users\\ASHUTOSH DAS\\anaconda3\\lib\\site-packages\\sklearn\\tree\\_classes.py\", line 1242, in fit\n",
      "    super().fit(\n",
      "  File \"C:\\Users\\ASHUTOSH DAS\\anaconda3\\lib\\site-packages\\sklearn\\tree\\_classes.py\", line 336, in fit\n",
      "    criterion = CRITERIA_REG[self.criterion](self.n_outputs_,\n",
      "KeyError: 'poisson'\n",
      "\n",
      "  warnings.warn(\"Estimator fit failed. The score on this train-test\"\n",
      "C:\\Users\\ASHUTOSH DAS\\anaconda3\\lib\\site-packages\\sklearn\\model_selection\\_validation.py:548: FitFailedWarning: Estimator fit failed. The score on this train-test partition for these parameters will be set to nan. Details: \n",
      "Traceback (most recent call last):\n",
      "  File \"C:\\Users\\ASHUTOSH DAS\\anaconda3\\lib\\site-packages\\sklearn\\model_selection\\_validation.py\", line 531, in _fit_and_score\n",
      "    estimator.fit(X_train, y_train, **fit_params)\n",
      "  File \"C:\\Users\\ASHUTOSH DAS\\anaconda3\\lib\\site-packages\\sklearn\\tree\\_classes.py\", line 1242, in fit\n",
      "    super().fit(\n",
      "  File \"C:\\Users\\ASHUTOSH DAS\\anaconda3\\lib\\site-packages\\sklearn\\tree\\_classes.py\", line 336, in fit\n",
      "    criterion = CRITERIA_REG[self.criterion](self.n_outputs_,\n",
      "KeyError: 'poisson'\n",
      "\n",
      "  warnings.warn(\"Estimator fit failed. The score on this train-test\"\n",
      "C:\\Users\\ASHUTOSH DAS\\anaconda3\\lib\\site-packages\\sklearn\\model_selection\\_validation.py:548: FitFailedWarning: Estimator fit failed. The score on this train-test partition for these parameters will be set to nan. Details: \n",
      "Traceback (most recent call last):\n",
      "  File \"C:\\Users\\ASHUTOSH DAS\\anaconda3\\lib\\site-packages\\sklearn\\model_selection\\_validation.py\", line 531, in _fit_and_score\n",
      "    estimator.fit(X_train, y_train, **fit_params)\n",
      "  File \"C:\\Users\\ASHUTOSH DAS\\anaconda3\\lib\\site-packages\\sklearn\\tree\\_classes.py\", line 1242, in fit\n",
      "    super().fit(\n",
      "  File \"C:\\Users\\ASHUTOSH DAS\\anaconda3\\lib\\site-packages\\sklearn\\tree\\_classes.py\", line 336, in fit\n",
      "    criterion = CRITERIA_REG[self.criterion](self.n_outputs_,\n",
      "KeyError: 'poisson'\n",
      "\n",
      "  warnings.warn(\"Estimator fit failed. The score on this train-test\"\n",
      "C:\\Users\\ASHUTOSH DAS\\anaconda3\\lib\\site-packages\\sklearn\\model_selection\\_validation.py:548: FitFailedWarning: Estimator fit failed. The score on this train-test partition for these parameters will be set to nan. Details: \n",
      "Traceback (most recent call last):\n",
      "  File \"C:\\Users\\ASHUTOSH DAS\\anaconda3\\lib\\site-packages\\sklearn\\model_selection\\_validation.py\", line 531, in _fit_and_score\n",
      "    estimator.fit(X_train, y_train, **fit_params)\n",
      "  File \"C:\\Users\\ASHUTOSH DAS\\anaconda3\\lib\\site-packages\\sklearn\\tree\\_classes.py\", line 1242, in fit\n",
      "    super().fit(\n",
      "  File \"C:\\Users\\ASHUTOSH DAS\\anaconda3\\lib\\site-packages\\sklearn\\tree\\_classes.py\", line 336, in fit\n",
      "    criterion = CRITERIA_REG[self.criterion](self.n_outputs_,\n",
      "KeyError: 'poisson'\n",
      "\n",
      "  warnings.warn(\"Estimator fit failed. The score on this train-test\"\n",
      "C:\\Users\\ASHUTOSH DAS\\anaconda3\\lib\\site-packages\\sklearn\\model_selection\\_validation.py:548: FitFailedWarning: Estimator fit failed. The score on this train-test partition for these parameters will be set to nan. Details: \n",
      "Traceback (most recent call last):\n",
      "  File \"C:\\Users\\ASHUTOSH DAS\\anaconda3\\lib\\site-packages\\sklearn\\model_selection\\_validation.py\", line 531, in _fit_and_score\n",
      "    estimator.fit(X_train, y_train, **fit_params)\n",
      "  File \"C:\\Users\\ASHUTOSH DAS\\anaconda3\\lib\\site-packages\\sklearn\\tree\\_classes.py\", line 1242, in fit\n",
      "    super().fit(\n",
      "  File \"C:\\Users\\ASHUTOSH DAS\\anaconda3\\lib\\site-packages\\sklearn\\tree\\_classes.py\", line 336, in fit\n",
      "    criterion = CRITERIA_REG[self.criterion](self.n_outputs_,\n",
      "KeyError: 'poisson'\n",
      "\n",
      "  warnings.warn(\"Estimator fit failed. The score on this train-test\"\n",
      "C:\\Users\\ASHUTOSH DAS\\anaconda3\\lib\\site-packages\\sklearn\\model_selection\\_validation.py:548: FitFailedWarning: Estimator fit failed. The score on this train-test partition for these parameters will be set to nan. Details: \n",
      "Traceback (most recent call last):\n",
      "  File \"C:\\Users\\ASHUTOSH DAS\\anaconda3\\lib\\site-packages\\sklearn\\model_selection\\_validation.py\", line 531, in _fit_and_score\n",
      "    estimator.fit(X_train, y_train, **fit_params)\n",
      "  File \"C:\\Users\\ASHUTOSH DAS\\anaconda3\\lib\\site-packages\\sklearn\\tree\\_classes.py\", line 1242, in fit\n",
      "    super().fit(\n",
      "  File \"C:\\Users\\ASHUTOSH DAS\\anaconda3\\lib\\site-packages\\sklearn\\tree\\_classes.py\", line 336, in fit\n",
      "    criterion = CRITERIA_REG[self.criterion](self.n_outputs_,\n",
      "KeyError: 'poisson'\n",
      "\n",
      "  warnings.warn(\"Estimator fit failed. The score on this train-test\"\n",
      "C:\\Users\\ASHUTOSH DAS\\anaconda3\\lib\\site-packages\\sklearn\\model_selection\\_validation.py:548: FitFailedWarning: Estimator fit failed. The score on this train-test partition for these parameters will be set to nan. Details: \n",
      "Traceback (most recent call last):\n",
      "  File \"C:\\Users\\ASHUTOSH DAS\\anaconda3\\lib\\site-packages\\sklearn\\model_selection\\_validation.py\", line 531, in _fit_and_score\n",
      "    estimator.fit(X_train, y_train, **fit_params)\n",
      "  File \"C:\\Users\\ASHUTOSH DAS\\anaconda3\\lib\\site-packages\\sklearn\\tree\\_classes.py\", line 1242, in fit\n",
      "    super().fit(\n",
      "  File \"C:\\Users\\ASHUTOSH DAS\\anaconda3\\lib\\site-packages\\sklearn\\tree\\_classes.py\", line 336, in fit\n",
      "    criterion = CRITERIA_REG[self.criterion](self.n_outputs_,\n",
      "KeyError: 'poisson'\n",
      "\n",
      "  warnings.warn(\"Estimator fit failed. The score on this train-test\"\n",
      "C:\\Users\\ASHUTOSH DAS\\anaconda3\\lib\\site-packages\\sklearn\\model_selection\\_validation.py:548: FitFailedWarning: Estimator fit failed. The score on this train-test partition for these parameters will be set to nan. Details: \n",
      "Traceback (most recent call last):\n",
      "  File \"C:\\Users\\ASHUTOSH DAS\\anaconda3\\lib\\site-packages\\sklearn\\model_selection\\_validation.py\", line 531, in _fit_and_score\n",
      "    estimator.fit(X_train, y_train, **fit_params)\n",
      "  File \"C:\\Users\\ASHUTOSH DAS\\anaconda3\\lib\\site-packages\\sklearn\\tree\\_classes.py\", line 1242, in fit\n",
      "    super().fit(\n",
      "  File \"C:\\Users\\ASHUTOSH DAS\\anaconda3\\lib\\site-packages\\sklearn\\tree\\_classes.py\", line 336, in fit\n",
      "    criterion = CRITERIA_REG[self.criterion](self.n_outputs_,\n",
      "KeyError: 'poisson'\n",
      "\n",
      "  warnings.warn(\"Estimator fit failed. The score on this train-test\"\n",
      "C:\\Users\\ASHUTOSH DAS\\anaconda3\\lib\\site-packages\\sklearn\\model_selection\\_validation.py:548: FitFailedWarning: Estimator fit failed. The score on this train-test partition for these parameters will be set to nan. Details: \n",
      "Traceback (most recent call last):\n",
      "  File \"C:\\Users\\ASHUTOSH DAS\\anaconda3\\lib\\site-packages\\sklearn\\model_selection\\_validation.py\", line 531, in _fit_and_score\n",
      "    estimator.fit(X_train, y_train, **fit_params)\n",
      "  File \"C:\\Users\\ASHUTOSH DAS\\anaconda3\\lib\\site-packages\\sklearn\\tree\\_classes.py\", line 1242, in fit\n",
      "    super().fit(\n",
      "  File \"C:\\Users\\ASHUTOSH DAS\\anaconda3\\lib\\site-packages\\sklearn\\tree\\_classes.py\", line 336, in fit\n",
      "    criterion = CRITERIA_REG[self.criterion](self.n_outputs_,\n",
      "KeyError: 'poisson'\n",
      "\n",
      "  warnings.warn(\"Estimator fit failed. The score on this train-test\"\n",
      "C:\\Users\\ASHUTOSH DAS\\anaconda3\\lib\\site-packages\\sklearn\\model_selection\\_validation.py:548: FitFailedWarning: Estimator fit failed. The score on this train-test partition for these parameters will be set to nan. Details: \n",
      "Traceback (most recent call last):\n",
      "  File \"C:\\Users\\ASHUTOSH DAS\\anaconda3\\lib\\site-packages\\sklearn\\model_selection\\_validation.py\", line 531, in _fit_and_score\n",
      "    estimator.fit(X_train, y_train, **fit_params)\n",
      "  File \"C:\\Users\\ASHUTOSH DAS\\anaconda3\\lib\\site-packages\\sklearn\\tree\\_classes.py\", line 1242, in fit\n",
      "    super().fit(\n",
      "  File \"C:\\Users\\ASHUTOSH DAS\\anaconda3\\lib\\site-packages\\sklearn\\tree\\_classes.py\", line 336, in fit\n",
      "    criterion = CRITERIA_REG[self.criterion](self.n_outputs_,\n",
      "KeyError: 'poisson'\n",
      "\n",
      "  warnings.warn(\"Estimator fit failed. The score on this train-test\"\n",
      "C:\\Users\\ASHUTOSH DAS\\anaconda3\\lib\\site-packages\\sklearn\\model_selection\\_validation.py:548: FitFailedWarning: Estimator fit failed. The score on this train-test partition for these parameters will be set to nan. Details: \n",
      "Traceback (most recent call last):\n",
      "  File \"C:\\Users\\ASHUTOSH DAS\\anaconda3\\lib\\site-packages\\sklearn\\model_selection\\_validation.py\", line 531, in _fit_and_score\n",
      "    estimator.fit(X_train, y_train, **fit_params)\n",
      "  File \"C:\\Users\\ASHUTOSH DAS\\anaconda3\\lib\\site-packages\\sklearn\\tree\\_classes.py\", line 1242, in fit\n",
      "    super().fit(\n",
      "  File \"C:\\Users\\ASHUTOSH DAS\\anaconda3\\lib\\site-packages\\sklearn\\tree\\_classes.py\", line 336, in fit\n",
      "    criterion = CRITERIA_REG[self.criterion](self.n_outputs_,\n",
      "KeyError: 'poisson'\n",
      "\n",
      "  warnings.warn(\"Estimator fit failed. The score on this train-test\"\n",
      "C:\\Users\\ASHUTOSH DAS\\anaconda3\\lib\\site-packages\\sklearn\\model_selection\\_validation.py:548: FitFailedWarning: Estimator fit failed. The score on this train-test partition for these parameters will be set to nan. Details: \n",
      "Traceback (most recent call last):\n",
      "  File \"C:\\Users\\ASHUTOSH DAS\\anaconda3\\lib\\site-packages\\sklearn\\model_selection\\_validation.py\", line 531, in _fit_and_score\n",
      "    estimator.fit(X_train, y_train, **fit_params)\n",
      "  File \"C:\\Users\\ASHUTOSH DAS\\anaconda3\\lib\\site-packages\\sklearn\\tree\\_classes.py\", line 1242, in fit\n",
      "    super().fit(\n",
      "  File \"C:\\Users\\ASHUTOSH DAS\\anaconda3\\lib\\site-packages\\sklearn\\tree\\_classes.py\", line 336, in fit\n",
      "    criterion = CRITERIA_REG[self.criterion](self.n_outputs_,\n",
      "KeyError: 'poisson'\n",
      "\n",
      "  warnings.warn(\"Estimator fit failed. The score on this train-test\"\n",
      "C:\\Users\\ASHUTOSH DAS\\anaconda3\\lib\\site-packages\\sklearn\\model_selection\\_validation.py:548: FitFailedWarning: Estimator fit failed. The score on this train-test partition for these parameters will be set to nan. Details: \n",
      "Traceback (most recent call last):\n",
      "  File \"C:\\Users\\ASHUTOSH DAS\\anaconda3\\lib\\site-packages\\sklearn\\model_selection\\_validation.py\", line 531, in _fit_and_score\n",
      "    estimator.fit(X_train, y_train, **fit_params)\n",
      "  File \"C:\\Users\\ASHUTOSH DAS\\anaconda3\\lib\\site-packages\\sklearn\\tree\\_classes.py\", line 1242, in fit\n",
      "    super().fit(\n",
      "  File \"C:\\Users\\ASHUTOSH DAS\\anaconda3\\lib\\site-packages\\sklearn\\tree\\_classes.py\", line 336, in fit\n",
      "    criterion = CRITERIA_REG[self.criterion](self.n_outputs_,\n",
      "KeyError: 'poisson'\n",
      "\n",
      "  warnings.warn(\"Estimator fit failed. The score on this train-test\"\n",
      "C:\\Users\\ASHUTOSH DAS\\anaconda3\\lib\\site-packages\\sklearn\\model_selection\\_validation.py:548: FitFailedWarning: Estimator fit failed. The score on this train-test partition for these parameters will be set to nan. Details: \n",
      "Traceback (most recent call last):\n",
      "  File \"C:\\Users\\ASHUTOSH DAS\\anaconda3\\lib\\site-packages\\sklearn\\model_selection\\_validation.py\", line 531, in _fit_and_score\n",
      "    estimator.fit(X_train, y_train, **fit_params)\n",
      "  File \"C:\\Users\\ASHUTOSH DAS\\anaconda3\\lib\\site-packages\\sklearn\\tree\\_classes.py\", line 1242, in fit\n",
      "    super().fit(\n",
      "  File \"C:\\Users\\ASHUTOSH DAS\\anaconda3\\lib\\site-packages\\sklearn\\tree\\_classes.py\", line 336, in fit\n",
      "    criterion = CRITERIA_REG[self.criterion](self.n_outputs_,\n",
      "KeyError: 'poisson'\n",
      "\n",
      "  warnings.warn(\"Estimator fit failed. The score on this train-test\"\n",
      "C:\\Users\\ASHUTOSH DAS\\anaconda3\\lib\\site-packages\\sklearn\\model_selection\\_validation.py:548: FitFailedWarning: Estimator fit failed. The score on this train-test partition for these parameters will be set to nan. Details: \n",
      "Traceback (most recent call last):\n",
      "  File \"C:\\Users\\ASHUTOSH DAS\\anaconda3\\lib\\site-packages\\sklearn\\model_selection\\_validation.py\", line 531, in _fit_and_score\n",
      "    estimator.fit(X_train, y_train, **fit_params)\n",
      "  File \"C:\\Users\\ASHUTOSH DAS\\anaconda3\\lib\\site-packages\\sklearn\\tree\\_classes.py\", line 1242, in fit\n",
      "    super().fit(\n",
      "  File \"C:\\Users\\ASHUTOSH DAS\\anaconda3\\lib\\site-packages\\sklearn\\tree\\_classes.py\", line 336, in fit\n",
      "    criterion = CRITERIA_REG[self.criterion](self.n_outputs_,\n",
      "KeyError: 'poisson'\n",
      "\n",
      "  warnings.warn(\"Estimator fit failed. The score on this train-test\"\n",
      "C:\\Users\\ASHUTOSH DAS\\anaconda3\\lib\\site-packages\\sklearn\\model_selection\\_validation.py:548: FitFailedWarning: Estimator fit failed. The score on this train-test partition for these parameters will be set to nan. Details: \n",
      "Traceback (most recent call last):\n",
      "  File \"C:\\Users\\ASHUTOSH DAS\\anaconda3\\lib\\site-packages\\sklearn\\model_selection\\_validation.py\", line 531, in _fit_and_score\n",
      "    estimator.fit(X_train, y_train, **fit_params)\n",
      "  File \"C:\\Users\\ASHUTOSH DAS\\anaconda3\\lib\\site-packages\\sklearn\\tree\\_classes.py\", line 1242, in fit\n",
      "    super().fit(\n",
      "  File \"C:\\Users\\ASHUTOSH DAS\\anaconda3\\lib\\site-packages\\sklearn\\tree\\_classes.py\", line 336, in fit\n",
      "    criterion = CRITERIA_REG[self.criterion](self.n_outputs_,\n",
      "KeyError: 'poisson'\n",
      "\n",
      "  warnings.warn(\"Estimator fit failed. The score on this train-test\"\n",
      "C:\\Users\\ASHUTOSH DAS\\anaconda3\\lib\\site-packages\\sklearn\\model_selection\\_validation.py:548: FitFailedWarning: Estimator fit failed. The score on this train-test partition for these parameters will be set to nan. Details: \n",
      "Traceback (most recent call last):\n",
      "  File \"C:\\Users\\ASHUTOSH DAS\\anaconda3\\lib\\site-packages\\sklearn\\model_selection\\_validation.py\", line 531, in _fit_and_score\n",
      "    estimator.fit(X_train, y_train, **fit_params)\n",
      "  File \"C:\\Users\\ASHUTOSH DAS\\anaconda3\\lib\\site-packages\\sklearn\\tree\\_classes.py\", line 1242, in fit\n",
      "    super().fit(\n",
      "  File \"C:\\Users\\ASHUTOSH DAS\\anaconda3\\lib\\site-packages\\sklearn\\tree\\_classes.py\", line 336, in fit\n",
      "    criterion = CRITERIA_REG[self.criterion](self.n_outputs_,\n",
      "KeyError: 'poisson'\n",
      "\n",
      "  warnings.warn(\"Estimator fit failed. The score on this train-test\"\n",
      "C:\\Users\\ASHUTOSH DAS\\anaconda3\\lib\\site-packages\\sklearn\\model_selection\\_validation.py:548: FitFailedWarning: Estimator fit failed. The score on this train-test partition for these parameters will be set to nan. Details: \n",
      "Traceback (most recent call last):\n",
      "  File \"C:\\Users\\ASHUTOSH DAS\\anaconda3\\lib\\site-packages\\sklearn\\model_selection\\_validation.py\", line 531, in _fit_and_score\n",
      "    estimator.fit(X_train, y_train, **fit_params)\n",
      "  File \"C:\\Users\\ASHUTOSH DAS\\anaconda3\\lib\\site-packages\\sklearn\\tree\\_classes.py\", line 1242, in fit\n",
      "    super().fit(\n",
      "  File \"C:\\Users\\ASHUTOSH DAS\\anaconda3\\lib\\site-packages\\sklearn\\tree\\_classes.py\", line 336, in fit\n",
      "    criterion = CRITERIA_REG[self.criterion](self.n_outputs_,\n",
      "KeyError: 'poisson'\n",
      "\n",
      "  warnings.warn(\"Estimator fit failed. The score on this train-test\"\n",
      "C:\\Users\\ASHUTOSH DAS\\anaconda3\\lib\\site-packages\\sklearn\\model_selection\\_validation.py:548: FitFailedWarning: Estimator fit failed. The score on this train-test partition for these parameters will be set to nan. Details: \n",
      "Traceback (most recent call last):\n",
      "  File \"C:\\Users\\ASHUTOSH DAS\\anaconda3\\lib\\site-packages\\sklearn\\model_selection\\_validation.py\", line 531, in _fit_and_score\n",
      "    estimator.fit(X_train, y_train, **fit_params)\n",
      "  File \"C:\\Users\\ASHUTOSH DAS\\anaconda3\\lib\\site-packages\\sklearn\\tree\\_classes.py\", line 1242, in fit\n",
      "    super().fit(\n",
      "  File \"C:\\Users\\ASHUTOSH DAS\\anaconda3\\lib\\site-packages\\sklearn\\tree\\_classes.py\", line 336, in fit\n",
      "    criterion = CRITERIA_REG[self.criterion](self.n_outputs_,\n",
      "KeyError: 'poisson'\n",
      "\n",
      "  warnings.warn(\"Estimator fit failed. The score on this train-test\"\n",
      "C:\\Users\\ASHUTOSH DAS\\anaconda3\\lib\\site-packages\\sklearn\\model_selection\\_validation.py:548: FitFailedWarning: Estimator fit failed. The score on this train-test partition for these parameters will be set to nan. Details: \n",
      "Traceback (most recent call last):\n",
      "  File \"C:\\Users\\ASHUTOSH DAS\\anaconda3\\lib\\site-packages\\sklearn\\model_selection\\_validation.py\", line 531, in _fit_and_score\n",
      "    estimator.fit(X_train, y_train, **fit_params)\n",
      "  File \"C:\\Users\\ASHUTOSH DAS\\anaconda3\\lib\\site-packages\\sklearn\\tree\\_classes.py\", line 1242, in fit\n",
      "    super().fit(\n",
      "  File \"C:\\Users\\ASHUTOSH DAS\\anaconda3\\lib\\site-packages\\sklearn\\tree\\_classes.py\", line 336, in fit\n",
      "    criterion = CRITERIA_REG[self.criterion](self.n_outputs_,\n",
      "KeyError: 'poisson'\n",
      "\n",
      "  warnings.warn(\"Estimator fit failed. The score on this train-test\"\n",
      "C:\\Users\\ASHUTOSH DAS\\anaconda3\\lib\\site-packages\\sklearn\\model_selection\\_validation.py:548: FitFailedWarning: Estimator fit failed. The score on this train-test partition for these parameters will be set to nan. Details: \n",
      "Traceback (most recent call last):\n",
      "  File \"C:\\Users\\ASHUTOSH DAS\\anaconda3\\lib\\site-packages\\sklearn\\model_selection\\_validation.py\", line 531, in _fit_and_score\n",
      "    estimator.fit(X_train, y_train, **fit_params)\n",
      "  File \"C:\\Users\\ASHUTOSH DAS\\anaconda3\\lib\\site-packages\\sklearn\\tree\\_classes.py\", line 1242, in fit\n",
      "    super().fit(\n",
      "  File \"C:\\Users\\ASHUTOSH DAS\\anaconda3\\lib\\site-packages\\sklearn\\tree\\_classes.py\", line 336, in fit\n",
      "    criterion = CRITERIA_REG[self.criterion](self.n_outputs_,\n",
      "KeyError: 'poisson'\n",
      "\n",
      "  warnings.warn(\"Estimator fit failed. The score on this train-test\"\n",
      "C:\\Users\\ASHUTOSH DAS\\anaconda3\\lib\\site-packages\\sklearn\\model_selection\\_validation.py:548: FitFailedWarning: Estimator fit failed. The score on this train-test partition for these parameters will be set to nan. Details: \n",
      "Traceback (most recent call last):\n",
      "  File \"C:\\Users\\ASHUTOSH DAS\\anaconda3\\lib\\site-packages\\sklearn\\model_selection\\_validation.py\", line 531, in _fit_and_score\n",
      "    estimator.fit(X_train, y_train, **fit_params)\n",
      "  File \"C:\\Users\\ASHUTOSH DAS\\anaconda3\\lib\\site-packages\\sklearn\\tree\\_classes.py\", line 1242, in fit\n",
      "    super().fit(\n",
      "  File \"C:\\Users\\ASHUTOSH DAS\\anaconda3\\lib\\site-packages\\sklearn\\tree\\_classes.py\", line 336, in fit\n",
      "    criterion = CRITERIA_REG[self.criterion](self.n_outputs_,\n",
      "KeyError: 'poisson'\n",
      "\n",
      "  warnings.warn(\"Estimator fit failed. The score on this train-test\"\n",
      "C:\\Users\\ASHUTOSH DAS\\anaconda3\\lib\\site-packages\\sklearn\\model_selection\\_validation.py:548: FitFailedWarning: Estimator fit failed. The score on this train-test partition for these parameters will be set to nan. Details: \n",
      "Traceback (most recent call last):\n",
      "  File \"C:\\Users\\ASHUTOSH DAS\\anaconda3\\lib\\site-packages\\sklearn\\model_selection\\_validation.py\", line 531, in _fit_and_score\n",
      "    estimator.fit(X_train, y_train, **fit_params)\n",
      "  File \"C:\\Users\\ASHUTOSH DAS\\anaconda3\\lib\\site-packages\\sklearn\\tree\\_classes.py\", line 1242, in fit\n",
      "    super().fit(\n",
      "  File \"C:\\Users\\ASHUTOSH DAS\\anaconda3\\lib\\site-packages\\sklearn\\tree\\_classes.py\", line 336, in fit\n",
      "    criterion = CRITERIA_REG[self.criterion](self.n_outputs_,\n",
      "KeyError: 'poisson'\n",
      "\n",
      "  warnings.warn(\"Estimator fit failed. The score on this train-test\"\n",
      "C:\\Users\\ASHUTOSH DAS\\anaconda3\\lib\\site-packages\\sklearn\\model_selection\\_validation.py:548: FitFailedWarning: Estimator fit failed. The score on this train-test partition for these parameters will be set to nan. Details: \n",
      "Traceback (most recent call last):\n",
      "  File \"C:\\Users\\ASHUTOSH DAS\\anaconda3\\lib\\site-packages\\sklearn\\model_selection\\_validation.py\", line 531, in _fit_and_score\n",
      "    estimator.fit(X_train, y_train, **fit_params)\n",
      "  File \"C:\\Users\\ASHUTOSH DAS\\anaconda3\\lib\\site-packages\\sklearn\\tree\\_classes.py\", line 1242, in fit\n",
      "    super().fit(\n",
      "  File \"C:\\Users\\ASHUTOSH DAS\\anaconda3\\lib\\site-packages\\sklearn\\tree\\_classes.py\", line 336, in fit\n",
      "    criterion = CRITERIA_REG[self.criterion](self.n_outputs_,\n",
      "KeyError: 'poisson'\n",
      "\n",
      "  warnings.warn(\"Estimator fit failed. The score on this train-test\"\n",
      "C:\\Users\\ASHUTOSH DAS\\anaconda3\\lib\\site-packages\\sklearn\\model_selection\\_validation.py:548: FitFailedWarning: Estimator fit failed. The score on this train-test partition for these parameters will be set to nan. Details: \n",
      "Traceback (most recent call last):\n",
      "  File \"C:\\Users\\ASHUTOSH DAS\\anaconda3\\lib\\site-packages\\sklearn\\model_selection\\_validation.py\", line 531, in _fit_and_score\n",
      "    estimator.fit(X_train, y_train, **fit_params)\n",
      "  File \"C:\\Users\\ASHUTOSH DAS\\anaconda3\\lib\\site-packages\\sklearn\\tree\\_classes.py\", line 1242, in fit\n",
      "    super().fit(\n",
      "  File \"C:\\Users\\ASHUTOSH DAS\\anaconda3\\lib\\site-packages\\sklearn\\tree\\_classes.py\", line 336, in fit\n",
      "    criterion = CRITERIA_REG[self.criterion](self.n_outputs_,\n",
      "KeyError: 'poisson'\n",
      "\n",
      "  warnings.warn(\"Estimator fit failed. The score on this train-test\"\n",
      "C:\\Users\\ASHUTOSH DAS\\anaconda3\\lib\\site-packages\\sklearn\\model_selection\\_validation.py:548: FitFailedWarning: Estimator fit failed. The score on this train-test partition for these parameters will be set to nan. Details: \n",
      "Traceback (most recent call last):\n",
      "  File \"C:\\Users\\ASHUTOSH DAS\\anaconda3\\lib\\site-packages\\sklearn\\model_selection\\_validation.py\", line 531, in _fit_and_score\n",
      "    estimator.fit(X_train, y_train, **fit_params)\n",
      "  File \"C:\\Users\\ASHUTOSH DAS\\anaconda3\\lib\\site-packages\\sklearn\\tree\\_classes.py\", line 1242, in fit\n",
      "    super().fit(\n",
      "  File \"C:\\Users\\ASHUTOSH DAS\\anaconda3\\lib\\site-packages\\sklearn\\tree\\_classes.py\", line 336, in fit\n",
      "    criterion = CRITERIA_REG[self.criterion](self.n_outputs_,\n",
      "KeyError: 'poisson'\n",
      "\n",
      "  warnings.warn(\"Estimator fit failed. The score on this train-test\"\n",
      "C:\\Users\\ASHUTOSH DAS\\anaconda3\\lib\\site-packages\\sklearn\\model_selection\\_validation.py:548: FitFailedWarning: Estimator fit failed. The score on this train-test partition for these parameters will be set to nan. Details: \n",
      "Traceback (most recent call last):\n",
      "  File \"C:\\Users\\ASHUTOSH DAS\\anaconda3\\lib\\site-packages\\sklearn\\model_selection\\_validation.py\", line 531, in _fit_and_score\n",
      "    estimator.fit(X_train, y_train, **fit_params)\n",
      "  File \"C:\\Users\\ASHUTOSH DAS\\anaconda3\\lib\\site-packages\\sklearn\\tree\\_classes.py\", line 1242, in fit\n",
      "    super().fit(\n",
      "  File \"C:\\Users\\ASHUTOSH DAS\\anaconda3\\lib\\site-packages\\sklearn\\tree\\_classes.py\", line 336, in fit\n",
      "    criterion = CRITERIA_REG[self.criterion](self.n_outputs_,\n",
      "KeyError: 'poisson'\n",
      "\n",
      "  warnings.warn(\"Estimator fit failed. The score on this train-test\"\n",
      "C:\\Users\\ASHUTOSH DAS\\anaconda3\\lib\\site-packages\\sklearn\\model_selection\\_validation.py:548: FitFailedWarning: Estimator fit failed. The score on this train-test partition for these parameters will be set to nan. Details: \n",
      "Traceback (most recent call last):\n",
      "  File \"C:\\Users\\ASHUTOSH DAS\\anaconda3\\lib\\site-packages\\sklearn\\model_selection\\_validation.py\", line 531, in _fit_and_score\n",
      "    estimator.fit(X_train, y_train, **fit_params)\n",
      "  File \"C:\\Users\\ASHUTOSH DAS\\anaconda3\\lib\\site-packages\\sklearn\\tree\\_classes.py\", line 1242, in fit\n",
      "    super().fit(\n",
      "  File \"C:\\Users\\ASHUTOSH DAS\\anaconda3\\lib\\site-packages\\sklearn\\tree\\_classes.py\", line 336, in fit\n",
      "    criterion = CRITERIA_REG[self.criterion](self.n_outputs_,\n",
      "KeyError: 'poisson'\n",
      "\n",
      "  warnings.warn(\"Estimator fit failed. The score on this train-test\"\n",
      "C:\\Users\\ASHUTOSH DAS\\anaconda3\\lib\\site-packages\\sklearn\\model_selection\\_validation.py:548: FitFailedWarning: Estimator fit failed. The score on this train-test partition for these parameters will be set to nan. Details: \n",
      "Traceback (most recent call last):\n",
      "  File \"C:\\Users\\ASHUTOSH DAS\\anaconda3\\lib\\site-packages\\sklearn\\model_selection\\_validation.py\", line 531, in _fit_and_score\n",
      "    estimator.fit(X_train, y_train, **fit_params)\n",
      "  File \"C:\\Users\\ASHUTOSH DAS\\anaconda3\\lib\\site-packages\\sklearn\\tree\\_classes.py\", line 1242, in fit\n",
      "    super().fit(\n",
      "  File \"C:\\Users\\ASHUTOSH DAS\\anaconda3\\lib\\site-packages\\sklearn\\tree\\_classes.py\", line 336, in fit\n",
      "    criterion = CRITERIA_REG[self.criterion](self.n_outputs_,\n",
      "KeyError: 'poisson'\n",
      "\n",
      "  warnings.warn(\"Estimator fit failed. The score on this train-test\"\n",
      "C:\\Users\\ASHUTOSH DAS\\anaconda3\\lib\\site-packages\\sklearn\\model_selection\\_validation.py:548: FitFailedWarning: Estimator fit failed. The score on this train-test partition for these parameters will be set to nan. Details: \n",
      "Traceback (most recent call last):\n",
      "  File \"C:\\Users\\ASHUTOSH DAS\\anaconda3\\lib\\site-packages\\sklearn\\model_selection\\_validation.py\", line 531, in _fit_and_score\n",
      "    estimator.fit(X_train, y_train, **fit_params)\n",
      "  File \"C:\\Users\\ASHUTOSH DAS\\anaconda3\\lib\\site-packages\\sklearn\\tree\\_classes.py\", line 1242, in fit\n",
      "    super().fit(\n",
      "  File \"C:\\Users\\ASHUTOSH DAS\\anaconda3\\lib\\site-packages\\sklearn\\tree\\_classes.py\", line 336, in fit\n",
      "    criterion = CRITERIA_REG[self.criterion](self.n_outputs_,\n",
      "KeyError: 'poisson'\n",
      "\n",
      "  warnings.warn(\"Estimator fit failed. The score on this train-test\"\n",
      "C:\\Users\\ASHUTOSH DAS\\anaconda3\\lib\\site-packages\\sklearn\\model_selection\\_validation.py:548: FitFailedWarning: Estimator fit failed. The score on this train-test partition for these parameters will be set to nan. Details: \n",
      "Traceback (most recent call last):\n",
      "  File \"C:\\Users\\ASHUTOSH DAS\\anaconda3\\lib\\site-packages\\sklearn\\model_selection\\_validation.py\", line 531, in _fit_and_score\n",
      "    estimator.fit(X_train, y_train, **fit_params)\n",
      "  File \"C:\\Users\\ASHUTOSH DAS\\anaconda3\\lib\\site-packages\\sklearn\\tree\\_classes.py\", line 1242, in fit\n",
      "    super().fit(\n",
      "  File \"C:\\Users\\ASHUTOSH DAS\\anaconda3\\lib\\site-packages\\sklearn\\tree\\_classes.py\", line 336, in fit\n",
      "    criterion = CRITERIA_REG[self.criterion](self.n_outputs_,\n",
      "KeyError: 'poisson'\n",
      "\n",
      "  warnings.warn(\"Estimator fit failed. The score on this train-test\"\n",
      "C:\\Users\\ASHUTOSH DAS\\anaconda3\\lib\\site-packages\\sklearn\\model_selection\\_validation.py:548: FitFailedWarning: Estimator fit failed. The score on this train-test partition for these parameters will be set to nan. Details: \n",
      "Traceback (most recent call last):\n",
      "  File \"C:\\Users\\ASHUTOSH DAS\\anaconda3\\lib\\site-packages\\sklearn\\model_selection\\_validation.py\", line 531, in _fit_and_score\n",
      "    estimator.fit(X_train, y_train, **fit_params)\n",
      "  File \"C:\\Users\\ASHUTOSH DAS\\anaconda3\\lib\\site-packages\\sklearn\\tree\\_classes.py\", line 1242, in fit\n",
      "    super().fit(\n",
      "  File \"C:\\Users\\ASHUTOSH DAS\\anaconda3\\lib\\site-packages\\sklearn\\tree\\_classes.py\", line 336, in fit\n",
      "    criterion = CRITERIA_REG[self.criterion](self.n_outputs_,\n",
      "KeyError: 'poisson'\n",
      "\n",
      "  warnings.warn(\"Estimator fit failed. The score on this train-test\"\n",
      "C:\\Users\\ASHUTOSH DAS\\anaconda3\\lib\\site-packages\\sklearn\\model_selection\\_validation.py:548: FitFailedWarning: Estimator fit failed. The score on this train-test partition for these parameters will be set to nan. Details: \n",
      "Traceback (most recent call last):\n",
      "  File \"C:\\Users\\ASHUTOSH DAS\\anaconda3\\lib\\site-packages\\sklearn\\model_selection\\_validation.py\", line 531, in _fit_and_score\n",
      "    estimator.fit(X_train, y_train, **fit_params)\n",
      "  File \"C:\\Users\\ASHUTOSH DAS\\anaconda3\\lib\\site-packages\\sklearn\\tree\\_classes.py\", line 1242, in fit\n",
      "    super().fit(\n",
      "  File \"C:\\Users\\ASHUTOSH DAS\\anaconda3\\lib\\site-packages\\sklearn\\tree\\_classes.py\", line 336, in fit\n",
      "    criterion = CRITERIA_REG[self.criterion](self.n_outputs_,\n",
      "KeyError: 'poisson'\n",
      "\n",
      "  warnings.warn(\"Estimator fit failed. The score on this train-test\"\n",
      "C:\\Users\\ASHUTOSH DAS\\anaconda3\\lib\\site-packages\\sklearn\\model_selection\\_validation.py:548: FitFailedWarning: Estimator fit failed. The score on this train-test partition for these parameters will be set to nan. Details: \n",
      "Traceback (most recent call last):\n",
      "  File \"C:\\Users\\ASHUTOSH DAS\\anaconda3\\lib\\site-packages\\sklearn\\model_selection\\_validation.py\", line 531, in _fit_and_score\n",
      "    estimator.fit(X_train, y_train, **fit_params)\n",
      "  File \"C:\\Users\\ASHUTOSH DAS\\anaconda3\\lib\\site-packages\\sklearn\\tree\\_classes.py\", line 1242, in fit\n",
      "    super().fit(\n",
      "  File \"C:\\Users\\ASHUTOSH DAS\\anaconda3\\lib\\site-packages\\sklearn\\tree\\_classes.py\", line 336, in fit\n",
      "    criterion = CRITERIA_REG[self.criterion](self.n_outputs_,\n",
      "KeyError: 'poisson'\n",
      "\n",
      "  warnings.warn(\"Estimator fit failed. The score on this train-test\"\n",
      "C:\\Users\\ASHUTOSH DAS\\anaconda3\\lib\\site-packages\\sklearn\\model_selection\\_validation.py:548: FitFailedWarning: Estimator fit failed. The score on this train-test partition for these parameters will be set to nan. Details: \n",
      "Traceback (most recent call last):\n",
      "  File \"C:\\Users\\ASHUTOSH DAS\\anaconda3\\lib\\site-packages\\sklearn\\model_selection\\_validation.py\", line 531, in _fit_and_score\n",
      "    estimator.fit(X_train, y_train, **fit_params)\n",
      "  File \"C:\\Users\\ASHUTOSH DAS\\anaconda3\\lib\\site-packages\\sklearn\\tree\\_classes.py\", line 1242, in fit\n",
      "    super().fit(\n",
      "  File \"C:\\Users\\ASHUTOSH DAS\\anaconda3\\lib\\site-packages\\sklearn\\tree\\_classes.py\", line 336, in fit\n",
      "    criterion = CRITERIA_REG[self.criterion](self.n_outputs_,\n",
      "KeyError: 'poisson'\n",
      "\n",
      "  warnings.warn(\"Estimator fit failed. The score on this train-test\"\n",
      "C:\\Users\\ASHUTOSH DAS\\anaconda3\\lib\\site-packages\\sklearn\\model_selection\\_validation.py:548: FitFailedWarning: Estimator fit failed. The score on this train-test partition for these parameters will be set to nan. Details: \n",
      "Traceback (most recent call last):\n",
      "  File \"C:\\Users\\ASHUTOSH DAS\\anaconda3\\lib\\site-packages\\sklearn\\model_selection\\_validation.py\", line 531, in _fit_and_score\n",
      "    estimator.fit(X_train, y_train, **fit_params)\n",
      "  File \"C:\\Users\\ASHUTOSH DAS\\anaconda3\\lib\\site-packages\\sklearn\\tree\\_classes.py\", line 1242, in fit\n",
      "    super().fit(\n",
      "  File \"C:\\Users\\ASHUTOSH DAS\\anaconda3\\lib\\site-packages\\sklearn\\tree\\_classes.py\", line 336, in fit\n",
      "    criterion = CRITERIA_REG[self.criterion](self.n_outputs_,\n",
      "KeyError: 'poisson'\n",
      "\n",
      "  warnings.warn(\"Estimator fit failed. The score on this train-test\"\n",
      "C:\\Users\\ASHUTOSH DAS\\anaconda3\\lib\\site-packages\\sklearn\\model_selection\\_validation.py:548: FitFailedWarning: Estimator fit failed. The score on this train-test partition for these parameters will be set to nan. Details: \n",
      "Traceback (most recent call last):\n",
      "  File \"C:\\Users\\ASHUTOSH DAS\\anaconda3\\lib\\site-packages\\sklearn\\model_selection\\_validation.py\", line 531, in _fit_and_score\n",
      "    estimator.fit(X_train, y_train, **fit_params)\n",
      "  File \"C:\\Users\\ASHUTOSH DAS\\anaconda3\\lib\\site-packages\\sklearn\\tree\\_classes.py\", line 1242, in fit\n",
      "    super().fit(\n",
      "  File \"C:\\Users\\ASHUTOSH DAS\\anaconda3\\lib\\site-packages\\sklearn\\tree\\_classes.py\", line 336, in fit\n",
      "    criterion = CRITERIA_REG[self.criterion](self.n_outputs_,\n",
      "KeyError: 'poisson'\n",
      "\n",
      "  warnings.warn(\"Estimator fit failed. The score on this train-test\"\n",
      "C:\\Users\\ASHUTOSH DAS\\anaconda3\\lib\\site-packages\\sklearn\\model_selection\\_validation.py:548: FitFailedWarning: Estimator fit failed. The score on this train-test partition for these parameters will be set to nan. Details: \n",
      "Traceback (most recent call last):\n",
      "  File \"C:\\Users\\ASHUTOSH DAS\\anaconda3\\lib\\site-packages\\sklearn\\model_selection\\_validation.py\", line 531, in _fit_and_score\n",
      "    estimator.fit(X_train, y_train, **fit_params)\n",
      "  File \"C:\\Users\\ASHUTOSH DAS\\anaconda3\\lib\\site-packages\\sklearn\\tree\\_classes.py\", line 1242, in fit\n",
      "    super().fit(\n",
      "  File \"C:\\Users\\ASHUTOSH DAS\\anaconda3\\lib\\site-packages\\sklearn\\tree\\_classes.py\", line 336, in fit\n",
      "    criterion = CRITERIA_REG[self.criterion](self.n_outputs_,\n",
      "KeyError: 'poisson'\n",
      "\n",
      "  warnings.warn(\"Estimator fit failed. The score on this train-test\"\n"
     ]
    },
    {
     "data": {
      "text/plain": [
       "{'criterion': 'friedman_mse', 'max_depth': 100, 'splitter': 'random'}"
      ]
     },
     "execution_count": 36,
     "metadata": {},
     "output_type": "execute_result"
    }
   ],
   "source": [
    "Selected_Pred = ['n_carriers','total_nights','n_sightseeing_places', 'meals']\n",
    "Target_Var = 'per person price'\n",
    "\n",
    "\n",
    "parameters = {'criterion':('mse',  'mae', 'friedman_mse','poisson' ), 'max_depth':[75,100,125,150],\n",
    "              'splitter':('best','random')}\n",
    "\n",
    "RegModel = DecisionTreeRegressor()\n",
    "clf = GridSearchCV(RegModel, parameters)\n",
    "clf.fit(X_train, y_train)\n",
    "clf.best_params_"
   ]
  },
  {
   "cell_type": "code",
   "execution_count": 39,
   "metadata": {},
   "outputs": [
    {
     "name": "stdout",
     "output_type": "stream",
     "text": [
      "RMSLE value is:  0.29\n"
     ]
    }
   ],
   "source": [
    "# Checking the RMSLE Score by using the Recommended Hyper-parameters\n",
    "\n",
    "RegModel_dt=DecisionTreeRegressor(criterion='friedman_mse',max_depth=100,\n",
    "                              splitter='best')\n",
    "Mdl_dt=RegModel.fit(X_train,y_train)\n",
    "prediction_dt=Mdl.predict(X_test)\n",
    "MSLE_dt = mean_squared_log_error(abs(y_train), abs(RegModel.predict(X_train)))\n",
    "RMSLE_dt = np.sqrt(MSLE_dt)\n",
    "\n",
    "print('RMSLE value is: ', np.round(RMSLE_dt,2))"
   ]
  },
  {
   "cell_type": "code",
   "execution_count": null,
   "metadata": {},
   "outputs": [],
   "source": [
    "# Predicted Values By the Decision Tree\n",
    "\n",
    "dt_results = pd.DataFrame(data=X_test, columns = Predictors)\n",
    "\n",
    "dt_results[TargetVariable]=y_test\n",
    "dt_results[('Predicted'+TargetVariable)]=np.round(prediction)\n"
   ]
  },
  {
   "cell_type": "markdown",
   "metadata": {},
   "source": [
    "## XGBoost"
   ]
  },
  {
   "cell_type": "code",
   "execution_count": 26,
   "metadata": {},
   "outputs": [
    {
     "data": {
      "text/plain": [
       "<matplotlib.axes._subplots.AxesSubplot at 0x251fda19910>"
      ]
     },
     "execution_count": 26,
     "metadata": {},
     "output_type": "execute_result"
    },
    {
     "data": {
      "image/png": "[encoded data removed]",
      "text/plain": [
       "<Figure size 432x288 with 1 Axes>"
      ]
     },
     "metadata": {
      "needs_background": "light"
     },
     "output_type": "display_data"
    }
   ],
   "source": [
    "RegModel=XGBRegressor()\n",
    "Mdl=RegModel.fit(X_train,y_train)\n",
    "prediction=Mdl.predict(X_test)\n",
    "\n",
    "# Plotting the feature importance for Top 10 most important columns\n",
    "%matplotlib inline\n",
    "feature_importances = pd.Series(Mdl.feature_importances_, index=Predictors)\n",
    "feature_importances.nlargest(10).plot(kind='barh')"
   ]
  },
  {
   "cell_type": "markdown",
   "metadata": {},
   "source": [
    "#### Hyper Parameter Tuning"
   ]
  },
  {
   "cell_type": "code",
   "execution_count": 40,
   "metadata": {},
   "outputs": [
    {
     "data": {
      "text/plain": [
       "{'booster': 'gbtree', 'learning_rate': 0.3}"
      ]
     },
     "execution_count": 40,
     "metadata": {},
     "output_type": "execute_result"
    }
   ],
   "source": [
    "Selected_Pred = ['n_carriers','total_nights','n_sightseeing_places', 'meals']\n",
    "Target_Var = 'per person price'\n",
    "\n",
    "parameters = {'booster':('gbtree',  'gblinear', 'dart'),\n",
    "              'learning_rate':[0.1,0.3,0.5,0.6,0.8]}\n",
    "\n",
    "RegModel = XGBRegressor()\n",
    "clf = GridSearchCV(RegModel, parameters)\n",
    "clf.fit(X_train, y_train)\n",
    "clf.best_params_"
   ]
  },
  {
   "cell_type": "code",
   "execution_count": 41,
   "metadata": {},
   "outputs": [
    {
     "name": "stdout",
     "output_type": "stream",
     "text": [
      "RMSLE value is:  0.29\n"
     ]
    }
   ],
   "source": [
    "# Checking the RMSLE Score by using the Recommended Hyper-parameters\n",
    "\n",
    "RegModel_XGB=XGBRegressor(booster='gbtree',learning_rate=0.3)\n",
    "Mdl_XGB=RegModel.fit(X_train,y_train)\n",
    "prediction_XGB=Mdl.predict(X_test)\n",
    "MSLE_XGB = mean_squared_log_error(abs(y_train), abs(RegModel.predict(X_train)))\n",
    "RMSLE_XGB = np.sqrt(MSLE_XGB)\n",
    "\n",
    "print('RMSLE value is: ', np.round(RMSLE,2))"
   ]
  },
  {
   "cell_type": "code",
   "execution_count": 42,
   "metadata": {},
   "outputs": [],
   "source": [
    "# Predicted Values By the XGBoost\n",
    "\n",
    "XGB_results = pd.DataFrame(data=X_test, columns = Predictors)\n",
    "\n",
    "XGB_results[TargetVariable]=y_test\n",
    "XGB_results[('Predicted'+TargetVariable)]=np.round(prediction_XGB)"
   ]
  },
  {
   "cell_type": "markdown",
   "metadata": {},
   "source": [
    "## Cross-validation for the Selected Models"
   ]
  },
  {
   "cell_type": "code",
   "execution_count": 51,
   "metadata": {},
   "outputs": [
    {
     "name": "stdout",
     "output_type": "stream",
     "text": [
      "\n",
      "RMSLE values for 10-fold Cross Validation:\n",
      " [0.36 0.34 0.33 0.36 0.33 0.34 0.35 0.36 0.35 0.35]\n",
      "\n",
      "Final Average RMSLE values of the model: 0.35\n",
      "\n",
      "Accuracy values for 10-fold Cross Validation:\n",
      " [0.34 0.34 0.32 0.35 0.32 0.33 0.34 0.35 0.34 0.34]\n",
      "\n",
      "Final Average Accuracy of the model: 0.34\n"
     ]
    }
   ],
   "source": [
    "# Defining a custom scorer\n",
    "\n",
    "def custom_RMSLE(orig,pred):\n",
    "    MSLE = mean_squared_log_error(abs(orig), abs(pred))\n",
    "    RMSLE = np.sqrt(MSLE)\n",
    "    return (np.round(RMSLE,2))\n",
    "\n",
    "custom_Scoring=make_scorer(custom_RMSLE, greater_is_better=True)\n",
    "\n",
    "# Cross-validating on Decision Tree\n",
    "\n",
    "RMSLE_Values=cross_val_score(RegModel_dt, X , y, cv=10, scoring=custom_Scoring)\n",
    "print('\\nRMSLE values for 10-fold Cross Validation:\\n',RMSLE_Values)\n",
    "print('\\nFinal Average RMSLE values of the model:', round(RMSLE_Values.mean(),2))\n",
    "\n",
    "# Cross-validating on XGBoost\n",
    "\n",
    "RMSLE_Values=cross_val_score(RegModel_XGB, X , y, cv=10, scoring=custom_Scoring)\n",
    "print('\\nAccuracy values for 10-fold Cross Validation:\\n',RMSLE_Values)\n",
    "print('\\nFinal Average Accuracy of the model:', round(RMSLE_Values.mean(),2))"
   ]
  },
  {
   "cell_type": "markdown",
   "metadata": {},
   "source": [
    "# Retraining the Model using 100% of the data"
   ]
  },
  {
   "cell_type": "code",
   "execution_count": 55,
   "metadata": {},
   "outputs": [
    {
     "name": "stdout",
     "output_type": "stream",
     "text": [
      "pickle file location: C:\\Users\\ASHUTOSH DAS\\Documents\\Compettitions\\Machine Hack\\Workation_price_pred\n"
     ]
    }
   ],
   "source": [
    "Final_XGB_Model=RegModel.fit(X,y)\n",
    "\n",
    "# Model Export\n",
    "\n",
    "with open('Final_XGB_Model.pkl', 'wb') as fileWriteStream:\n",
    "    pickle.dump(Final_XGB_Model, fileWriteStream)\n",
    "    fileWriteStream.close()\n",
    "    \n",
    "print('pickle file location:', os.getcwd())"
   ]
  },
  {
   "cell_type": "markdown",
   "metadata": {},
   "source": [
    "# Generating Predictions"
   ]
  },
  {
   "cell_type": "code",
   "execution_count": 63,
   "metadata": {},
   "outputs": [],
   "source": [
    "with open('Final_XGB_Model.pkl', 'rb') as fileReadStream:\n",
    "        PredictionModel=pickle.load(fileReadStream)\n",
    "        # Don't forget to close the filestream!\n",
    "        fileReadStream.close()\n",
    "        \n",
    "Predictors = ['flight stops','meals','start city','total_nights','n_carriers',\n",
    " 'n_sightseeing_places','room_priority','cancellation rules','return_to_first']\n",
    "\n",
    "X_gen = df_test[Predictors]\n",
    "\n",
    "PredictorScaler=MinMaxScaler()\n",
    "PredictorScalerFit=PredictorScaler.fit(X_gen)\n",
    "X_gen=PredictorScalerFit.transform(X_gen)\n",
    "\n",
    "# GenPrice Predictions\n",
    "Prediction=PredictionModel.predict(X_gen)\n",
    "PredictionResult=pd.DataFrame(Prediction, columns=['Prediction'])\n",
    "\n",
    "# Exporting the Predictions\n",
    "PredictionResult.to_csv('workation_submission.csv', index=False)"
   ]
  },
  {
   "cell_type": "code",
   "execution_count": null,
   "metadata": {},
   "outputs": [],
   "source": []
  }
 ],
 "metadata": {
  "kernelspec": {
   "display_name": "Python 3",
   "language": "python",
   "name": "python3"
  },
  "language_info": {
   "codemirror_mode": {
    "name": "ipython",
    "version": 3
   },
   "file_extension": ".py",
   "mimetype": "text/x-python",
   "name": "python",
   "nbconvert_exporter": "python",
   "pygments_lexer": "ipython3",
   "version": "3.8.3"
  }
 },
 "nbformat": 4,
 "nbformat_minor": 4
}
